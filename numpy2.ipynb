{
 "cells": [
  {
   "cell_type": "code",
   "execution_count": 1,
   "id": "8958a3ed",
   "metadata": {},
   "outputs": [],
   "source": [
    "import numpy as np"
   ]
  },
  {
   "cell_type": "code",
   "execution_count": 2,
   "id": "73dee256",
   "metadata": {},
   "outputs": [
    {
     "name": "stdout",
     "output_type": "stream",
     "text": [
      "array a: [1 2 3]\n"
     ]
    }
   ],
   "source": [
    "a = np.array([1,2,3])\n",
    "print('array a:',a)"
   ]
  },
  {
   "cell_type": "code",
   "execution_count": 4,
   "id": "c1ceaacc",
   "metadata": {},
   "outputs": [
    {
     "name": "stdout",
     "output_type": "stream",
     "text": [
      "array b :  [0 2 4 6 8]\n"
     ]
    }
   ],
   "source": [
    "b = np.arange(0,10,2)\n",
    "print('array b : ',b)"
   ]
  },
  {
   "cell_type": "code",
   "execution_count": 5,
   "id": "b65ff4e1",
   "metadata": {},
   "outputs": [
    {
     "name": "stdout",
     "output_type": "stream",
     "text": [
      "array c : [0.   0.25 0.5  0.75 1.  ]\n"
     ]
    }
   ],
   "source": [
    "c = np.linspace(0,1,5)\n",
    "print('array c :', c)"
   ]
  },
  {
   "cell_type": "code",
   "execution_count": 6,
   "id": "06f0010c",
   "metadata": {},
   "outputs": [
    {
     "name": "stdout",
     "output_type": "stream",
     "text": [
      "array d:\n",
      " [[0. 0. 0.]\n",
      " [0. 0. 0.]]\n"
     ]
    }
   ],
   "source": [
    "d = np.zeros((2,3))\n",
    "print('array d:\\n',d)"
   ]
  },
  {
   "cell_type": "code",
   "execution_count": 7,
   "id": "374c2b31",
   "metadata": {},
   "outputs": [
    {
     "name": "stdout",
     "output_type": "stream",
     "text": [
      "array e:\n",
      " [[1. 1.]\n",
      " [1. 1.]\n",
      " [1. 1.]]\n"
     ]
    }
   ],
   "source": [
    "e = np.ones((3,2))\n",
    "print('array e:\\n',e)"
   ]
  },
  {
   "cell_type": "code",
   "execution_count": 8,
   "id": "eff6bf3b",
   "metadata": {},
   "outputs": [
    {
     "name": "stdout",
     "output_type": "stream",
     "text": [
      "identity matrix f:\n",
      " [[1. 0. 0. 0.]\n",
      " [0. 1. 0. 0.]\n",
      " [0. 0. 1. 0.]\n",
      " [0. 0. 0. 1.]]\n"
     ]
    }
   ],
   "source": [
    "f = np.eye(4)\n",
    "print('identity matrix f:\\n',f)"
   ]
  },
  {
   "cell_type": "code",
   "execution_count": 9,
   "id": "81fc75ad",
   "metadata": {},
   "outputs": [
    {
     "name": "stdout",
     "output_type": "stream",
     "text": [
      "reshaped array : [[1 2 3]]\n"
     ]
    }
   ],
   "source": [
    "a1 = np.array([1,2,3])\n",
    "reshapes = np.reshape(a1,(1,3))\n",
    "print('reshaped array :',reshapes)"
   ]
  },
  {
   "cell_type": "code",
   "execution_count": 10,
   "id": "353791dc",
   "metadata": {},
   "outputs": [
    {
     "name": "stdout",
     "output_type": "stream",
     "text": [
      "flattened array: [1 2 3 4]\n"
     ]
    }
   ],
   "source": [
    "f1 = np.array([[1,2],[3,4]])\n",
    "flattened = np.ravel(f1)\n",
    "print('flattened array:', flattened)"
   ]
  },
  {
   "cell_type": "code",
   "execution_count": 11,
   "id": "3b578915",
   "metadata": {},
   "outputs": [
    {
     "name": "stdout",
     "output_type": "stream",
     "text": [
      "transposed array :\n",
      " [[1 4]\n",
      " [2 5]\n",
      " [3 6]]\n"
     ]
    }
   ],
   "source": [
    "e1 = np.array([[1,2,3],[4,5,6]])\n",
    "transposed = np.transpose(e1)\n",
    "print('transposed array :\\n', transposed)"
   ]
  },
  {
   "cell_type": "code",
   "execution_count": 12,
   "id": "58193ab1",
   "metadata": {},
   "outputs": [
    {
     "name": "stdout",
     "output_type": "stream",
     "text": [
      "stacked arrays:\n",
      " [[1 2]\n",
      " [3 4]]\n"
     ]
    }
   ],
   "source": [
    "a2 = np.array([1,2])\n",
    "b2 = np.array([3,4])\n",
    "stacked = np.vstack([a2,b2])\n",
    "print('stacked arrays:\\n',stacked)"
   ]
  },
  {
   "cell_type": "code",
   "execution_count": 13,
   "id": "dc5ec29c",
   "metadata": {},
   "outputs": [
    {
     "name": "stdout",
     "output_type": "stream",
     "text": [
      "stacked arrays:\n",
      " [1 2 3 4]\n"
     ]
    }
   ],
   "source": [
    "a2 = np.array([1,2])\n",
    "b2 = np.array([3,4])\n",
    "stacked = np.hstack([a2,b2])\n",
    "print('stacked arrays:\\n',stacked)"
   ]
  },
  {
   "cell_type": "code",
   "execution_count": null,
   "id": "a55bbef1",
   "metadata": {},
   "outputs": [],
   "source": []
  },
  {
   "cell_type": "markdown",
   "id": "95fbd003",
   "metadata": {},
   "source": [
    "mathematical functions"
   ]
  },
  {
   "cell_type": "code",
   "execution_count": 14,
   "id": "b9810c5d",
   "metadata": {},
   "outputs": [
    {
     "name": "stdout",
     "output_type": "stream",
     "text": [
      "added 2 to g: [3 4 5 6]\n"
     ]
    }
   ],
   "source": [
    "#add to arays\n",
    "g = np.array([1,2,3,4])\n",
    "added = np.add(g,2)\n",
    "print('added 2 to g:',added)"
   ]
  },
  {
   "cell_type": "code",
   "execution_count": 15,
   "metadata": {},
   "outputs": [
    {
     "name": "stdout",
     "output_type": "stream",
     "text": [
      "squared g: [ 1  4  9 16]\n"
     ]
    }
   ],
   "source": [
    "squared = np.power(g,2)\n",
    "print('squared g:',squared)"
   ]
  },
  {
   "cell_type": "code",
   "execution_count": 16,
   "id": "0137d062",
   "metadata": {},
   "outputs": [
    {
     "name": "stdout",
     "output_type": "stream",
     "text": [
      "square root of g: [1.         1.41421356 1.73205081 2.        ]\n"
     ]
    }
   ],
   "source": [
    "sqrt = np.sqrt(g)\n",
    "print('square root of g:',sqrt)"
   ]
  },
  {
   "cell_type": "code",
   "execution_count": 17,
   "metadata": {},
   "outputs": [
    {
     "name": "stdout",
     "output_type": "stream",
     "text": [
      "[1 2 3]\n",
      "[1 2 3 4]\n"
     ]
    }
   ],
   "source": [
    "print(a1)\n",
    "print(g)"
   ]
  },
  {
   "cell_type": "code",
   "execution_count": 18,
   "id": "17dd6fcc",
   "metadata": {},
   "outputs": [
    {
     "ename": "ValueError",
     "evalue": "shapes (3,) and (4,) not aligned: 3 (dim 0) != 4 (dim 0)",
     "output_type": "error",
     "traceback": [
      "\u001b[31m---------------------------------------------------------------------------\u001b[39m",
      "\u001b[31mValueError\u001b[39m                                Traceback (most recent call last)",
      "\u001b[36mCell\u001b[39m\u001b[36m \u001b[39m\u001b[32mIn[18]\u001b[39m\u001b[32m, line 2\u001b[39m\n\u001b[32m      1\u001b[39m a2 = np.array([\u001b[32m1\u001b[39m,\u001b[32m2\u001b[39m,\u001b[32m3\u001b[39m])\n\u001b[32m----> \u001b[39m\u001b[32m2\u001b[39m dot_product = \u001b[43mnp\u001b[49m\u001b[43m.\u001b[49m\u001b[43mdot\u001b[49m\u001b[43m(\u001b[49m\u001b[43ma2\u001b[49m\u001b[43m,\u001b[49m\u001b[43mg\u001b[49m\u001b[43m)\u001b[49m\n\u001b[32m      3\u001b[39m \u001b[38;5;28mprint\u001b[39m(\u001b[33m'\u001b[39m\u001b[33mdot product of a and g:\u001b[39m\u001b[33m'\u001b[39m, dot_product)\n",
      "\u001b[31mValueError\u001b[39m: shapes (3,) and (4,) not aligned: 3 (dim 0) != 4 (dim 0)"
     ]
    }
   ],
   "source": [
    "a2 = np.array([1,2,3])\n",
    "dot_product = np.dot(a2,g)\n",
    "print('dot product of a and g:', dot_product)"
   ]
  },
  {
   "cell_type": "code",
   "execution_count": 19,
   "id": "37934a61",
   "metadata": {},
   "outputs": [
    {
     "name": "stdout",
     "output_type": "stream",
     "text": [
      "[1 2 3]\n",
      "[1 2 3]\n"
     ]
    }
   ],
   "source": [
    "print(a)\n",
    "print(a1)"
   ]
  },
  {
   "cell_type": "code",
   "execution_count": 20,
   "id": "7872265b",
   "metadata": {},
   "outputs": [
    {
     "name": "stdout",
     "output_type": "stream",
     "text": [
      "Dot product of a1 and a: 14\n"
     ]
    }
   ],
   "source": [
    "a3 = np.array([1, 2, 3])\n",
    "dot_product = np.dot(a1, a)  # Dot product of a and g\n",
    "print(\"Dot product of a1 and a:\", dot_product)"
   ]
  },
  {
   "cell_type": "markdown",
   "id": "0b3dd4a3",
   "metadata": {},
   "source": [
    "statistical functiions"
   ]
  },
  {
   "cell_type": "code",
   "execution_count": 21,
   "id": "e49f039c",
   "metadata": {},
   "outputs": [
    {
     "name": "stdout",
     "output_type": "stream",
     "text": [
      "mean of s: 2.5\n"
     ]
    }
   ],
   "source": [
    "s = np.array([1,2,3,4])\n",
    "mean = np.mean(s)\n",
    "print('mean of s:',mean)"
   ]
  },
  {
   "cell_type": "code",
   "execution_count": 22,
   "metadata": {},
   "outputs": [
    {
     "name": "stdout",
     "output_type": "stream",
     "text": [
      "standard deviation of s: 1.118033988749895\n"
     ]
    }
   ],
   "source": [
    "std_dev = np.std(s)\n",
    "print('standard deviation of s:',std_dev)"
   ]
  },
  {
   "cell_type": "code",
   "execution_count": 23,
   "id": "2ebad97e",
   "metadata": {},
   "outputs": [
    {
     "name": "stdout",
     "output_type": "stream",
     "text": [
      "min of s : 1\n"
     ]
    }
   ],
   "source": [
    "minimum =np.min(s)\n",
    "print('min of s :',minimum)"
   ]
  },
  {
   "cell_type": "code",
   "execution_count": 24,
   "id": "1cf7bc29",
   "metadata": {},
   "outputs": [
    {
     "name": "stdout",
     "output_type": "stream",
     "text": [
      "maxi of s : 4\n"
     ]
    }
   ],
   "source": [
    "maximum = np.max(s)\n",
    "print('maxi of s :',maximum)"
   ]
  },
  {
   "cell_type": "markdown",
   "id": "7d28038a",
   "metadata": {},
   "source": [
    "linear algebra functions\n"
   ]
  },
  {
   "cell_type": "code",
   "execution_count": 25,
   "id": "98327635",
   "metadata": {},
   "outputs": [],
   "source": [
    "matrix = np.array([[1,2],[3,4]])\n"
   ]
  },
  {
   "cell_type": "code",
   "execution_count": 26,
   "id": "0e479a28",
   "metadata": {},
   "outputs": [
    {
     "name": "stdout",
     "output_type": "stream",
     "text": [
      "determinant of matrix : -2.0000000000000004\n"
     ]
    }
   ],
   "source": [
    "determinants = np.linalg.det(matrix)\n",
    "print('determinant of matrix :',determinants)"
   ]
  },
  {
   "cell_type": "code",
   "execution_count": 27,
   "id": "308ed068",
   "metadata": {},
   "outputs": [
    {
     "name": "stdout",
     "output_type": "stream",
     "text": [
      "inverse of matrix:\n",
      " [[-2.   1. ]\n",
      " [ 1.5 -0.5]]\n"
     ]
    }
   ],
   "source": [
    "inverse = np.linalg.inv(matrix)\n",
    "print('inverse of matrix:\\n',inverse)"
   ]
  },
  {
   "cell_type": "markdown",
   "id": "4cf14b1d",
   "metadata": {},
   "source": [
    "random sampling"
   ]
  },
  {
   "cell_type": "code",
   "execution_count": 28,
   "id": "c667a950",
   "metadata": {},
   "outputs": [
    {
     "name": "stdout",
     "output_type": "stream",
     "text": [
      "random values: [0.15631527 0.73014429 0.61149405]\n"
     ]
    }
   ],
   "source": [
    "random_vals = np.random.rand(3)\n",
    "print('random values:',random_vals)"
   ]
  },
  {
   "cell_type": "code",
   "execution_count": 29,
   "metadata": {},
   "outputs": [
    {
     "name": "stdout",
     "output_type": "stream",
     "text": [
      "random valaues: [0.5488135  0.71518937 0.60276338]\n"
     ]
    }
   ],
   "source": [
    "np.random.seed(0)\n",
    "\n",
    "random_vals = np.random.rand(3)\n",
    "print('random valaues:',random_vals)"
   ]
  },
  {
   "cell_type": "code",
   "execution_count": 31,
   "id": "a3fd009d",
   "metadata": {},
   "outputs": [
    {
     "name": "stdout",
     "output_type": "stream",
     "text": [
      "random integers: [3 7 9 3 5]\n"
     ]
    }
   ],
   "source": [
    "rand_ints = np.random.randint(0,10, size=5)\n",
    "print('random integers:',rand_ints)"
   ]
  },
  {
   "cell_type": "code",
   "execution_count": 33,
   "id": "012e4cf5",
   "metadata": {},
   "outputs": [
    {
     "name": "stdout",
     "output_type": "stream",
     "text": [
      "random integers: [5 0 3 3 7]\n"
     ]
    }
   ],
   "source": [
    "np.random.seed(0)\n",
    "rand_ints = np.random.randint(0,10,size=5)\n",
    "print('random integers:',rand_ints)"
   ]
  },
  {
   "cell_type": "markdown",
   "id": "47d52521",
   "metadata": {},
   "source": [
    "boolean and logical function"
   ]
  },
  {
   "cell_type": "code",
   "execution_count": 34,
   "id": "12cabcd8",
   "metadata": {},
   "outputs": [
    {
     "name": "stdout",
     "output_type": "stream",
     "text": [
      "all elements True: False\n"
     ]
    }
   ],
   "source": [
    "logical_test = np.array([True,False,True])\n",
    "all_true = np.all(logical_test)\n",
    "print('all elements True:',all_true)"
   ]
  },
  {
   "cell_type": "code",
   "execution_count": 35,
   "id": "3f505034",
   "metadata": {},
   "outputs": [
    {
     "name": "stdout",
     "output_type": "stream",
     "text": [
      "all elements ar true: False\n"
     ]
    }
   ],
   "source": [
    "logical_test = np.array([False,False,False])\n",
    "all_true = np.all(logical_test)\n",
    "print('all elements ar true:',all_true)"
   ]
  },
  {
   "cell_type": "code",
   "execution_count": 36,
   "id": "038478a0",
   "metadata": {},
   "outputs": [
    {
     "name": "stdout",
     "output_type": "stream",
     "text": [
      "Any elements True: False\n"
     ]
    }
   ],
   "source": [
    "any_true = np.any(logical_test)  # Check if any are True\n",
    "print(\"Any elements True:\", any_true)"
   ]
  },
  {
   "cell_type": "markdown",
   "id": "6b42072d",
   "metadata": {},
   "source": [
    "set operations"
   ]
  },
  {
   "cell_type": "code",
   "execution_count": 37,
   "id": "99f05dbd",
   "metadata": {},
   "outputs": [
    {
     "name": "stdout",
     "output_type": "stream",
     "text": [
      "interseion of a and b: [3 4]\n"
     ]
    }
   ],
   "source": [
    "set_a = np.array([1,2,3,4])\n",
    "set_b = np.array([3,4,5,6])\n",
    "\n",
    "intersection = np.intersect1d(set_a,set_b)\n",
    "print('interseion of a and b:',intersection)"
   ]
  },
  {
   "cell_type": "code",
   "execution_count": 38,
   "id": "943b433a",
   "metadata": {},
   "outputs": [
    {
     "name": "stdout",
     "output_type": "stream",
     "text": [
      "union of a and b: [1 2 3 4 5 6]\n"
     ]
    }
   ],
   "source": [
    "union = np.union1d(set_a,set_b)\n",
    "print('union of a and b:', union)"
   ]
  },
  {
   "cell_type": "markdown",
   "id": "670dfd86",
   "metadata": {},
   "source": [
    "array attribute functions"
   ]
  },
  {
   "cell_type": "code",
   "execution_count": 39,
   "id": "301ca64c",
   "metadata": {},
   "outputs": [
    {
     "name": "stdout",
     "output_type": "stream",
     "text": [
      "Shape of a: (3,)\n",
      "Size of a: 3\n",
      "Number of dimensions of a: 1\n",
      "Data type of a: int64\n"
     ]
    }
   ],
   "source": [
    "a = np.array([1,2,3])\n",
    "shape = a.shape \n",
    "size = a.size\n",
    "dimensions = a.ndim\n",
    "dtype = a.dtype\n",
    "\n",
    "print(\"Shape of a:\", shape)\n",
    "print(\"Size of a:\", size)\n",
    "print(\"Number of dimensions of a:\", dimensions)\n",
    "print(\"Data type of a:\", dtype)\n",
    "\n"
   ]
  },
  {
   "cell_type": "markdown",
   "id": "8640b623",
   "metadata": {},
   "source": [
    "other function"
   ]
  },
  {
   "cell_type": "code",
   "execution_count": 40,
   "metadata": {},
   "outputs": [
    {
     "name": "stdout",
     "output_type": "stream",
     "text": [
      "copied array : [1 2 3]\n"
     ]
    }
   ],
   "source": [
    "a = np.array([1,2,3])\n",
    "copied_array = np.copy(a)\n",
    "print('copied array :',copied_array)"
   ]
  },
  {
   "cell_type": "code",
   "execution_count": 41,
   "metadata": {},
   "outputs": [
    {
     "name": "stdout",
     "output_type": "stream",
     "text": [
      "size of a in bbytes: 24\n"
     ]
    }
   ],
   "source": [
    "array_size_in_bytes = a.nbytes\n",
    "print('size of a in bbytes:',array_size_in_bytes)"
   ]
  },
  {
   "cell_type": "code",
   "execution_count": 42,
   "id": "e395f2bc",
   "metadata": {},
   "outputs": [
    {
     "name": "stdout",
     "output_type": "stream",
     "text": [
      "do a and copied_array share memory? False\n"
     ]
    }
   ],
   "source": [
    "shared = np.shares_memory(a,copied_array)\n",
    "print('do a and copied_array share memory?',shared)\n"
   ]
  },
  {
   "cell_type": "code",
   "execution_count": null,
   "metadata": {},
   "outputs": [],
   "source": []
  },
  {
   "cell_type": "code",
   "execution_count": null,
   "id": "b590b8a8",
   "metadata": {},
   "outputs": [],
   "source": []
  }
 ],
 "metadata": {
  "kernelspec": {
   "display_name": "Python 3",
   "language": "python",
   "name": "python3"
  },
  "language_info": {
   "codemirror_mode": {
    "name": "ipython",
    "version": 3
   },
   "file_extension": ".py",
   "mimetype": "text/x-python",
   "name": "python",
   "nbconvert_exporter": "python",
   "pygments_lexer": "ipython3",
   "version": "3.13.5"
  }
 },
 "nbformat": 4,
 "nbformat_minor": 5
}
