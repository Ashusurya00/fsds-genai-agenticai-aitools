{
 "cells": [
  {
   "cell_type": "markdown",
   "id": "4f5b0622",
   "metadata": {},
   "source": [
    "Featurization, Model Selection & Tuning - Linear Regression"
   ]
  },
  {
   "cell_type": "code",
   "execution_count": 2,
   "id": "499bd6b5",
   "metadata": {},
   "outputs": [],
   "source": [
    "# Import numerical libraries\n",
    "import numpy as np\n",
    "import pandas as pd\n",
    "\n",
    "#Import graphical plotting libraries\n",
    "import matplotlib.pyplot as plt\n",
    "import seaborn as sns\n",
    "%matplotlib inline\n",
    "\n",
    "#Import Linear Regression Machine Learning Libraries\n",
    "from sklearn import preprocessing\n",
    "from sklearn.model_selection import train_test_split\n",
    "#from sklearn.preprocessing import polynomialFeatures\n",
    "\n",
    "from sklearn.linear_model import LinearRegression, Ridge, Lasso\n",
    "from sklearn.metrics import r2_score\n"
   ]
  },
  {
   "cell_type": "code",
   "execution_count": 3,
   "id": "996bc2ce",
   "metadata": {},
   "outputs": [
    {
     "data": {
      "text/html": [
       "<div>\n",
       "<style scoped>\n",
       "    .dataframe tbody tr th:only-of-type {\n",
       "        vertical-align: middle;\n",
       "    }\n",
       "\n",
       "    .dataframe tbody tr th {\n",
       "        vertical-align: top;\n",
       "    }\n",
       "\n",
       "    .dataframe thead th {\n",
       "        text-align: right;\n",
       "    }\n",
       "</style>\n",
       "<table border=\"1\" class=\"dataframe\">\n",
       "  <thead>\n",
       "    <tr style=\"text-align: right;\">\n",
       "      <th></th>\n",
       "      <th>mpg</th>\n",
       "      <th>cyl</th>\n",
       "      <th>disp</th>\n",
       "      <th>hp</th>\n",
       "      <th>wt</th>\n",
       "      <th>acc</th>\n",
       "      <th>yr</th>\n",
       "      <th>origin</th>\n",
       "      <th>car_type</th>\n",
       "      <th>car_name</th>\n",
       "    </tr>\n",
       "  </thead>\n",
       "  <tbody>\n",
       "    <tr>\n",
       "      <th>0</th>\n",
       "      <td>18.0</td>\n",
       "      <td>8</td>\n",
       "      <td>307.0</td>\n",
       "      <td>130</td>\n",
       "      <td>3504</td>\n",
       "      <td>12.0</td>\n",
       "      <td>70</td>\n",
       "      <td>1</td>\n",
       "      <td>0</td>\n",
       "      <td>chevrolet chevelle malibu</td>\n",
       "    </tr>\n",
       "    <tr>\n",
       "      <th>1</th>\n",
       "      <td>15.0</td>\n",
       "      <td>8</td>\n",
       "      <td>350.0</td>\n",
       "      <td>165</td>\n",
       "      <td>3693</td>\n",
       "      <td>11.5</td>\n",
       "      <td>70</td>\n",
       "      <td>1</td>\n",
       "      <td>0</td>\n",
       "      <td>buick skylark 320</td>\n",
       "    </tr>\n",
       "    <tr>\n",
       "      <th>2</th>\n",
       "      <td>18.0</td>\n",
       "      <td>8</td>\n",
       "      <td>318.0</td>\n",
       "      <td>150</td>\n",
       "      <td>3436</td>\n",
       "      <td>11.0</td>\n",
       "      <td>70</td>\n",
       "      <td>1</td>\n",
       "      <td>0</td>\n",
       "      <td>plymouth satellite</td>\n",
       "    </tr>\n",
       "    <tr>\n",
       "      <th>3</th>\n",
       "      <td>16.0</td>\n",
       "      <td>8</td>\n",
       "      <td>304.0</td>\n",
       "      <td>150</td>\n",
       "      <td>3433</td>\n",
       "      <td>12.0</td>\n",
       "      <td>70</td>\n",
       "      <td>1</td>\n",
       "      <td>0</td>\n",
       "      <td>amc rebel sst</td>\n",
       "    </tr>\n",
       "    <tr>\n",
       "      <th>4</th>\n",
       "      <td>17.0</td>\n",
       "      <td>8</td>\n",
       "      <td>302.0</td>\n",
       "      <td>140</td>\n",
       "      <td>3449</td>\n",
       "      <td>10.5</td>\n",
       "      <td>70</td>\n",
       "      <td>1</td>\n",
       "      <td>0</td>\n",
       "      <td>ford torino</td>\n",
       "    </tr>\n",
       "  </tbody>\n",
       "</table>\n",
       "</div>"
      ],
      "text/plain": [
       "    mpg  cyl   disp   hp  ...  yr  origin  car_type                   car_name\n",
       "0  18.0    8  307.0  130  ...  70       1         0  chevrolet chevelle malibu\n",
       "1  15.0    8  350.0  165  ...  70       1         0          buick skylark 320\n",
       "2  18.0    8  318.0  150  ...  70       1         0         plymouth satellite\n",
       "3  16.0    8  304.0  150  ...  70       1         0              amc rebel sst\n",
       "4  17.0    8  302.0  140  ...  70       1         0                ford torino\n",
       "\n",
       "[5 rows x 10 columns]"
      ]
     },
     "execution_count": 3,
     "metadata": {},
     "output_type": "execute_result"
    }
   ],
   "source": [
    "data = pd.read_csv(r'C:\\Users\\aashutosh\\Downloads\\car-mpg.csv')\n",
    "data.head()"
   ]
  },
  {
   "cell_type": "code",
   "execution_count": 4,
   "id": "7dcc608b",
   "metadata": {},
   "outputs": [
    {
     "name": "stderr",
     "output_type": "stream",
     "text": [
      "C:\\Users\\aashutosh\\AppData\\Local\\Temp\\ipykernel_33716\\3822363820.py:13: FutureWarning: errors='ignore' is deprecated and will raise in a future version. Use to_numeric without passing `errors` and catch exceptions explicitly instead\n",
      "  data = data.apply(pd.to_numeric, errors='ignore')\n"
     ]
    }
   ],
   "source": [
    "data = data.drop(['car_name'], axis = 1)\n",
    "\n",
    "#replace origin numbers with labels\n",
    "data['origin'] = data['origin'].replace({1: 'america', 2: 'europe', 3: 'asia'})\n",
    "\n",
    "#one-hot encoding\n",
    "data = pd.get_dummies(data, columns=['origin'],dtype=int)\n",
    "\n",
    "# replace '?' with NaN values\n",
    "data = data.replace('?', np.nan)\n",
    "\n",
    "# Convert all columns to numeric (invalid parsing -> NaN)\n",
    "data = data.apply(pd.to_numeric, errors='ignore')\n",
    "\n",
    "# Fill missing values with median (only numeric columns will be affected)\n",
    "for col in data.columns:\n",
    "    if data[col].dtype != 'O':\n",
    "        data[col] = data[col].fillna(data[col].median())"
   ]
  },
  {
   "cell_type": "code",
   "execution_count": 5,
   "id": "bf3d4885",
   "metadata": {},
   "outputs": [
    {
     "data": {
      "text/html": [
       "<div>\n",
       "<style scoped>\n",
       "    .dataframe tbody tr th:only-of-type {\n",
       "        vertical-align: middle;\n",
       "    }\n",
       "\n",
       "    .dataframe tbody tr th {\n",
       "        vertical-align: top;\n",
       "    }\n",
       "\n",
       "    .dataframe thead th {\n",
       "        text-align: right;\n",
       "    }\n",
       "</style>\n",
       "<table border=\"1\" class=\"dataframe\">\n",
       "  <thead>\n",
       "    <tr style=\"text-align: right;\">\n",
       "      <th></th>\n",
       "      <th>mpg</th>\n",
       "      <th>cyl</th>\n",
       "      <th>disp</th>\n",
       "      <th>hp</th>\n",
       "      <th>wt</th>\n",
       "      <th>acc</th>\n",
       "      <th>yr</th>\n",
       "      <th>car_type</th>\n",
       "      <th>origin_america</th>\n",
       "      <th>origin_asia</th>\n",
       "      <th>origin_europe</th>\n",
       "    </tr>\n",
       "  </thead>\n",
       "  <tbody>\n",
       "    <tr>\n",
       "      <th>0</th>\n",
       "      <td>18.0</td>\n",
       "      <td>8</td>\n",
       "      <td>307.0</td>\n",
       "      <td>130.0</td>\n",
       "      <td>3504</td>\n",
       "      <td>12.0</td>\n",
       "      <td>70</td>\n",
       "      <td>0</td>\n",
       "      <td>1</td>\n",
       "      <td>0</td>\n",
       "      <td>0</td>\n",
       "    </tr>\n",
       "    <tr>\n",
       "      <th>1</th>\n",
       "      <td>15.0</td>\n",
       "      <td>8</td>\n",
       "      <td>350.0</td>\n",
       "      <td>165.0</td>\n",
       "      <td>3693</td>\n",
       "      <td>11.5</td>\n",
       "      <td>70</td>\n",
       "      <td>0</td>\n",
       "      <td>1</td>\n",
       "      <td>0</td>\n",
       "      <td>0</td>\n",
       "    </tr>\n",
       "    <tr>\n",
       "      <th>2</th>\n",
       "      <td>18.0</td>\n",
       "      <td>8</td>\n",
       "      <td>318.0</td>\n",
       "      <td>150.0</td>\n",
       "      <td>3436</td>\n",
       "      <td>11.0</td>\n",
       "      <td>70</td>\n",
       "      <td>0</td>\n",
       "      <td>1</td>\n",
       "      <td>0</td>\n",
       "      <td>0</td>\n",
       "    </tr>\n",
       "    <tr>\n",
       "      <th>3</th>\n",
       "      <td>16.0</td>\n",
       "      <td>8</td>\n",
       "      <td>304.0</td>\n",
       "      <td>150.0</td>\n",
       "      <td>3433</td>\n",
       "      <td>12.0</td>\n",
       "      <td>70</td>\n",
       "      <td>0</td>\n",
       "      <td>1</td>\n",
       "      <td>0</td>\n",
       "      <td>0</td>\n",
       "    </tr>\n",
       "    <tr>\n",
       "      <th>4</th>\n",
       "      <td>17.0</td>\n",
       "      <td>8</td>\n",
       "      <td>302.0</td>\n",
       "      <td>140.0</td>\n",
       "      <td>3449</td>\n",
       "      <td>10.5</td>\n",
       "      <td>70</td>\n",
       "      <td>0</td>\n",
       "      <td>1</td>\n",
       "      <td>0</td>\n",
       "      <td>0</td>\n",
       "    </tr>\n",
       "  </tbody>\n",
       "</table>\n",
       "</div>"
      ],
      "text/plain": [
       "    mpg  cyl   disp  ...  origin_america  origin_asia  origin_europe\n",
       "0  18.0    8  307.0  ...               1            0              0\n",
       "1  15.0    8  350.0  ...               1            0              0\n",
       "2  18.0    8  318.0  ...               1            0              0\n",
       "3  16.0    8  304.0  ...               1            0              0\n",
       "4  17.0    8  302.0  ...               1            0              0\n",
       "\n",
       "[5 rows x 11 columns]"
      ]
     },
     "execution_count": 5,
     "metadata": {},
     "output_type": "execute_result"
    }
   ],
   "source": [
    "data.head()"
   ]
  },
  {
   "cell_type": "code",
   "execution_count": null,
   "id": "81b8df98",
   "metadata": {},
   "outputs": [],
   "source": []
  },
  {
   "cell_type": "markdown",
   "id": "debb144f",
   "metadata": {},
   "source": [
    "2.Model building"
   ]
  },
  {
   "cell_type": "code",
   "execution_count": 6,
   "id": "2ae27420",
   "metadata": {},
   "outputs": [],
   "source": [
    "x = data.drop(['mpg'],axis=1) # independent columns\n",
    "y = data[['mpg']] # dependent variable"
   ]
  },
  {
   "cell_type": "code",
   "execution_count": 8,
   "id": "523dd6f3",
   "metadata": {},
   "outputs": [],
   "source": [
    "# scaling data\n",
    "\n",
    "x_s = preprocessing.scale(x)\n",
    "x_s = pd.DataFrame(x_s , columns = x.columns)# converting scaled data into dataframe\n",
    "\n",
    "y_s = preprocessing.scale(y)\n",
    "y_s = pd.DataFrame(y_s, columns = y.columns) # ideally train, test data should be in columns"
   ]
  },
  {
   "cell_type": "code",
   "execution_count": 9,
   "id": "74442e4e",
   "metadata": {},
   "outputs": [
    {
     "data": {
      "text/plain": [
       "(278, 10)"
      ]
     },
     "execution_count": 9,
     "metadata": {},
     "output_type": "execute_result"
    }
   ],
   "source": [
    "# split into train , test set\n",
    "\n",
    "x_train, x_test, y_train, y_test = train_test_split(x_s, y_s, test_size=0.30,random_state = 1)\n",
    "x_train.shape"
   ]
  },
  {
   "cell_type": "markdown",
   "id": "9e85aad6",
   "metadata": {},
   "source": [
    "2.a Linear Model"
   ]
  },
  {
   "cell_type": "code",
   "execution_count": 11,
   "id": "a16ad9bf",
   "metadata": {},
   "outputs": [
    {
     "name": "stdout",
     "output_type": "stream",
     "text": [
      "The coefficient for cyl is 0.32102238569161323\n",
      "The coefficient for disp is 0.3248343091848378\n",
      "The coefficient for hp is -0.22916950059437616\n",
      "The coefficient for wt is -0.7112101905072294\n",
      "The coefficient for acc is 0.01471368276419148\n",
      "The coefficient for yr is 0.37558119495107445\n",
      "The coefficient for car_type is 0.38147694842331026\n",
      "The coefficient for origin_america is -0.07472247547584143\n",
      "The coefficient for origin_asia is 0.044515252035678604\n",
      "The coefficient for origin_europe is 0.048348549539454194\n",
      "The intercept is 0.01928411610363977\n"
     ]
    }
   ],
   "source": [
    "# Fit linear model and find coefficients\n",
    "regression_model = LinearRegression()\n",
    "regression_model.fit(x_train, y_train)\n",
    "\n",
    "for idx, col_name in enumerate(x_train.columns):\n",
    "    print('The coefficient for {} is {}'.format(col_name, regression_model.coef_[0][idx]))\n",
    "\n",
    "intercept = regression_model.intercept_[0]\n",
    "print('The intercept is {}'.format(intercept))"
   ]
  },
  {
   "cell_type": "markdown",
   "id": "cd52faed",
   "metadata": {},
   "source": [
    "2.b Regularization Ridge Regression"
   ]
  },
  {
   "cell_type": "code",
   "execution_count": 12,
   "id": "84e26d01",
   "metadata": {},
   "outputs": [
    {
     "name": "stdout",
     "output_type": "stream",
     "text": [
      "Ridge model coefficents: [ 0.31495967  0.30948411 -0.22861679 -0.69782283  0.01239531  0.37411266\n",
      "  0.37586629 -0.07408168  0.04437854  0.0476772 ]\n"
     ]
    }
   ],
   "source": [
    "#alpha factor here is lambda (penalty term) which helps tp reduce the magnitude of coefficients\n",
    "ridge_model = Ridge(alpha=0.4)\n",
    "\n",
    "ridge_model.fit(x_train, y_train)\n",
    "\n",
    "print('Ridge model coefficents: {}'.format(ridge_model.coef_))\n",
    "#as the data has 10 columns hence 10 coefficients appear here"
   ]
  },
  {
   "cell_type": "markdown",
   "id": "ed9ff95b",
   "metadata": {},
   "source": [
    "2.c Regularized Lasso Regression"
   ]
  },
  {
   "cell_type": "code",
   "execution_count": null,
   "id": "80c04edc",
   "metadata": {},
   "outputs": [
    {
     "name": "stdout",
     "output_type": "stream",
     "text": [
      "Lasso model coef:[-0.         -0.         -0.01690287 -0.51890013  0.          0.28138241\n",
      "  0.1278489  -0.01642647  0.          0.        ]\n"
     ]
    }
   ],
   "source": [
    "#alpha factor here is lambda (penalty term) which helps to reduce the magnitude of coeffients\n",
    "lasso_model = Lasso(alpha=0.1)\n",
    "lasso_model.fit(x_train, y_train)\n",
    "\n",
    "print('Lasso model coef:{}'.format(lasso_model.coef_))\n",
    "\n",
    "#as the data has 10 columns hence 10 coefficients appear here"
   ]
  },
  {
   "cell_type": "code",
   "execution_count": null,
   "id": "587860af",
   "metadata": {},
   "outputs": [],
   "source": []
  },
  {
   "cell_type": "code",
   "execution_count": null,
   "id": "dbfc9b5c",
   "metadata": {},
   "outputs": [],
   "source": []
  },
  {
   "cell_type": "code",
   "execution_count": null,
   "id": "5694b3be",
   "metadata": {},
   "outputs": [],
   "source": []
  }
 ],
 "metadata": {
  "kernelspec": {
   "display_name": "base",
   "language": "python",
   "name": "python3"
  },
  "language_info": {
   "codemirror_mode": {
    "name": "ipython",
    "version": 3
   },
   "file_extension": ".py",
   "mimetype": "text/x-python",
   "name": "python",
   "nbconvert_exporter": "python",
   "pygments_lexer": "ipython3",
   "version": "3.13.5"
  }
 },
 "nbformat": 4,
 "nbformat_minor": 5
}
