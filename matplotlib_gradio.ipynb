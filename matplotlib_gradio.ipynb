{
 "cells": [
  {
   "cell_type": "code",
   "execution_count": null,
   "id": "ba393c3b",
   "metadata": {},
   "outputs": [],
   "source": [
    "print('hi')"
   ]
  },
  {
   "cell_type": "code",
   "execution_count": null,
   "id": "2967df9f",
   "metadata": {},
   "outputs": [],
   "source": [
    "import gradio as gr \n"
   ]
  },
  {
   "cell_type": "code",
   "execution_count": null,
   "id": "bbbe0b05",
   "metadata": {},
   "outputs": [],
   "source": [
    "import gradio as gr \n",
    "import pandas as pd \n",
    "import matplotlib.pyplot as plt\n",
    "\n",
    "\n",
    "data = {\n",
    "    \"Month\": [\"Jan\", \"Feb\", \"Mar\", \"Apr\", \"May\", \"Jun\"],\n",
    "    \"Sales\": [10000, 12000, 15000, 13000, 17000, 16000],\n",
    "    \"Profit\": [2000, 3000, 4000, 2500, 3500, 3000]\n",
    "}\n",
    "df = pd.DataFrame(data)\n",
    "\n",
    "\n",
    "\n",
    "def generate_plot(plot_type):\n",
    "    fig = plt.figure(figsize=(8,5))\n",
    "\n",
    "    if plot_type == 'Line Plot':\n",
    "        plt.plot(df['Month'],df['Sales'],color='blue',marker='o',label='Sales')\n",
    "        plt.title('sales trend over month')\n",
    "        plt.xlabel('Month')\n",
    "        plt.ylabel('Sales')\n",
    "        plt.grid(True)\n",
    "        plt.legend()\n",
    "\n",
    "    elif plot_type == 'Stacked Bar Chart':\n",
    "        fig.set_size_inches(10,8)\n",
    "        width=0.3\n",
    "        plt.bar(df['Month'],df['Sales'], width = width,label='Sales',color='blue' )\n",
    "        plt.bar(df['Month'],df['Profit'],width=width,label='Profit',color='orange',bottom=df['Sales'])\n",
    "        plt.title('sales and profit comparison by month')\n",
    "        plt.xlabel('Month')\n",
    "        plt.ylabel('Amount ($)')\n",
    "        plt.legend()\n",
    "\n",
    "    elif plot_type == 'Pie Chart':\n",
    "        fig.set_size_inches(7,7)\n",
    "        colors = plt.cm.Paired(range(len(df['Profit'])))\n",
    "        plt.pie(df['Profit'],labels=df['Month'],autopct='%1.1f%%',startangle=140,colors=colors)\n",
    "        plt.title('Profit distribution by months')\n",
    "\n",
    "    elif plot_type == 'Scatter Plot':\n",
    "        plt.scatter(df['Sales'],df['Profit'],color='green',s=100,edgecolors='black')\n",
    "        plt.title('sales vs profit')\n",
    "        plt.xlabel('Sales ($)')\n",
    "        plt.ylabel('Profit ($)')\n",
    "        plt.grid(True)\n",
    "\n",
    "    elif plot_type == 'Histogram':\n",
    "        plt.hist(df['Sales'],bins=5,color='Purple',edgecolor='black')\n",
    "        plt.title('Sales Distibution')\n",
    "        plt.xlabel('Sales')\n",
    "        plt.ylabel('frequency')\n",
    "        \n",
    "    elif plot_type == 'Box Plot':\n",
    "        plt.boxplot(df['Profit'],vert=True, patch_artist=True,boxprops=dict(facecolor='lightgreen'))\n",
    "        plt.xlabel('Profit ($)')\n",
    "        \n",
    "    plt.tight_layout()\n",
    "    return fig\n",
    "demo = gr.Interface(\n",
    "    fn = generate_plot,\n",
    "    inputs=gr.Radio(['Line Plot','Stacked Bar Chart', 'Pie Chart', 'Scatter Plot', 'Histogram', 'Box Plot']),\n",
    "    outputs=gr.Plot(label = 'Visualization'),\n",
    "    title = 'Sales Vs Profit Visualization',\n",
    "    description='choose a chart to visualize the data'\n",
    "\n",
    ")\n",
    "demo.launch()\n",
    "    "
   ]
  },
  {
   "cell_type": "markdown",
   "id": "64dbcd5b",
   "metadata": {},
   "source": [
    "MATPLOTLIB VISUALIZATION USING GRADIO"
   ]
  },
  {
   "cell_type": "code",
   "execution_count": null,
   "id": "56dde75a",
   "metadata": {},
   "outputs": [],
   "source": [
    "import pandas as pd\n",
    "\n",
    "data = {\n",
    "    \"Month\": [\"Jan\", \"Feb\", \"Mar\", \"Apr\", \"May\", \"Jun\"],\n",
    "    \"Sales\": [10000, 12000, 15000, 13000, 17000, 16000],\n",
    "    \"Profit\": [2000, 3000, 4000, 2500, 3500, 3000]\n",
    "}\n",
    "\n",
    "df = pd.DataFrame(data)"
   ]
  },
  {
   "cell_type": "code",
   "execution_count": null,
   "id": "a0972022",
   "metadata": {},
   "outputs": [],
   "source": [
    "df"
   ]
  },
  {
   "cell_type": "code",
   "execution_count": null,
   "id": "2797caef",
   "metadata": {},
   "outputs": [],
   "source": [
    "import matplotlib.pyplot as plt\n",
    "\n",
    "plt.figure(figsize=(8, 5))\n",
    "plt.plot(df['Month'],df['Sales'],color='blue',marker='o',linestyle='-',label='Sales')\n",
    "plt.title('Sales Trend over Months')\n",
    "plt.xlabel('Month')\n",
    "plt.ylabel('Sales ($)')\n",
    "plt.grid(True)\n",
    "plt.legend()\n",
    "plt.tight_layout()\n",
    "plt.show()"
   ]
  },
  {
   "cell_type": "code",
   "execution_count": null,
   "id": "24e23516",
   "metadata": {},
   "outputs": [],
   "source": [
    "plt.figure(figsize=(10,6))\n",
    "width = 0.3\n",
    "plt.bar(df['Month'],df['Sales'],width=width,label='Sales',color='skyblue')\n",
    "plt.bar(df['Month'],df['Profit'],width=width,label='Profit',color='orange',bottom=df['Sales'])\n",
    "plt.title('Sales and Profit Comparison by Month')\n",
    "plt.xlabel('Month')\n",
    "plt.ylabel('Amount ($)')\n",
    "plt.legend()\n",
    "plt.tight_layout()\n",
    "plt.show()"
   ]
  },
  {
   "cell_type": "code",
   "execution_count": null,
   "id": "f92ec8e1",
   "metadata": {},
   "outputs": [],
   "source": [
    "plt.figure(figsize=(7,7))\n",
    "plt.pie(df['Profit'],labels=df['Month'],autopct='%1.1f%%',startangle=140,colors=plt.cm.Paired.colors)\n",
    "plt.title('Profit Distribution by month')\n",
    "plt.tight_layout()\n",
    "plt.show()"
   ]
  },
  {
   "cell_type": "code",
   "execution_count": null,
   "id": "714fee14",
   "metadata": {},
   "outputs": [],
   "source": [
    "plt.figure(figsize=(8,5))\n",
    "plt.scatter(df['Sales'],df['Profit'],color='green',s=100,edgecolors='black')\n",
    "plt.title('Sales vs Profit')\n",
    "plt.xlabel('sales ($)')\n",
    "plt.ylabel('Profit ($)')\n",
    "plt.grid(True)\n",
    "plt.tight_layout()\n",
    "plt.show()\n"
   ]
  },
  {
   "cell_type": "code",
   "execution_count": null,
   "id": "606ab910",
   "metadata": {},
   "outputs": [],
   "source": [
    "plt.figure(figsize=(8,5))\n",
    "plt.hist(df['Sales'],bins=5,color='purple', edgecolor='black')\n",
    "plt.title('Sales Distribution')\n",
    "plt.xlabel('Sales ($)')\n",
    "plt.ylabel('Frequency')\n",
    "plt.tight_layout()\n",
    "plt.show()"
   ]
  },
  {
   "cell_type": "code",
   "execution_count": null,
   "id": "69f1da3d",
   "metadata": {},
   "outputs": [],
   "source": [
    "plt.figure(figsize=(8,5))\n",
    "plt.boxplot(df['Profit'],vert=False,patch_artist=True,boxprops=dict(facecolor='lightgreen'))\n",
    "plt.title('Profit Distribution')\n",
    "plt.xlabel('Profit ($)')\n",
    "plt.tight_layout()\n",
    "plt.show()"
   ]
  },
  {
   "cell_type": "code",
   "execution_count": null,
   "id": "427dbdf3",
   "metadata": {},
   "outputs": [],
   "source": [
    "import gradio as gr \n",
    "import pandas as pd\n",
    "import matplotlib.pyplot as plt\n",
    "\n",
    "data = {\n",
    "    \"Month\": [\"Jan\", \"Feb\", \"Mar\", \"Apr\", \"May\", \"Jun\"],\n",
    "    \"Sales\": [10000, 12000, 15000, 13000, 17000, 16000],\n",
    "    \"Profit\": [2000, 3000, 4000, 2500, 3500, 3000]\n",
    "}\n",
    "df = pd.DataFrame(data)\n",
    "\n",
    "def generate_plot(plot_type):\n",
    "    fig = plt.figure(figsize=(8,5))\n",
    "\n",
    "    if plot_type == 'Line Plot':\n",
    "        plt.plot(df['Month'],df['Sales'],color='blue',marker='o',label='Sales')\n",
    "        plt.title('Sales Trend over months')\n",
    "        plt.xlabel('Month')\n",
    "        plt.ylabel('sales ($)')\n",
    "        plt.grid(True)\n",
    "        plt.legend()\n",
    "\n",
    "    \n",
    "    elif plot_type == \"Stacked Bar Chart\":\n",
    "        fig.set_size_inches(10, 6)\n",
    "        width = 0.3\n",
    "        plt.bar(df['Month'], df['Sales'], width=width, label='Sales', color='skyblue')\n",
    "        plt.bar(df['Month'], df['Profit'], width=width, label='Profit', color='orange', bottom=df['Sales'])\n",
    "        plt.title('Sales and Profit Comparison by Month')\n",
    "        plt.xlabel('Month')\n",
    "        plt.ylabel('Amount ($)')\n",
    "        plt.legend()\n",
    "\n",
    "    elif plot_type == 'PieChart':\n",
    "        fig.set_size_inches(7,7)\n",
    "        plt.pie(df['Profit'],labels=df['Month'],autopct='%1.1f%%',startangle=140,colors=plt.cm.Paired.colors)\n",
    "        plt.title('Profit Distributing by Month')\n",
    "\n",
    "    elif plot_type == 'Scatter Plot':\n",
    "        plt.scatter(df['Sales'],df['Profit'],bins=5,color='purple',edgecolor='black')\n",
    "        plt.title('Sales vs Profit')\n",
    "        plt.xlabel('Sales ($)')\n",
    "        plt.ylabel('Profit ($)')\n",
    "        plt.grid(True)\n",
    "\n",
    "    elif plot_type == 'Histogram':\n",
    "        plt.hist(df['Sales'],bins=5, color='purple',edgecolor='black')\n",
    "        plt.title('Sales Distribution')\n",
    "        plt.xlabel('Sales ($)')\n",
    "        plt.ylabel('Frequency')\n",
    "\n",
    "    elif plot_type == 'Box Plot':\n",
    "        plt.boxplot(df['Profit'],vert=False,patch_artist=True,boxprops=dict(facecolor='lightgreen'))\n",
    "        plt.title('Profit Distribution')\n",
    "        plt.xlabel('Profit Distribution')\n",
    "        plt.xlabel('Profit ($)')\n",
    "\n",
    "    plt.tight_layout()\n",
    "    return fig\n",
    "demo = gr.Interface(\n",
    "    fn=generate_plot,\n",
    "    inputs=gr.Radio(\n",
    "        ['Line Plot','Stacked Bar Chart','PieChart','Scatter Plot','Histogram','Box Plot'],\n",
    "        label='choose Plot type'\n",
    "\n",
    "    ),\n",
    "    outputs=gr.Plot(label='Visualization'),\n",
    "    title='Sales & Profit Visual Explorer',\n",
    "    description=\"Choose a chart type to visualize the data\"\n",
    "\n",
    ")\n",
    "\n",
    "\n",
    "demo.launch()     "
   ]
  },
  {
   "cell_type": "code",
   "execution_count": null,
   "id": "d24a15fb",
   "metadata": {},
   "outputs": [],
   "source": [
    "import gradio as gr \n",
    "import pandas as pd\n",
    "import matplotlib.pyplot as plt\n",
    "\n",
    "data = {\n",
    "    \"Month\": [\"Jan\", \"Feb\", \"Mar\", \"Apr\", \"May\", \"Jun\"],\n",
    "    \"Sales\": [10000, 12000, 15000, 13000, 17000, 16000],\n",
    "    \"Profit\": [2000, 3000, 4000, 2500, 3500, 3000]\n",
    "}\n",
    "df = pd.DataFrame(data)\n",
    "\n",
    "def generate_plot(plot_type):\n",
    "    fig = plt.figure(figsize=(8,5))\n",
    "\n",
    "    if plot_type == 'Line Plot':\n",
    "        plt.plot(df['Month'],df['Sales'],color='blue',marker='o',label='Sales')\n",
    "        plt.title('Sales Trend Over Months')\n",
    "        plt.xlabel('Month')\n",
    "        plt.ylabel('Sales ($)')\n",
    "        plt.legend()\n",
    "\n",
    "    elif plot_type == 'Stacked Bar Chart':\n",
    "        fig.set_size_inches(10,6)\n",
    "        width = 0.3\n",
    "        plt.bar(df['Month'],df['Sales'],width=width,label='Sales',color='skyblue')\n",
    "        plt.bar(df['Month'],df['Profit'],width=width,label='Profit',color='orange',bottom=df['Sales'])\n",
    "        plt.title('Sales and Profit Comparison by Month')\n",
    "        plt.xlabel('Month')\n",
    "        plt.ylabel('Amount ($)')\n",
    "        plt.legend()\n",
    "\n",
    "    elif plot_type == 'Pie Chart':\n",
    "        fig.set_size_inches(7, 7)\n",
    "        colors = plt.cm.Paired(range(len(df['Profit'])))\n",
    "        plt.pie(df['Profit'],labels=df['Month'],autopct='%1.1f%%',startangle=140,colors=colors)\n",
    "        plt.title('Profit Distribution by Month')\n",
    "\n",
    "    elif plot_type == 'Scatter Plot':\n",
    "        plt.scatter(df['Sales'],df['Profit'],color='green', s=100,edgecolors='black')\n",
    "        plt.title('Sales vs Profit')\n",
    "        plt.xlabel('Sales ($)')\n",
    "        plt.ylabel('Profit ($)')\n",
    "        plt.grid(True)\n",
    "\n",
    "    elif plot_type == 'Histogram':\n",
    "        plt.hist(df['Sales'],bins=5,color='Purple',edgecolor='black')\n",
    "        plt.title('Sales Distribution')\n",
    "        plt.ylabel('Frequency')\n",
    "\n",
    "    elif plot_type == 'Box Plot':\n",
    "        plt.boxplot(df['Profit'],vert=True, patch_artist=True,boxprops=dict(facecolor='lightgreen'))\n",
    "        plt.title('Profit Distribution')\n",
    "        plt.xlabel('Profit ($)')\n",
    "\n",
    "    plt.tight_layout()\n",
    "    return fig \n",
    "demo = gr.Interface(\n",
    "    fn=generate_plot,\n",
    "    inputs=gr.Radio(\n",
    "        ['Line Plot','Stacked Bar Chart','Pie Chart','Scatter Plot','Histogram','Box Plot'],\n",
    "\n",
    "\n",
    "    ),\n",
    "    outputs=gr.Plot(label='Visualization'),\n",
    "    title='Sales & Profit Visual Explorer',\n",
    "    description='Choose a chart type to visualize the data.'\n",
    ")\n",
    "\n",
    "demo.launch()\n"
   ]
  },
  {
   "cell_type": "code",
   "execution_count": null,
   "id": "f980ef73",
   "metadata": {},
   "outputs": [],
   "source": [
    "import gradio as gr\n",
    "import pandas as pd\n",
    "import matplotlib.pyplot as plt\n",
    "\n",
    "# Sample data\n",
    "data = {\n",
    "    \"Month\": [\"Jan\", \"Feb\", \"Mar\", \"Apr\", \"May\", \"Jun\"],\n",
    "    \"Sales\": [10000, 12000, 15000, 13000, 17000, 16000],\n",
    "    \"Profit\": [2000, 3000, 4000, 2500, 3500, 3000]\n",
    "}\n",
    "df = pd.DataFrame(data)\n",
    "\n",
    "# Function to return selected plot\n",
    "def generate_plot(plot_type):\n",
    "    fig = plt.figure(figsize=(8, 5))\n",
    "\n",
    "    if plot_type == \"Line Plot\":\n",
    "        plt.plot(df['Month'], df['Sales'], color='blue', marker='o', label='Sales')\n",
    "        plt.title('Sales Trend Over Months')\n",
    "        plt.xlabel('Month')\n",
    "        plt.ylabel('Sales ($)')\n",
    "        plt.grid(True)\n",
    "        plt.legend()\n",
    "\n",
    "    elif plot_type == \"Stacked Bar Chart\":\n",
    "        fig.set_size_inches(10, 6)\n",
    "        width = 0.3\n",
    "        plt.bar(df['Month'], df['Sales'], width=width, label='Sales', color='skyblue')\n",
    "        plt.bar(df['Month'], df['Profit'], width=width, label='Profit', color='orange', bottom=df['Sales'])\n",
    "        plt.title('Sales and Profit Comparison by Month')\n",
    "        plt.xlabel('Month')\n",
    "        plt.ylabel('Amount ($)')\n",
    "        plt.legend()\n",
    "\n",
    "    elif plot_type == \"Pie Chart\":\n",
    "        fig.set_size_inches(7, 7)\n",
    "        plt.pie(df['Profit'], labels=df['Month'], autopct='%1.1f%%', startangle=140, colors=plt.cm.Paired.colors)\n",
    "        plt.title('Profit Distribution by Month')\n",
    "\n",
    "    elif plot_type == \"Scatter Plot\":\n",
    "        plt.scatter(df['Sales'], df['Profit'], color='green', s=100, edgecolors='black')\n",
    "        plt.title('Sales vs Profit')\n",
    "        plt.xlabel('Sales ($)')\n",
    "        plt.ylabel('Profit ($)')\n",
    "        plt.grid(True)\n",
    "\n",
    "    elif plot_type == \"Histogram\":\n",
    "        plt.hist(df['Sales'], bins=5, color='purple', edgecolor='black')\n",
    "        plt.title('Sales Distribution')\n",
    "        plt.xlabel('Sales ($)')\n",
    "        plt.ylabel('Frequency')\n",
    "\n",
    "    elif plot_type == \"Box Plot\":\n",
    "        plt.boxplot(df['Profit'], vert=False, patch_artist=True, boxprops=dict(facecolor=\"lightgreen\"))\n",
    "        plt.title('Profit Distribution')\n",
    "        plt.xlabel('Profit ($)')\n",
    "\n",
    "    plt.tight_layout()\n",
    "    return fig\n",
    "\n",
    "# Gradio UI\n",
    "demo = gr.Interface(\n",
    "    fn=generate_plot,\n",
    "    inputs=gr.Radio(\n",
    "        [\"Line Plot\", \"Stacked Bar Chart\", \"Pie Chart\", \"Scatter Plot\", \"Histogram\", \"Box Plot\"],\n",
    "        label=\"Choose Plot Type\"\n",
    "    ),\n",
    "    outputs=gr.Plot(label=\"Visualization\"),\n",
    "    title=\"Sales & Profit Visual Explorer\",\n",
    "    description=\"Choose a chart type to visualize the data.\"\n",
    ")\n",
    "\n",
    "demo.launch()"
   ]
  },
  {
   "cell_type": "code",
   "execution_count": null,
   "id": "94bac3ec",
   "metadata": {},
   "outputs": [],
   "source": []
  },
  {
   "cell_type": "code",
   "execution_count": null,
   "id": "30309b79",
   "metadata": {},
   "outputs": [],
   "source": []
  },
  {
   "cell_type": "code",
   "execution_count": null,
   "id": "8f43393b",
   "metadata": {},
   "outputs": [],
   "source": []
  },
  {
   "cell_type": "code",
   "execution_count": null,
   "id": "4f9841d5",
   "metadata": {},
   "outputs": [],
   "source": []
  },
  {
   "cell_type": "code",
   "execution_count": null,
   "id": "946f7836",
   "metadata": {},
   "outputs": [],
   "source": []
  },
  {
   "cell_type": "code",
   "execution_count": null,
   "id": "a16bf428",
   "metadata": {},
   "outputs": [],
   "source": [
    "import gradio as gr \n",
    "import matplotlib.pyplot as plt\n",
    "import pandas as pd\n",
    "\n",
    "data = {\n",
    "    \"Month\": [\"Jan\", \"Feb\", \"Mar\", \"Apr\", \"May\", \"Jun\"],\n",
    "    \"Sales\": [10000, 12000, 15000, 13000, 17000, 16000],\n",
    "    \"Profit\": [2000, 3000, 4000, 2500, 3500, 3000]\n",
    "}\n",
    "df = pd.DataFrame(data)\n",
    "\n",
    "\n",
    "\n",
    "def generate_plot(plot_type):\n",
    "    fig = plt.figure(figsize=(8,5))\n",
    "\n",
    "    if plot_type == 'Line Plot':\n",
    "        plt.plot(df['Month'], df['Sales'], marker = 'o', color='blue',label=\"sales\")\n",
    "        plt.title('Sales trends over month')\n",
    "        plt.xlabel('Month')\n",
    "        plt.ylabel('Sales')\n",
    "        plt.legend()\n",
    "\n",
    "    elif plot_type == 'Stacked Bar Chart':\n",
    "        fig.set_size_inches(10,8)\n",
    "        width = 0.3\n",
    "        plt.bar(df['Month'], df['Sales'], width = width, color = 'blue')\n",
    "        plt.bar(df['Month'],df['Profit'],width= width, color='orange',bottom=df['Sales'],edgecolor='black')\n",
    "        plt.title('Comparison between Sales & Profit')\n",
    "        plt.xlabel('Month')\n",
    "\n",
    "    elif plot_type == 'Pie Chart':\n",
    "        fig.set_size_inches(7,7)\n",
    "        colors = plt.cm.Paired(range(len(df['Profit'])))\n",
    "        plt.pie(df['Sales'],autopct='%1.1f%%',labels=df['Month'],startangle=140,colors=colors)\n",
    "        plt.title('Distribution of sales by refering to month')\n",
    "\n",
    "    elif plot_type == 'Scatter Plot':\n",
    "        plt.scatter(df['Sales'],df['Profit'],s=100,color='red',edgecolors='black')\n",
    "        plt.title('Relationship between Sales and Profit')\n",
    "        plt.xlabel('sales in amount ($)')\n",
    "        plt.ylabel('Profit in amount ($)')\n",
    "        plt.grid(True)\n",
    "        plt.show()\n",
    "\n",
    "    elif plot_type == 'Histogram':\n",
    "        plt.hist(df['Sales'],bins=5,color='purple',edgecolor='black')\n",
    "        plt.title('Distribution of sales')\n",
    "        plt.xlabel('hist distribution')\n",
    "        plt.ylabel('hist values')\n",
    "        plt.show()\n",
    "\n",
    "    elif plot_type == 'Box Plot':\n",
    "        plt.boxplot(df['Profit'],vert=True,patch_artist=True,boxprops=dict(facecolor='lightgreen'))\n",
    "        plt.xlabel('Profit ($)')\n",
    "\n",
    "    plt.tight_layout()\n",
    "    return fig\n",
    "demo = gr.Interface(\n",
    "    fn = generate_plot,\n",
    "    inputs=gr.Radio(['Line Plot','Stacked Bar Chart','Pie Chart','Scatter Plot','Histogram','Box Plot']),\n",
    "    outputs=gr.Plot(label='Visulization'),\n",
    "    title='The visulazation',\n",
    "    description='choose the fig you want to visulize'\n",
    ")\n",
    "demo.launch()\n",
    "\n"
   ]
  },
  {
   "cell_type": "code",
   "execution_count": null,
   "id": "634acd44",
   "metadata": {},
   "outputs": [],
   "source": [
    "import pandas as pd\n",
    "import os\n",
    "\n",
    "os.getcwd()"
   ]
  },
  {
   "cell_type": "code",
   "execution_count": null,
   "id": "93f37413",
   "metadata": {},
   "outputs": [],
   "source": [
    "df = pd.read_csv(r\"C:\\Users\\aashutosh\\Downloads\\Movie-Rating.csv\")\n",
    "df"
   ]
  },
  {
   "cell_type": "code",
   "execution_count": null,
   "id": "bf21031a",
   "metadata": {},
   "outputs": [],
   "source": [
    "df.head()"
   ]
  },
  {
   "cell_type": "code",
   "execution_count": null,
   "id": "f7cf2223",
   "metadata": {},
   "outputs": [],
   "source": [
    "df.tail()"
   ]
  },
  {
   "cell_type": "code",
   "execution_count": null,
   "id": "d3a6b30f",
   "metadata": {},
   "outputs": [],
   "source": [
    "df.describe()"
   ]
  },
  {
   "cell_type": "code",
   "execution_count": null,
   "id": "8c95ae5d",
   "metadata": {},
   "outputs": [],
   "source": [
    "df.info()"
   ]
  },
  {
   "cell_type": "code",
   "execution_count": null,
   "id": "eb4fbc4d",
   "metadata": {},
   "outputs": [],
   "source": [
    "len(df)"
   ]
  },
  {
   "cell_type": "code",
   "execution_count": null,
   "id": "af16a767",
   "metadata": {},
   "outputs": [],
   "source": [
    "df.columns"
   ]
  },
  {
   "cell_type": "code",
   "execution_count": null,
   "id": "ab37f171",
   "metadata": {},
   "outputs": [],
   "source": [
    "df.columns = ['Film','Genre','CriticRating','AudienceRating','BudgetMillions','Year']"
   ]
  },
  {
   "cell_type": "code",
   "execution_count": null,
   "id": "b40a270e",
   "metadata": {},
   "outputs": [],
   "source": [
    "df.columns"
   ]
  },
  {
   "cell_type": "code",
   "execution_count": null,
   "id": "aa9163a4",
   "metadata": {},
   "outputs": [],
   "source": [
    "df.head()"
   ]
  },
  {
   "cell_type": "code",
   "execution_count": null,
   "id": "81baaab2",
   "metadata": {},
   "outputs": [],
   "source": [
    "df.info()"
   ]
  },
  {
   "cell_type": "code",
   "execution_count": null,
   "id": "3b714d0f",
   "metadata": {},
   "outputs": [],
   "source": [
    "df.describe()"
   ]
  },
  {
   "cell_type": "code",
   "execution_count": null,
   "id": "e7308ccc",
   "metadata": {},
   "outputs": [],
   "source": [
    "df['Film']"
   ]
  },
  {
   "cell_type": "code",
   "execution_count": null,
   "id": "00038b45",
   "metadata": {},
   "outputs": [],
   "source": [
    "df['Genre']"
   ]
  },
  {
   "cell_type": "code",
   "execution_count": null,
   "id": "82cb5985",
   "metadata": {},
   "outputs": [],
   "source": [
    "df.columns"
   ]
  },
  {
   "cell_type": "code",
   "execution_count": null,
   "id": "eee333d2",
   "metadata": {},
   "outputs": [],
   "source": [
    "df['CriticRating']"
   ]
  },
  {
   "cell_type": "code",
   "execution_count": null,
   "id": "2d5a1aec",
   "metadata": {},
   "outputs": [],
   "source": [
    "df['AudienceRating']"
   ]
  },
  {
   "cell_type": "code",
   "execution_count": null,
   "id": "22fbaa14",
   "metadata": {},
   "outputs": [],
   "source": [
    "df['BudgetMillions']"
   ]
  },
  {
   "cell_type": "code",
   "execution_count": null,
   "id": "02582953",
   "metadata": {},
   "outputs": [],
   "source": [
    "\n",
    "df['Year']"
   ]
  },
  {
   "cell_type": "code",
   "execution_count": null,
   "id": "f22e0424",
   "metadata": {},
   "outputs": [],
   "source": [
    "df.info()"
   ]
  },
  {
   "cell_type": "code",
   "execution_count": null,
   "id": "ce793d08",
   "metadata": {},
   "outputs": [],
   "source": [
    "df.Film = df.Film.astype('category')"
   ]
  },
  {
   "cell_type": "code",
   "execution_count": null,
   "id": "c1d0526c",
   "metadata": {},
   "outputs": [],
   "source": [
    "df.Film"
   ]
  },
  {
   "cell_type": "code",
   "execution_count": null,
   "id": "3c503822",
   "metadata": {},
   "outputs": [],
   "source": [
    "df.Genre = df.Genre.astype('category')\n",
    "df.Year = df.Year.astype('category')"
   ]
  },
  {
   "cell_type": "code",
   "execution_count": null,
   "id": "1312a9cc",
   "metadata": {},
   "outputs": [],
   "source": [
    "df.Genre"
   ]
  },
  {
   "cell_type": "code",
   "execution_count": null,
   "id": "b8a996f5",
   "metadata": {},
   "outputs": [],
   "source": [
    "df.Year"
   ]
  },
  {
   "cell_type": "code",
   "execution_count": null,
   "id": "1bbf19d3",
   "metadata": {},
   "outputs": [],
   "source": [
    "df.info()"
   ]
  },
  {
   "cell_type": "code",
   "execution_count": null,
   "id": "d956d8a1",
   "metadata": {},
   "outputs": [],
   "source": [
    "df.Genre.cat.categories"
   ]
  },
  {
   "cell_type": "code",
   "execution_count": null,
   "id": "3315443d",
   "metadata": {},
   "outputs": [],
   "source": [
    "df.describe()"
   ]
  },
  {
   "cell_type": "code",
   "execution_count": null,
   "id": "5868e1eb",
   "metadata": {},
   "outputs": [],
   "source": [
    "import matplotlib.pyplot as plt\n",
    "import seaborn as sns\n",
    "%matplotlib inline\n",
    "import warnings\n",
    "warnings.filterwarnings('ignore')"
   ]
  },
  {
   "cell_type": "code",
   "execution_count": null,
   "id": "5bc8bb74",
   "metadata": {},
   "outputs": [],
   "source": [
    "j = sns.jointplot(data=df,x='CriticRating', y='AudienceRating')\n"
   ]
  },
  {
   "cell_type": "code",
   "execution_count": null,
   "id": "176f3d86",
   "metadata": {},
   "outputs": [],
   "source": [
    "j = sns.jointplot(data=df, x='CriticRating', y='AudienceRating' )"
   ]
  },
  {
   "cell_type": "code",
   "execution_count": null,
   "id": "ece9d7f2",
   "metadata": {},
   "outputs": [],
   "source": [
    "j = sns.jointplot(data=df, x='CriticRating',y='AudienceRating',kind = 'hex')"
   ]
  },
  {
   "cell_type": "code",
   "execution_count": null,
   "id": "8945f1fe",
   "metadata": {},
   "outputs": [],
   "source": [
    "m1 = sns.distplot(df.AudienceRating)"
   ]
  },
  {
   "cell_type": "code",
   "execution_count": null,
   "id": "919166f6",
   "metadata": {},
   "outputs": [],
   "source": [
    "m1 = sns.distplot(df.AudienceRating)"
   ]
  },
  {
   "cell_type": "code",
   "execution_count": null,
   "id": "c849cd95",
   "metadata": {},
   "outputs": [],
   "source": [
    "sns.set_style('darkgrid')"
   ]
  },
  {
   "cell_type": "markdown",
   "id": "9ff12dbc",
   "metadata": {},
   "source": [
    "m1 = sns.displot(df.AudienceRating)"
   ]
  },
  {
   "cell_type": "code",
   "execution_count": null,
   "id": "dffb1f2b",
   "metadata": {},
   "outputs": [],
   "source": [
    "m1 = sns.displot(df.AudienceRating)"
   ]
  },
  {
   "cell_type": "code",
   "execution_count": null,
   "id": "eed06b4c",
   "metadata": {},
   "outputs": [],
   "source": [
    "m2 = sns.distplot(df.AudienceRating,bins=15)"
   ]
  },
  {
   "cell_type": "code",
   "execution_count": null,
   "id": "8568dad4",
   "metadata": {},
   "outputs": [],
   "source": [
    "n1 = plt.hist(df.AudienceRating,bins=15)"
   ]
  },
  {
   "cell_type": "code",
   "execution_count": null,
   "id": "5bc45fa7",
   "metadata": {},
   "outputs": [],
   "source": [
    "sns.set_style('white')\n",
    "n1 = plt.hist(df.AudienceRating,bins=15)"
   ]
  },
  {
   "cell_type": "code",
   "execution_count": null,
   "id": "6f61e579",
   "metadata": {},
   "outputs": [],
   "source": [
    "n1 = plt.hist(df.AudienceRating,bins=20)"
   ]
  },
  {
   "cell_type": "code",
   "execution_count": null,
   "id": "4743d8e1",
   "metadata": {},
   "outputs": [],
   "source": [
    "plt.hist(df.BudgetMillions)\n",
    "plt.show()"
   ]
  },
  {
   "cell_type": "code",
   "execution_count": null,
   "id": "b8b58c80",
   "metadata": {},
   "outputs": [],
   "source": [
    "plt.hist(df[df.Genre == 'Drama'].BudgetMillions)\n",
    "plt.show()"
   ]
  },
  {
   "cell_type": "code",
   "execution_count": null,
   "id": "3f85fb44",
   "metadata": {},
   "outputs": [],
   "source": [
    "plt.hist(df[df.Genre == 'Drama'].BudgetMillions)\n",
    "plt.show()"
   ]
  },
  {
   "cell_type": "code",
   "execution_count": null,
   "id": "60d8ebb7",
   "metadata": {},
   "outputs": [],
   "source": [
    "df.head()"
   ]
  },
  {
   "cell_type": "code",
   "execution_count": null,
   "id": "f5733584",
   "metadata": {},
   "outputs": [],
   "source": [
    "plt.hist(df[df.Genre == 'Action'].BudgetMillions,bins=20)\n",
    "plt.hist(df[df.Genre == 'Thriller'].BudgetMillions,bins=20)\n",
    "plt.hist(df[df.Genre == 'Comedy'].BudgetMillions,bins=20)\n",
    "plt.hist(df[df.Genre == 'Drama'].BudgetMillions,bins=20)\n",
    "plt.legend()\n",
    "plt.show()\n",
    "\n"
   ]
  },
  {
   "cell_type": "code",
   "execution_count": null,
   "id": "108d5a9f",
   "metadata": {},
   "outputs": [],
   "source": [
    "plt.hist([df[df.Genre == 'Action'].BudgetMillions,\\\n",
    "          df[df.Genre == 'Drama'].BudgetMillions,\\\n",
    "          df[df.Genre == 'Thriller'].BudgetMillions,\\\n",
    "          df[df.Genre == 'Comedy'].BudgetMillions],\n",
    "          bins=20,stacked=True)\n",
    "plt.show()"
   ]
  },
  {
   "cell_type": "code",
   "execution_count": null,
   "id": "80b1d510",
   "metadata": {},
   "outputs": [],
   "source": [
    "plt.hist([df[df.Genre == 'Action'].BudgetMillions,\\\n",
    "          df[df.Genre == 'Drama'].BudgetMillions, \\\n",
    "          df[df.Genre == 'Thriller'].BudgetMillions, \\\n",
    "          df[df.Genre == 'Comedy'].BudgetMillions],\n",
    "         bins = 20, stacked = True)\n",
    "plt.show()  "
   ]
  },
  {
   "cell_type": "code",
   "execution_count": null,
   "id": "97aa400d",
   "metadata": {},
   "outputs": [],
   "source": [
    "plt.hist([df[df.Genre == 'Action'].BudgetMillions,\\\n",
    "        df[df.Genre == 'Drama'].BudgetMillions,\\\n",
    "        df[df.Genre == 'Comedy'].BudgetMillions,\\\n",
    "        df[df.Genre == 'Thriller'].BudgetMillions],\n",
    "        bins = 20, stacked=True)\n",
    "plt.show()"
   ]
  },
  {
   "cell_type": "code",
   "execution_count": null,
   "id": "4877329e",
   "metadata": {},
   "outputs": [],
   "source": [
    "for gen in df.Genre.cat.categories:\n",
    "    print(gen)"
   ]
  },
  {
   "cell_type": "code",
   "execution_count": null,
   "id": "a248fbaf",
   "metadata": {},
   "outputs": [],
   "source": [
    "vis1 = sns.lmplot(data=df, x='CriticRating',y='AudienceRating',fit_reg=False)"
   ]
  },
  {
   "cell_type": "code",
   "execution_count": null,
   "id": "8bedd972",
   "metadata": {},
   "outputs": [],
   "source": [
    "vis1 = sns.lmplot(data=df,x='CriticRating', y = 'AudienceRating',fit_reg=True)"
   ]
  },
  {
   "cell_type": "code",
   "execution_count": null,
   "id": "be1bf862",
   "metadata": {},
   "outputs": [],
   "source": [
    "vis1 = sns.lmplot(data=df, x='CriticRating', y='AudienceRating',hue='Genre')"
   ]
  },
  {
   "cell_type": "code",
   "execution_count": null,
   "id": "d5102484",
   "metadata": {},
   "outputs": [],
   "source": [
    "vis1 = sns.lmplot(data = df, x = 'CriticRating', y='AudienceRating',hue='Genre',fit_reg=False)"
   ]
  },
  {
   "cell_type": "code",
   "execution_count": null,
   "id": "af0bce46",
   "metadata": {},
   "outputs": [],
   "source": [
    "vis1 = sns.lmplot(data=df,x='CriticRating',y='AudienceRating',hue='Genre',aspect=1,height=10)"
   ]
  },
  {
   "cell_type": "code",
   "execution_count": null,
   "id": "6bc1d702",
   "metadata": {},
   "outputs": [],
   "source": [
    "k1 = sns.kdeplot(x=df.CriticRating,y=df.AudienceRating)"
   ]
  },
  {
   "cell_type": "code",
   "execution_count": null,
   "id": "130f49bc",
   "metadata": {},
   "outputs": [],
   "source": [
    "k1 = sns.kdeplot(x=df.CriticRating,y=df.AudienceRating)"
   ]
  },
  {
   "cell_type": "code",
   "execution_count": null,
   "id": "fb2ec37c",
   "metadata": {},
   "outputs": [],
   "source": [
    "k1 = sns.kdeplot(x=df.CriticRating,y=df.AudienceRating,shade= True,shade_lowest=False,cmap='Reds')"
   ]
  },
  {
   "cell_type": "code",
   "execution_count": null,
   "id": "4c7e17d3",
   "metadata": {},
   "outputs": [],
   "source": [
    "k2 = sns.kdeplot(x=df.CriticRating,y=df.AudienceRating,cmap='Greens',shade_lowest=False)"
   ]
  },
  {
   "cell_type": "code",
   "execution_count": null,
   "id": "88ea8cb7",
   "metadata": {},
   "outputs": [],
   "source": [
    "sns.set_style('dark')\n",
    "k1 = sns.kdeplot(x=df.CriticRating,y=df.AudienceRating,shade_lowest=False,cmap='Greens')"
   ]
  },
  {
   "cell_type": "code",
   "execution_count": null,
   "id": "88244991",
   "metadata": {},
   "outputs": [],
   "source": [
    "f, ax = plt.subplots(1,2 ,figsize = (12,6))"
   ]
  },
  {
   "cell_type": "code",
   "execution_count": null,
   "id": "3e4adeec",
   "metadata": {},
   "outputs": [],
   "source": [
    "f , ax = plt.subplots(3,3,figsize = (12,6))"
   ]
  },
  {
   "cell_type": "code",
   "execution_count": null,
   "id": "d9c77a7f",
   "metadata": {},
   "outputs": [],
   "source": [
    "f, axes = plt.subplots(1,2,figsize=(12,6))\n",
    "\n",
    "k1 = sns.kdeplot(x=df.BudgetMillions,y=df.CriticRating,ax=axes[0])\n",
    "k2 = sns.kdeplot(x=df.BudgetMillions,y=df.AudienceRating,ax=axes[1])"
   ]
  },
  {
   "cell_type": "code",
   "execution_count": null,
   "id": "fa7034b7",
   "metadata": {},
   "outputs": [],
   "source": [
    "axes"
   ]
  },
  {
   "cell_type": "code",
   "execution_count": null,
   "id": "92376290",
   "metadata": {},
   "outputs": [],
   "source": [
    "w = sns.boxplot(data=df, x='Genre', y = 'CriticRating',hue='Genre')"
   ]
  },
  {
   "cell_type": "code",
   "execution_count": null,
   "id": "97450a36",
   "metadata": {},
   "outputs": [],
   "source": [
    "v = sns.boxplot(data =df,x='Genre', y = 'CriticRating', hue='Genre')"
   ]
  },
  {
   "cell_type": "code",
   "execution_count": null,
   "id": "a78180ba",
   "metadata": {},
   "outputs": [],
   "source": [
    "z = sns.violinplot(data=df,x = 'Genre', y = 'CriticRating',hue='Genre')"
   ]
  },
  {
   "cell_type": "code",
   "execution_count": null,
   "id": "972de8cd",
   "metadata": {},
   "outputs": [],
   "source": [
    "w1 = sns.boxplot(data=df[df.Genre == 'Drama'],x='Year',y='CriticRating')"
   ]
  },
  {
   "cell_type": "code",
   "execution_count": null,
   "id": "6abec8b4",
   "metadata": {},
   "outputs": [],
   "source": [
    "z1 = sns.violinplot(data=df[df.Genre == 'Drama'], x = 'Year' , y ='CriticRating')"
   ]
  },
  {
   "cell_type": "code",
   "execution_count": null,
   "id": "902da5f5",
   "metadata": {},
   "outputs": [],
   "source": [
    "g = sns.FacetGrid(df,row='Genre',col='Year', hue='Genre')"
   ]
  },
  {
   "cell_type": "code",
   "execution_count": null,
   "id": "a028e8de",
   "metadata": {},
   "outputs": [],
   "source": [
    "g = sns.FacetGrid(df,row='Genre', col='Year',hue='Genre')"
   ]
  },
  {
   "cell_type": "code",
   "execution_count": null,
   "id": "fec70e3b",
   "metadata": {},
   "outputs": [],
   "source": [
    "plt.scatter(df['AudienceRating'],df['CriticRating'])"
   ]
  },
  {
   "cell_type": "code",
   "execution_count": null,
   "id": "7c9e6a8b",
   "metadata": {},
   "outputs": [],
   "source": [
    "plt.scatter(x=df.AudienceRating,y=df.CriticRating)"
   ]
  },
  {
   "cell_type": "code",
   "execution_count": null,
   "id": "5ffd21a5",
   "metadata": {},
   "outputs": [],
   "source": [
    "g = sns.FacetGrid(df,row='Genre',col='Year', hue='Genre')\n",
    "g = g.map(plt.scatter,'CriticRating','AudienceRating')"
   ]
  },
  {
   "cell_type": "code",
   "execution_count": null,
   "id": "2a98f41c",
   "metadata": {},
   "outputs": [],
   "source": [
    "g = sns.FacetGrid(df,row='Genre',col='Year', hue='Genre')\n",
    "g = g.map(plt.scatter,'CriticRating', 'AudienceRating')"
   ]
  },
  {
   "cell_type": "code",
   "execution_count": null,
   "id": "40d367f7",
   "metadata": {},
   "outputs": [],
   "source": [
    "df.BudgetMillions = df.BudgetMillions.astype('int')"
   ]
  },
  {
   "cell_type": "code",
   "execution_count": null,
   "id": "bb83fe71",
   "metadata": {},
   "outputs": [],
   "source": [
    "g = sns.FacetGrid(df, row='Genre', col='Year',hue = 'Genre')\n",
    "g = g.map(plt.hist, 'BugdetMillions')"
   ]
  },
  {
   "cell_type": "code",
   "execution_count": null,
   "id": "8934db14",
   "metadata": {},
   "outputs": [],
   "source": []
  },
  {
   "cell_type": "code",
   "execution_count": null,
   "id": "1d88f5ad",
   "metadata": {},
   "outputs": [],
   "source": [
    "\n",
    "g =sns.FacetGrid (df, row = 'Genre', col = 'Year', hue = 'Genre')\n",
    "g = g.map(plt.hist, 'BudgetMillions')"
   ]
  },
  {
   "cell_type": "code",
   "execution_count": null,
   "id": "e6eddf81",
   "metadata": {},
   "outputs": [],
   "source": []
  }
 ],
 "metadata": {
  "kernelspec": {
   "display_name": "base",
   "language": "python",
   "name": "python3"
  },
  "language_info": {
   "codemirror_mode": {
    "name": "ipython",
    "version": 3
   },
   "file_extension": ".py",
   "mimetype": "text/x-python",
   "name": "python",
   "nbconvert_exporter": "python",
   "pygments_lexer": "ipython3",
   "version": "3.13.5"
  }
 },
 "nbformat": 4,
 "nbformat_minor": 5
}
