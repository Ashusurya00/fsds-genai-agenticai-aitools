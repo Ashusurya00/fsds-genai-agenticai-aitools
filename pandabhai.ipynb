{
 "cells": [
  {
   "cell_type": "code",
   "execution_count": null,
   "id": "dfa3f4aa",
   "metadata": {},
   "outputs": [],
   "source": [
    "pip install panda"
   ]
  },
  {
   "cell_type": "code",
   "execution_count": 16,
   "id": "218318ff",
   "metadata": {},
   "outputs": [],
   "source": [
    "import pandas as pd\n",
    "import numpy as np"
   ]
  },
  {
   "cell_type": "code",
   "execution_count": 3,
   "id": "e625d968",
   "metadata": {},
   "outputs": [],
   "source": [
    "df = pd.read_csv(r'C:\\Users\\aashutosh\\Downloads\\data.csv')"
   ]
  },
  {
   "cell_type": "code",
   "execution_count": 4,
   "id": "a17b25df",
   "metadata": {},
   "outputs": [
    {
     "data": {
      "text/html": [
       "<div>\n",
       "<style scoped>\n",
       "    .dataframe tbody tr th:only-of-type {\n",
       "        vertical-align: middle;\n",
       "    }\n",
       "\n",
       "    .dataframe tbody tr th {\n",
       "        vertical-align: top;\n",
       "    }\n",
       "\n",
       "    .dataframe thead th {\n",
       "        text-align: right;\n",
       "    }\n",
       "</style>\n",
       "<table border=\"1\" class=\"dataframe\">\n",
       "  <thead>\n",
       "    <tr style=\"text-align: right;\">\n",
       "      <th></th>\n",
       "      <th>CountryName</th>\n",
       "      <th>CountryCode</th>\n",
       "      <th>BirthRate</th>\n",
       "      <th>InternetUsers</th>\n",
       "      <th>IncomeGroup</th>\n",
       "    </tr>\n",
       "  </thead>\n",
       "  <tbody>\n",
       "    <tr>\n",
       "      <th>0</th>\n",
       "      <td>Aruba</td>\n",
       "      <td>ABW</td>\n",
       "      <td>10.244</td>\n",
       "      <td>78.9</td>\n",
       "      <td>High income</td>\n",
       "    </tr>\n",
       "    <tr>\n",
       "      <th>1</th>\n",
       "      <td>Afghanistan</td>\n",
       "      <td>AFG</td>\n",
       "      <td>35.253</td>\n",
       "      <td>5.9</td>\n",
       "      <td>Low income</td>\n",
       "    </tr>\n",
       "    <tr>\n",
       "      <th>2</th>\n",
       "      <td>Angola</td>\n",
       "      <td>AGO</td>\n",
       "      <td>45.985</td>\n",
       "      <td>19.1</td>\n",
       "      <td>Upper middle income</td>\n",
       "    </tr>\n",
       "    <tr>\n",
       "      <th>3</th>\n",
       "      <td>Albania</td>\n",
       "      <td>ALB</td>\n",
       "      <td>12.877</td>\n",
       "      <td>57.2</td>\n",
       "      <td>Upper middle income</td>\n",
       "    </tr>\n",
       "    <tr>\n",
       "      <th>4</th>\n",
       "      <td>United Arab Emirates</td>\n",
       "      <td>ARE</td>\n",
       "      <td>11.044</td>\n",
       "      <td>88.0</td>\n",
       "      <td>High income</td>\n",
       "    </tr>\n",
       "    <tr>\n",
       "      <th>...</th>\n",
       "      <td>...</td>\n",
       "      <td>...</td>\n",
       "      <td>...</td>\n",
       "      <td>...</td>\n",
       "      <td>...</td>\n",
       "    </tr>\n",
       "    <tr>\n",
       "      <th>190</th>\n",
       "      <td>Yemen, Rep.</td>\n",
       "      <td>YEM</td>\n",
       "      <td>32.947</td>\n",
       "      <td>20.0</td>\n",
       "      <td>Lower middle income</td>\n",
       "    </tr>\n",
       "    <tr>\n",
       "      <th>191</th>\n",
       "      <td>South Africa</td>\n",
       "      <td>ZAF</td>\n",
       "      <td>20.850</td>\n",
       "      <td>46.5</td>\n",
       "      <td>Upper middle income</td>\n",
       "    </tr>\n",
       "    <tr>\n",
       "      <th>192</th>\n",
       "      <td>Congo, Dem. Rep.</td>\n",
       "      <td>COD</td>\n",
       "      <td>42.394</td>\n",
       "      <td>2.2</td>\n",
       "      <td>Low income</td>\n",
       "    </tr>\n",
       "    <tr>\n",
       "      <th>193</th>\n",
       "      <td>Zambia</td>\n",
       "      <td>ZMB</td>\n",
       "      <td>40.471</td>\n",
       "      <td>15.4</td>\n",
       "      <td>Lower middle income</td>\n",
       "    </tr>\n",
       "    <tr>\n",
       "      <th>194</th>\n",
       "      <td>Zimbabwe</td>\n",
       "      <td>ZWE</td>\n",
       "      <td>35.715</td>\n",
       "      <td>18.5</td>\n",
       "      <td>Low income</td>\n",
       "    </tr>\n",
       "  </tbody>\n",
       "</table>\n",
       "<p>195 rows × 5 columns</p>\n",
       "</div>"
      ],
      "text/plain": [
       "              CountryName CountryCode  BirthRate  InternetUsers  \\\n",
       "0                   Aruba         ABW     10.244           78.9   \n",
       "1             Afghanistan         AFG     35.253            5.9   \n",
       "2                  Angola         AGO     45.985           19.1   \n",
       "3                 Albania         ALB     12.877           57.2   \n",
       "4    United Arab Emirates         ARE     11.044           88.0   \n",
       "..                    ...         ...        ...            ...   \n",
       "190           Yemen, Rep.         YEM     32.947           20.0   \n",
       "191          South Africa         ZAF     20.850           46.5   \n",
       "192      Congo, Dem. Rep.         COD     42.394            2.2   \n",
       "193                Zambia         ZMB     40.471           15.4   \n",
       "194              Zimbabwe         ZWE     35.715           18.5   \n",
       "\n",
       "             IncomeGroup  \n",
       "0            High income  \n",
       "1             Low income  \n",
       "2    Upper middle income  \n",
       "3    Upper middle income  \n",
       "4            High income  \n",
       "..                   ...  \n",
       "190  Lower middle income  \n",
       "191  Upper middle income  \n",
       "192           Low income  \n",
       "193  Lower middle income  \n",
       "194           Low income  \n",
       "\n",
       "[195 rows x 5 columns]"
      ]
     },
     "execution_count": 4,
     "metadata": {},
     "output_type": "execute_result"
    }
   ],
   "source": [
    "df"
   ]
  },
  {
   "cell_type": "code",
   "execution_count": 10,
   "id": "f19fbefa",
   "metadata": {},
   "outputs": [
    {
     "data": {
      "text/html": [
       "<div>\n",
       "<style scoped>\n",
       "    .dataframe tbody tr th:only-of-type {\n",
       "        vertical-align: middle;\n",
       "    }\n",
       "\n",
       "    .dataframe tbody tr th {\n",
       "        vertical-align: top;\n",
       "    }\n",
       "\n",
       "    .dataframe thead th {\n",
       "        text-align: right;\n",
       "    }\n",
       "</style>\n",
       "<table border=\"1\" class=\"dataframe\">\n",
       "  <thead>\n",
       "    <tr style=\"text-align: right;\">\n",
       "      <th></th>\n",
       "      <th>name</th>\n",
       "      <th>age</th>\n",
       "      <th>city</th>\n",
       "    </tr>\n",
       "  </thead>\n",
       "  <tbody>\n",
       "    <tr>\n",
       "      <th>0</th>\n",
       "      <td>ram</td>\n",
       "      <td>10</td>\n",
       "      <td>nagpur</td>\n",
       "    </tr>\n",
       "    <tr>\n",
       "      <th>1</th>\n",
       "      <td>shayam</td>\n",
       "      <td>20</td>\n",
       "      <td>mumbai</td>\n",
       "    </tr>\n",
       "    <tr>\n",
       "      <th>2</th>\n",
       "      <td>ghan</td>\n",
       "      <td>30</td>\n",
       "      <td>delhi</td>\n",
       "    </tr>\n",
       "  </tbody>\n",
       "</table>\n",
       "</div>"
      ],
      "text/plain": [
       "     name  age    city\n",
       "0     ram   10  nagpur\n",
       "1  shayam   20  mumbai\n",
       "2    ghan   30   delhi"
      ]
     },
     "execution_count": 10,
     "metadata": {},
     "output_type": "execute_result"
    }
   ],
   "source": [
    "data = {\n",
    "    'name':['ram','shayam','ghan'],\n",
    "    'age':[10,20,30],\n",
    "    'city':['nagpur','mumbai','delhi']\n",
    "}\n",
    "df = pd.DataFrame(data)\n",
    "df"
   ]
  },
  {
   "cell_type": "code",
   "execution_count": 11,
   "id": "9abe38ea",
   "metadata": {},
   "outputs": [],
   "source": [
    "df.to_csv('output.csv')"
   ]
  },
  {
   "cell_type": "code",
   "execution_count": 12,
   "id": "1f0e32bb",
   "metadata": {},
   "outputs": [],
   "source": [
    "df.to_excel('output.xlsx',index=False)"
   ]
  },
  {
   "cell_type": "code",
   "execution_count": 13,
   "id": "a961b199",
   "metadata": {},
   "outputs": [],
   "source": [
    "df.to_json('output.json')"
   ]
  },
  {
   "cell_type": "code",
   "execution_count": 15,
   "id": "bcaa6b60",
   "metadata": {},
   "outputs": [
    {
     "name": "stdout",
     "output_type": "stream",
     "text": [
      "display 10 rows of first\n",
      "            CountryName CountryCode  BirthRate  InternetUsers  \\\n",
      "0                 Aruba         ABW     10.244        78.9000   \n",
      "1           Afghanistan         AFG     35.253         5.9000   \n",
      "2                Angola         AGO     45.985        19.1000   \n",
      "3               Albania         ALB     12.877        57.2000   \n",
      "4  United Arab Emirates         ARE     11.044        88.0000   \n",
      "5             Argentina         ARG     17.716        59.9000   \n",
      "6               Armenia         ARM     13.308        41.9000   \n",
      "7   Antigua and Barbuda         ATG     16.447        63.4000   \n",
      "8             Australia         AUS     13.200        83.0000   \n",
      "9               Austria         AUT      9.400        80.6188   \n",
      "\n",
      "           IncomeGroup  \n",
      "0          High income  \n",
      "1           Low income  \n",
      "2  Upper middle income  \n",
      "3  Upper middle income  \n",
      "4          High income  \n",
      "5          High income  \n",
      "6  Lower middle income  \n",
      "7          High income  \n",
      "8          High income  \n",
      "9          High income  \n",
      "display 10 rows od last\n"
     ]
    },
    {
     "data": {
      "text/html": [
       "<div>\n",
       "<style scoped>\n",
       "    .dataframe tbody tr th:only-of-type {\n",
       "        vertical-align: middle;\n",
       "    }\n",
       "\n",
       "    .dataframe tbody tr th {\n",
       "        vertical-align: top;\n",
       "    }\n",
       "\n",
       "    .dataframe thead th {\n",
       "        text-align: right;\n",
       "    }\n",
       "</style>\n",
       "<table border=\"1\" class=\"dataframe\">\n",
       "  <thead>\n",
       "    <tr style=\"text-align: right;\">\n",
       "      <th></th>\n",
       "      <th>CountryName</th>\n",
       "      <th>CountryCode</th>\n",
       "      <th>BirthRate</th>\n",
       "      <th>InternetUsers</th>\n",
       "      <th>IncomeGroup</th>\n",
       "    </tr>\n",
       "  </thead>\n",
       "  <tbody>\n",
       "    <tr>\n",
       "      <th>185</th>\n",
       "      <td>Virgin Islands (U.S.)</td>\n",
       "      <td>VIR</td>\n",
       "      <td>10.700</td>\n",
       "      <td>45.3</td>\n",
       "      <td>High income</td>\n",
       "    </tr>\n",
       "    <tr>\n",
       "      <th>186</th>\n",
       "      <td>Vietnam</td>\n",
       "      <td>VNM</td>\n",
       "      <td>15.537</td>\n",
       "      <td>43.9</td>\n",
       "      <td>Lower middle income</td>\n",
       "    </tr>\n",
       "    <tr>\n",
       "      <th>187</th>\n",
       "      <td>Vanuatu</td>\n",
       "      <td>VUT</td>\n",
       "      <td>26.739</td>\n",
       "      <td>11.3</td>\n",
       "      <td>Lower middle income</td>\n",
       "    </tr>\n",
       "    <tr>\n",
       "      <th>188</th>\n",
       "      <td>West Bank and Gaza</td>\n",
       "      <td>PSE</td>\n",
       "      <td>30.394</td>\n",
       "      <td>46.6</td>\n",
       "      <td>Lower middle income</td>\n",
       "    </tr>\n",
       "    <tr>\n",
       "      <th>189</th>\n",
       "      <td>Samoa</td>\n",
       "      <td>WSM</td>\n",
       "      <td>26.172</td>\n",
       "      <td>15.3</td>\n",
       "      <td>Lower middle income</td>\n",
       "    </tr>\n",
       "    <tr>\n",
       "      <th>190</th>\n",
       "      <td>Yemen, Rep.</td>\n",
       "      <td>YEM</td>\n",
       "      <td>32.947</td>\n",
       "      <td>20.0</td>\n",
       "      <td>Lower middle income</td>\n",
       "    </tr>\n",
       "    <tr>\n",
       "      <th>191</th>\n",
       "      <td>South Africa</td>\n",
       "      <td>ZAF</td>\n",
       "      <td>20.850</td>\n",
       "      <td>46.5</td>\n",
       "      <td>Upper middle income</td>\n",
       "    </tr>\n",
       "    <tr>\n",
       "      <th>192</th>\n",
       "      <td>Congo, Dem. Rep.</td>\n",
       "      <td>COD</td>\n",
       "      <td>42.394</td>\n",
       "      <td>2.2</td>\n",
       "      <td>Low income</td>\n",
       "    </tr>\n",
       "    <tr>\n",
       "      <th>193</th>\n",
       "      <td>Zambia</td>\n",
       "      <td>ZMB</td>\n",
       "      <td>40.471</td>\n",
       "      <td>15.4</td>\n",
       "      <td>Lower middle income</td>\n",
       "    </tr>\n",
       "    <tr>\n",
       "      <th>194</th>\n",
       "      <td>Zimbabwe</td>\n",
       "      <td>ZWE</td>\n",
       "      <td>35.715</td>\n",
       "      <td>18.5</td>\n",
       "      <td>Low income</td>\n",
       "    </tr>\n",
       "  </tbody>\n",
       "</table>\n",
       "</div>"
      ],
      "text/plain": [
       "               CountryName CountryCode  BirthRate  InternetUsers  \\\n",
       "185  Virgin Islands (U.S.)         VIR     10.700           45.3   \n",
       "186                Vietnam         VNM     15.537           43.9   \n",
       "187                Vanuatu         VUT     26.739           11.3   \n",
       "188     West Bank and Gaza         PSE     30.394           46.6   \n",
       "189                  Samoa         WSM     26.172           15.3   \n",
       "190            Yemen, Rep.         YEM     32.947           20.0   \n",
       "191           South Africa         ZAF     20.850           46.5   \n",
       "192       Congo, Dem. Rep.         COD     42.394            2.2   \n",
       "193                 Zambia         ZMB     40.471           15.4   \n",
       "194               Zimbabwe         ZWE     35.715           18.5   \n",
       "\n",
       "             IncomeGroup  \n",
       "185          High income  \n",
       "186  Lower middle income  \n",
       "187  Lower middle income  \n",
       "188  Lower middle income  \n",
       "189  Lower middle income  \n",
       "190  Lower middle income  \n",
       "191  Upper middle income  \n",
       "192           Low income  \n",
       "193  Lower middle income  \n",
       "194           Low income  "
      ]
     },
     "execution_count": 15,
     "metadata": {},
     "output_type": "execute_result"
    }
   ],
   "source": [
    "df = pd.read_csv(r'C:\\Users\\aashutosh\\Downloads\\data.csv')\n",
    "\n",
    "print('display 10 rows of first')\n",
    "print(df.head(10))\n",
    "\n",
    "print('display 10 rows od last')\n",
    "df.tail(10)"
   ]
  },
  {
   "cell_type": "code",
   "execution_count": 16,
   "id": "afd4b4a7",
   "metadata": {},
   "outputs": [
    {
     "name": "stdout",
     "output_type": "stream",
     "text": [
      "displaying the info of data\n",
      "<class 'pandas.core.frame.DataFrame'>\n",
      "RangeIndex: 195 entries, 0 to 194\n",
      "Data columns (total 5 columns):\n",
      " #   Column         Non-Null Count  Dtype  \n",
      "---  ------         --------------  -----  \n",
      " 0   CountryName    195 non-null    object \n",
      " 1   CountryCode    195 non-null    object \n",
      " 2   BirthRate      195 non-null    float64\n",
      " 3   InternetUsers  195 non-null    float64\n",
      " 4   IncomeGroup    195 non-null    object \n",
      "dtypes: float64(2), object(3)\n",
      "memory usage: 7.7+ KB\n",
      "None\n"
     ]
    }
   ],
   "source": [
    "df = pd.read_csv(r'C:\\Users\\aashutosh\\Downloads\\data.csv')\n",
    "\n",
    "print('displaying the info of data')\n",
    "print(df.info())"
   ]
  },
  {
   "cell_type": "code",
   "execution_count": 18,
   "id": "c7069658",
   "metadata": {},
   "outputs": [
    {
     "name": "stdout",
     "output_type": "stream",
     "text": [
      "<class 'pandas.core.frame.DataFrame'>\n",
      "RangeIndex: 3 entries, 0 to 2\n",
      "Data columns (total 3 columns):\n",
      " #   Column  Non-Null Count  Dtype \n",
      "---  ------  --------------  ----- \n",
      " 0   name    3 non-null      object\n",
      " 1   age     3 non-null      int64 \n",
      " 2   city    3 non-null      object\n",
      "dtypes: int64(1), object(2)\n",
      "memory usage: 204.0+ bytes\n",
      "None\n"
     ]
    }
   ],
   "source": [
    "data = {\n",
    "    'name':['ram','shayam','ghan'],\n",
    "    'age':[10,20,30],\n",
    "    'city':['nagpur','mumbai','delhi']\n",
    "}\n",
    "df = pd.DataFrame(data)\n",
    "print(df.info())"
   ]
  },
  {
   "cell_type": "code",
   "execution_count": 20,
   "id": "239e836d",
   "metadata": {},
   "outputs": [
    {
     "name": "stdout",
     "output_type": "stream",
     "text": [
      "sample dataframe\n",
      "        name  age  salary  performance\n",
      "0        ram   10   20000           80\n",
      "1      shaym   20   30000           90\n",
      "2  ghanshyam   30   40000           30\n",
      "3  dhanshyam   40  200000           45\n",
      "4      aditi   50   40000           67\n",
      "5      jaggu   50   49990           78\n",
      "descriptive stats\n",
      "             age         salary  performance\n",
      "count   6.000000       6.000000      6.00000\n",
      "mean   33.333333   63331.666667     65.00000\n",
      "std    16.329932   67725.327734     23.01304\n",
      "min    10.000000   20000.000000     30.00000\n",
      "25%    22.500000   32500.000000     50.50000\n",
      "50%    35.000000   40000.000000     72.50000\n",
      "75%    47.500000   47492.500000     79.50000\n",
      "max    50.000000  200000.000000     90.00000\n"
     ]
    }
   ],
   "source": [
    "data = {\n",
    "    'name':['ram','shaym','ghanshyam','dhanshyam','aditi','jaggu'],\n",
    "    'age':[10,20,30,40,50,50],\n",
    "    'salary':[20000,30000,40000,200000,40000,49990],\n",
    "    'performance':[80,90,30,45,67,78]\n",
    "}\n",
    "df = pd.DataFrame(data)\n",
    "print('sample dataframe')\n",
    "\n",
    "print(df)\n",
    "print('descriptive stats')\n",
    "print(df.describe())"
   ]
  },
  {
   "cell_type": "code",
   "execution_count": null,
   "id": "906e4566",
   "metadata": {},
   "outputs": [],
   "source": [
    "'''\n",
    "1- how big is your dataset\n",
    "2-what are the names of clomnd\n",
    "'''"
   ]
  },
  {
   "cell_type": "code",
   "execution_count": 3,
   "id": "20c1c1e9",
   "metadata": {},
   "outputs": [
    {
     "name": "stdout",
     "output_type": "stream",
     "text": [
      "sample dataframe\n",
      "        name  age  salary  performance\n",
      "0        ram   10   20000           80\n",
      "1      shaym   20   30000           90\n",
      "2  ghanshyam   30   40000           30\n",
      "3  dhanshyam   40  200000           45\n",
      "4      aditi   50   40000           67\n",
      "5      jaggu   50   49990           78\n",
      "shape :(6, 4)\n",
      "column name: Index(['name', 'age', 'salary', 'performance'], dtype='object')\n"
     ]
    }
   ],
   "source": [
    "data = {\n",
    "    'name':['ram','shaym','ghanshyam','dhanshyam','aditi','jaggu'],\n",
    "    'age':[10,20,30,40,50,50],\n",
    "    'salary':[20000,30000,40000,200000,40000,49990],\n",
    "    'performance':[80,90,30,45,67,78]\n",
    "}\n",
    "df = pd.DataFrame(data)\n",
    "\n",
    "print('sample dataframe')\n",
    "\n",
    "print(df)\n",
    "print(f'shape :{df.shape}')\n",
    "print(f'column name: {df.columns}')"
   ]
  },
  {
   "cell_type": "code",
   "execution_count": 6,
   "metadata": {},
   "outputs": [
    {
     "name": "stdout",
     "output_type": "stream",
     "text": [
      "sample Dataframe\n",
      "        name  age  salary  performance\n",
      "0        ram   10   20000           80\n",
      "1      shaym   20   30000           90\n",
      "2  ghanshyam   30   40000           30\n",
      "3  dhanshyam   40  200000           45\n",
      "4      aditi   50   40000           67\n",
      "5      jaggu   50   49990           78\n",
      "names (single column return series)\n",
      "0          ram\n",
      "1        shaym\n",
      "2    ghanshyam\n",
      "3    dhanshyam\n",
      "4        aditi\n",
      "5        jaggu\n",
      "Name: name, dtype: object\n",
      "0          ram\n",
      "1        shaym\n",
      "2    ghanshyam\n",
      "3    dhanshyam\n",
      "4        aditi\n",
      "5        jaggu\n",
      "Name: name, dtype: object\n"
     ]
    }
   ],
   "source": [
    "data = {\n",
    "    'name':['ram','shaym','ghanshyam','dhanshyam','aditi','jaggu'],\n",
    "    'age':[10,20,30,40,50,50],\n",
    "    'salary':[20000,30000,40000,200000,40000,49990],\n",
    "    'performance':[80,90,30,45,67,78]\n",
    "}\n",
    "df = pd.DataFrame(data)\n",
    "\n",
    "print('sample Dataframe')\n",
    "print(df)\n",
    "print('names (single column return series)')\n",
    "name = df['name']\n",
    "print(df['name'])\n",
    "print(name)"
   ]
  },
  {
   "cell_type": "code",
   "execution_count": 7,
   "id": "33180121",
   "metadata": {},
   "outputs": [
    {
     "name": "stdout",
     "output_type": "stream",
     "text": [
      "\n",
      "subset with name and salary\n",
      "        name  salary\n",
      "0        ram   20000\n",
      "1      shaym   30000\n",
      "2  ghanshyam   40000\n",
      "3  dhanshyam  200000\n",
      "4      aditi   40000\n",
      "5      jaggu   49990\n"
     ]
    }
   ],
   "source": [
    "subset = df[['name','salary']]\n",
    "print('\\nsubset with name and salary')\n",
    "print(subset)"
   ]
  },
  {
   "cell_type": "code",
   "execution_count": 12,
   "metadata": {},
   "outputs": [
    {
     "name": "stdout",
     "output_type": "stream",
     "text": [
      "employees with salary>520000\n",
      "        name  age  salary  performance\n",
      "1      shaym   20   30000           90\n",
      "2  ghanshyam   30   40000           30\n",
      "3  dhanshyam   40  200000           45\n",
      "4      aditi   50   40000           67\n",
      "5      jaggu   50   49990           78\n"
     ]
    }
   ],
   "source": [
    "data = {\n",
    "    'name':['ram','shaym','ghanshyam','dhanshyam','aditi','jaggu'],\n",
    "    'age':[10,20,30,40,50,50],\n",
    "    'salary':[20000,30000,40000,200000,40000,49990],\n",
    "    'performance':[80,90,30,45,67,78]\n",
    "}\n",
    "df = pd.DataFrame(data)\n",
    "\n",
    "high_salary = df[(df['salary']>20000)]\n",
    "print('employees with salary>520000')\n",
    "print(high_salary)"
   ]
  },
  {
   "cell_type": "code",
   "execution_count": 9,
   "id": "1189c1a6",
   "metadata": {},
   "outputs": [
    {
     "name": "stdout",
     "output_type": "stream",
     "text": [
      "employee list age >10 + salary >20000\n",
      "        name  age  salary  performance\n",
      "1      shaym   20   30000           90\n",
      "2  ghanshyam   30   40000           30\n",
      "3  dhanshyam   40  200000           45\n",
      "4      aditi   50   40000           67\n",
      "5      jaggu   50   49990           78\n"
     ]
    }
   ],
   "source": [
    "filtered = df[(df['age']>10) &(df['salary']>2000)]\n",
    "print('employee list age >10 + salary >20000')\n",
    "print(filtered)"
   ]
  },
  {
   "cell_type": "code",
   "execution_count": 11,
   "id": "10c899af",
   "metadata": {},
   "outputs": [
    {
     "name": "stdout",
     "output_type": "stream",
     "text": [
      "employees with age>20 or performance > 40\n",
      "        name  age  salary  performance\n",
      "0        ram   10   20000           80\n",
      "1      shaym   20   30000           90\n",
      "2  ghanshyam   30   40000           30\n",
      "3  dhanshyam   40  200000           45\n",
      "4      aditi   50   40000           67\n",
      "5      jaggu   50   49990           78\n"
     ]
    }
   ],
   "source": [
    "filtered_or = df[(df['age']>20) | (df['performance']>40)]\n",
    "print('employees with age>20 or performance > 40')\n",
    "print(filtered_or)"
   ]
  },
  {
   "cell_type": "code",
   "execution_count": 4,
   "id": "9857f9b1",
   "metadata": {},
   "outputs": [
    {
     "name": "stdout",
     "output_type": "stream",
     "text": [
      "        name  age  salary  performance\n",
      "0        ram   10   20000           80\n",
      "1      shaym   20   30000           90\n",
      "2  ghanshyam   30   40000           30\n",
      "3  dhanshyam   40  200000           45\n",
      "4      aditi   50   40000           67\n",
      "5      jaggu   50   49990           78\n",
      "        name  age  salary  performance    bonus\n",
      "0        ram   10   20000           80   2000.0\n",
      "1      shaym   20   30000           90   3000.0\n",
      "2  ghanshyam   30   40000           30   4000.0\n",
      "3  dhanshyam   40  200000           45  20000.0\n",
      "4      aditi   50   40000           67   4000.0\n",
      "5      jaggu   50   49990           78   4999.0\n"
     ]
    }
   ],
   "source": [
    "data = {\n",
    "    'name':['ram','shaym','ghanshyam','dhanshyam','aditi','jaggu'],\n",
    "    'age':[10,20,30,40,50,50],\n",
    "    'salary':[20000,30000,40000,200000,40000,49990],\n",
    "    'performance':[80,90,30,45,67,78]\n",
    "}\n",
    "df = pd.DataFrame(data)\n",
    "print(df)\n",
    "\n",
    "df['bonus'] = df['salary']*0.1\n",
    "print(df)"
   ]
  },
  {
   "cell_type": "code",
   "execution_count": 5,
   "metadata": {},
   "outputs": [
    {
     "name": "stdout",
     "output_type": "stream",
     "text": [
      "        name  age  salary  performance\n",
      "0        ram   10   20000           80\n",
      "1      shaym   20   30000           90\n",
      "2  ghanshyam   30   40000           30\n",
      "3  dhanshyam   40  200000           45\n",
      "4      aditi   50   40000           67\n",
      "5      jaggu   50   49990           78\n",
      "        name  age  salary  performance    bonus\n",
      "0        ram   10   20000           80   2000.0\n",
      "1      shaym   20   30000           90   3000.0\n",
      "2  ghanshyam   30   40000           30   4000.0\n",
      "3  dhanshyam   40  200000           45  20000.0\n",
      "4      aditi   50   40000           67   4000.0\n",
      "5      jaggu   50   49990           78   4999.0\n",
      "   employee id       name  age  salary  performance    bonus\n",
      "0           10        ram   10   20000           80   2000.0\n",
      "1           20      shaym   20   30000           90   3000.0\n",
      "2           30  ghanshyam   30   40000           30   4000.0\n",
      "3           40  dhanshyam   40  200000           45  20000.0\n",
      "4           50      aditi   50   40000           67   4000.0\n",
      "5           60      jaggu   50   49990           78   4999.0\n"
     ]
    }
   ],
   "source": [
    "data = {\n",
    "    'name':['ram','shaym','ghanshyam','dhanshyam','aditi','jaggu'],\n",
    "    'age':[10,20,30,40,50,50],\n",
    "    'salary':[20000,30000,40000,200000,40000,49990],\n",
    "    'performance':[80,90,30,45,67,78]\n",
    "}\n",
    "df = pd.DataFrame(data)\n",
    "print(df)\n",
    "\n",
    "df['bonus'] = df['salary']*0.1\n",
    "print(df)\n",
    "\n",
    "df.insert(0,'employee id', [10,20,30,40,50,60])\n",
    "print(df)"
   ]
  },
  {
   "cell_type": "code",
   "execution_count": 6,
   "id": "3ae0c34f",
   "metadata": {},
   "outputs": [
    {
     "name": "stdout",
     "output_type": "stream",
     "text": [
      "        name  age  salary  performance\n",
      "0        ram   10   20000           80\n",
      "1      shaym   20   30000           90\n",
      "2  ghanshyam   30   40000           30\n",
      "3  dhanshyam   40  200000           45\n",
      "4      aditi   50   40000           67\n",
      "5      jaggu   50   49990           78\n",
      "        name  age  salary  performance\n",
      "0        ram   10   55000           80\n",
      "1      shaym   20   30000           90\n",
      "2  ghanshyam   30   40000           30\n",
      "3  dhanshyam   40  200000           45\n",
      "4      aditi   50   40000           67\n",
      "5      jaggu   50   49990           78\n"
     ]
    }
   ],
   "source": [
    "data = {\n",
    "    'name':['ram','shaym','ghanshyam','dhanshyam','aditi','jaggu'],\n",
    "    'age':[10,20,30,40,50,50],\n",
    "    'salary':[20000,30000,40000,200000,40000,49990],\n",
    "    'performance':[80,90,30,45,67,78]\n",
    "}\n",
    "df = pd.DataFrame(data)\n",
    "print(df)\n",
    "\n",
    "df.loc[0,'salary'] = 55000\n",
    "print(df)"
   ]
  },
  {
   "cell_type": "code",
   "execution_count": 7,
   "id": "4f15a2c2",
   "metadata": {},
   "outputs": [
    {
     "name": "stdout",
     "output_type": "stream",
     "text": [
      "        name  age  salary  performance\n",
      "0        ram   10   20000           80\n",
      "1      shaym   20   30000           90\n",
      "2  ghanshyam   30   40000           30\n",
      "3  dhanshyam   40  200000           45\n",
      "4      aditi   50   40000           67\n",
      "5      jaggu   50   49990           78\n",
      "modified data\n",
      "        name  age  salary\n",
      "0        ram   10   20000\n",
      "1      shaym   20   30000\n",
      "2  ghanshyam   30   40000\n",
      "3  dhanshyam   40  200000\n",
      "4      aditi   50   40000\n",
      "5      jaggu   50   49990\n"
     ]
    }
   ],
   "source": [
    "data = {\n",
    "    'name':['ram','shaym','ghanshyam','dhanshyam','aditi','jaggu'],\n",
    "    'age':[10,20,30,40,50,50],\n",
    "    'salary':[20000,30000,40000,200000,40000,49990],\n",
    "    'performance':[80,90,30,45,67,78]\n",
    "}\n",
    "df = pd.DataFrame(data)\n",
    "print(df)\n",
    "\n",
    "print('modified data')\n",
    "\n",
    "df.drop(columns = ['performance'], inplace=True)\n",
    "\n",
    "print(df)"
   ]
  },
  {
   "cell_type": "code",
   "execution_count": 8,
   "metadata": {},
   "outputs": [
    {
     "name": "stdout",
     "output_type": "stream",
     "text": [
      "        name  age  salary  performance\n",
      "0        ram   10   20000           80\n",
      "1      shaym   20   30000           90\n",
      "2  ghanshyam   30   40000           30\n",
      "3  dhanshyam   40  200000           45\n",
      "4      aditi   50   40000           67\n",
      "5      jaggu   50   49990           78\n",
      "modified data\n",
      "        name  salary\n",
      "0        ram   20000\n",
      "1      shaym   30000\n",
      "2  ghanshyam   40000\n",
      "3  dhanshyam  200000\n",
      "4      aditi   40000\n",
      "5      jaggu   49990\n"
     ]
    }
   ],
   "source": [
    "data = {\n",
    "    'name':['ram','shaym','ghanshyam','dhanshyam','aditi','jaggu'],\n",
    "    'age':[10,20,30,40,50,50],\n",
    "    'salary':[20000,30000,40000,200000,40000,49990],\n",
    "    'performance':[80,90,30,45,67,78]\n",
    "}\n",
    "df = pd.DataFrame(data)\n",
    "print(df)\n",
    "\n",
    "print('modified data')\n",
    "\n",
    "df.drop(columns = ['performance','age'], inplace=True)\n",
    "\n",
    "print(df)"
   ]
  },
  {
   "cell_type": "code",
   "execution_count": 9,
   "id": "ca434bea",
   "metadata": {},
   "outputs": [
    {
     "name": "stdout",
     "output_type": "stream",
     "text": [
      "        name  age  salary  performance\n",
      "0        ram   10   20000           80\n",
      "1      shaym   20   30000           90\n",
      "2  ghanshyam   30   40000           30\n",
      "3  dhanshyam   40  200000           45\n",
      "4      aditi   50   40000           67\n",
      "5      jaggu   50   49990           78\n",
      "modified data\n",
      "        name  age  salary  performance\n",
      "0        ram   10   20000           80\n",
      "1      shaym   20   30000           90\n",
      "2  ghanshyam   30   40000           30\n",
      "3  dhanshyam   40  200000           45\n",
      "4      aditi   50   40000           67\n",
      "5      jaggu   50   49990           78\n"
     ]
    }
   ],
   "source": [
    "data = {\n",
    "    'name':['ram','shaym','ghanshyam','dhanshyam','aditi','jaggu'],\n",
    "    'age':[10,20,30,40,50,50],\n",
    "    'salary':[20000,30000,40000,200000,40000,49990],\n",
    "    'performance':[80,90,30,45,67,78]\n",
    "}\n",
    "df = pd.DataFrame(data)\n",
    "print(df)\n",
    "\n",
    "print('modified data')\n",
    "\n",
    "df.drop(columns = ['performance','age'], inplace=False)\n",
    "\n",
    "print(df)"
   ]
  },
  {
   "cell_type": "code",
   "execution_count": 10,
   "id": "8eb9a198",
   "metadata": {},
   "outputs": [],
   "source": [
    "#handling missing data"
   ]
  },
  {
   "cell_type": "code",
   "execution_count": 12,
   "id": "6fe04e1e",
   "metadata": {},
   "outputs": [
    {
     "name": "stdout",
     "output_type": "stream",
     "text": [
      "        name   age    salary  performance\n",
      "0        ram  10.0   20000.0         80.0\n",
      "1       None   NaN       NaN          NaN\n",
      "2  ghanshyam  30.0   40000.0         30.0\n",
      "3  dhanshyam  40.0  200000.0         45.0\n",
      "4      aditi  50.0   40000.0         67.0\n",
      "5      jaggu  50.0   49990.0         78.0\n",
      "    name    age  salary  performance\n",
      "0  False  False   False        False\n",
      "1   True   True    True         True\n",
      "2  False  False   False        False\n",
      "3  False  False   False        False\n",
      "4  False  False   False        False\n",
      "5  False  False   False        False\n"
     ]
    }
   ],
   "source": [
    "data = {\n",
    "    'name':['ram',None,'ghanshyam','dhanshyam','aditi','jaggu'],\n",
    "    'age':[10,None,30,40,50,50],\n",
    "    'salary':[20000,None,40000,200000,40000,49990],\n",
    "    'performance':[80,None,30,45,67,78]\n",
    "}\n",
    "df = pd.DataFrame(data)\n",
    "print(df)\n",
    "\n",
    "print(df.isnull())\n",
    "\n"
   ]
  },
  {
   "cell_type": "code",
   "execution_count": 13,
   "id": "55245fe8",
   "metadata": {},
   "outputs": [
    {
     "name": "stdout",
     "output_type": "stream",
     "text": [
      "        name   age    salary  performance\n",
      "0        ram  10.0   20000.0         80.0\n",
      "1       None   NaN       NaN          NaN\n",
      "2  ghanshyam  30.0   40000.0         30.0\n",
      "3  dhanshyam  40.0  200000.0         45.0\n",
      "4      aditi  50.0   40000.0         67.0\n",
      "5      jaggu  50.0   49990.0         78.0\n",
      "name           1\n",
      "age            1\n",
      "salary         1\n",
      "performance    1\n",
      "dtype: int64\n"
     ]
    }
   ],
   "source": [
    "data = {\n",
    "    'name':['ram',None,'ghanshyam','dhanshyam','aditi','jaggu'],\n",
    "    'age':[10,None,30,40,50,50],\n",
    "    'salary':[20000,None,40000,200000,40000,49990],\n",
    "    'performance':[80,None,30,45,67,78]\n",
    "}\n",
    "df = pd.DataFrame(data)\n",
    "print(df)\n",
    "\n",
    "print(df.isnull().sum())"
   ]
  },
  {
   "cell_type": "code",
   "execution_count": 14,
   "id": "166bdd66",
   "metadata": {},
   "outputs": [
    {
     "name": "stdout",
     "output_type": "stream",
     "text": [
      "        name   age    salary  performance\n",
      "0        ram  10.0   20000.0         80.0\n",
      "1       None   NaN       NaN          NaN\n",
      "2  ghanshyam  30.0   40000.0         30.0\n",
      "3  dhanshyam  40.0  200000.0         45.0\n",
      "4      aditi  50.0   40000.0         67.0\n",
      "5      jaggu  50.0   49990.0         78.0\n",
      "        name   age    salary  performance\n",
      "0        ram  10.0   20000.0         80.0\n",
      "2  ghanshyam  30.0   40000.0         30.0\n",
      "3  dhanshyam  40.0  200000.0         45.0\n",
      "4      aditi  50.0   40000.0         67.0\n",
      "5      jaggu  50.0   49990.0         78.0\n"
     ]
    }
   ],
   "source": [
    "data = {\n",
    "    'name':['ram',None,'ghanshyam','dhanshyam','aditi','jaggu'],\n",
    "    'age':[10,None,30,40,50,50],\n",
    "    'salary':[20000,None,40000,200000,40000,49990],\n",
    "    'performance':[80,None,30,45,67,78]\n",
    "}\n",
    "df = pd.DataFrame(data)\n",
    "print(df)\n",
    "\n",
    "df.dropna(inplace=True)\n",
    "print(df)"
   ]
  },
  {
   "cell_type": "code",
   "execution_count": 3,
   "id": "30012f69",
   "metadata": {},
   "outputs": [
    {
     "name": "stdout",
     "output_type": "stream",
     "text": [
      "        name   age    salary  performance\n",
      "0        ram  10.0   20000.0         80.0\n",
      "1       None   NaN       NaN          NaN\n",
      "2  ghanshyam  30.0   40000.0         30.0\n",
      "3  dhanshyam  40.0  200000.0         45.0\n",
      "4      aditi  50.0   40000.0         67.0\n",
      "5      jaggu  50.0   49990.0         78.0\n",
      "        name   age    salary  performance\n",
      "0        ram  10.0   20000.0         80.0\n",
      "1          0   0.0       0.0          0.0\n",
      "2  ghanshyam  30.0   40000.0         30.0\n",
      "3  dhanshyam  40.0  200000.0         45.0\n",
      "4      aditi  50.0   40000.0         67.0\n",
      "5      jaggu  50.0   49990.0         78.0\n"
     ]
    }
   ],
   "source": [
    "data = {\n",
    "    'name':['ram',None,'ghanshyam','dhanshyam','aditi','jaggu'],\n",
    "    'age':[10,None,30,40,50,50],\n",
    "    'salary':[20000,None,40000,200000,40000,49990],\n",
    "    'performance':[80,None,30,45,67,78]\n",
    "}\n",
    "df = pd.DataFrame(data)\n",
    "print(df)\n",
    "\n",
    "df.fillna(0,inplace=True)\n",
    "print(df)"
   ]
  },
  {
   "cell_type": "code",
   "execution_count": 6,
   "id": "6826c58d",
   "metadata": {},
   "outputs": [
    {
     "name": "stdout",
     "output_type": "stream",
     "text": [
      "        name   age    salary  performance\n",
      "0        ram  10.0   20000.0         80.0\n",
      "1       None   NaN       NaN          NaN\n",
      "2  ghanshyam  30.0   40000.0         30.0\n",
      "3  dhanshyam  40.0  200000.0         45.0\n",
      "4      aditi  50.0   40000.0         67.0\n",
      "5      jaggu  50.0   49990.0         78.0\n",
      "        name   age    salary  performance\n",
      "0        ram  10.0   20000.0         80.0\n",
      "1       None  36.0   69998.0          NaN\n",
      "2  ghanshyam  30.0   40000.0         30.0\n",
      "3  dhanshyam  40.0  200000.0         45.0\n",
      "4      aditi  50.0   40000.0         67.0\n",
      "5      jaggu  50.0   49990.0         78.0\n"
     ]
    },
    {
     "name": "stderr",
     "output_type": "stream",
     "text": [
      "C:\\Users\\aashutosh\\AppData\\Local\\Temp\\ipykernel_16376\\4014216388.py:10: FutureWarning: A value is trying to be set on a copy of a DataFrame or Series through chained assignment using an inplace method.\n",
      "The behavior will change in pandas 3.0. This inplace method will never work because the intermediate object on which we are setting values always behaves as a copy.\n",
      "\n",
      "For example, when doing 'df[col].method(value, inplace=True)', try using 'df.method({col: value}, inplace=True)' or df[col] = df[col].method(value) instead, to perform the operation inplace on the original object.\n",
      "\n",
      "\n",
      "  df['age'].fillna(df['age'].mean(),inplace=True)\n",
      "C:\\Users\\aashutosh\\AppData\\Local\\Temp\\ipykernel_16376\\4014216388.py:11: FutureWarning: A value is trying to be set on a copy of a DataFrame or Series through chained assignment using an inplace method.\n",
      "The behavior will change in pandas 3.0. This inplace method will never work because the intermediate object on which we are setting values always behaves as a copy.\n",
      "\n",
      "For example, when doing 'df[col].method(value, inplace=True)', try using 'df.method({col: value}, inplace=True)' or df[col] = df[col].method(value) instead, to perform the operation inplace on the original object.\n",
      "\n",
      "\n",
      "  df['salary'].fillna(df['salary'].mean(),inplace=True)\n"
     ]
    }
   ],
   "source": [
    "data = {\n",
    "    'name':['ram',None,'ghanshyam','dhanshyam','aditi','jaggu'],\n",
    "    'age':[10,None,30,40,50,50],\n",
    "    'salary':[20000,None,40000,200000,40000,49990],\n",
    "    'performance':[80,None,30,45,67,78]\n",
    "}\n",
    "df = pd.DataFrame(data)\n",
    "print(df)\n",
    "\n",
    "df['age'].fillna(df['age'].mean(),inplace=True)\n",
    "df['salary'].fillna(df['salary'].mean(),inplace=True)\n",
    "print(df)"
   ]
  },
  {
   "cell_type": "code",
   "execution_count": 7,
   "id": "f1fe631e",
   "metadata": {},
   "outputs": [
    {
     "name": "stdout",
     "output_type": "stream",
     "text": [
      "before interpolation\n",
      "after interpolation\n",
      "   time  value\n",
      "0     1   10.0\n",
      "1     2   20.0\n",
      "2     3   30.0\n",
      "3     4   40.0\n",
      "4     5   50.0\n"
     ]
    }
   ],
   "source": [
    "data = {\n",
    "    'time' : [1,2,3,4,5],\n",
    "    'value' : [10,None,30,None,50]\n",
    "}\n",
    "\n",
    "df = pd.DataFrame(data)\n",
    "print('before interpolation')\n",
    "\n",
    "df['value']=df['value'].interpolate(method='linear')\n",
    "\n",
    "print('after interpolation')\n",
    "print(df)"
   ]
  },
  {
   "cell_type": "code",
   "execution_count": 8,
   "id": "f7d6dca9",
   "metadata": {},
   "outputs": [],
   "source": [
    "#sorting and aggregation"
   ]
  },
  {
   "cell_type": "code",
   "execution_count": 11,
   "id": "c895ba6d",
   "metadata": {},
   "outputs": [
    {
     "name": "stdout",
     "output_type": "stream",
     "text": [
      "sorted age by descending \n",
      "    name  age  salary\n",
      "1  varun   34  200000\n",
      "0   arun   28   10000\n",
      "2  karun   22   30000\n"
     ]
    }
   ],
   "source": [
    "data = {\n",
    "    'name':['arun','varun','karun'],\n",
    "    'age':[28,34,22],\n",
    "    'salary': [10000,200000,30000]\n",
    "\n",
    "}\n",
    "\n",
    "df = pd.DataFrame(data)\n",
    "df.sort_values(by='age',ascending=False, inplace=True)\n",
    "print('sorted age by descending ')\n",
    "print(df)"
   ]
  },
  {
   "cell_type": "code",
   "execution_count": 12,
   "metadata": {},
   "outputs": [
    {
     "name": "stdout",
     "output_type": "stream",
     "text": [
      "sorted age by descending \n",
      "    name  age  salary\n",
      "2  karun   22   30000\n",
      "0   arun   28   10000\n",
      "1  varun   34  200000\n"
     ]
    }
   ],
   "source": [
    "data = {\n",
    "    'name':['arun','varun','karun'],\n",
    "    'age':[28,34,22],\n",
    "    'salary': [10000,200000,30000]\n",
    "\n",
    "}\n",
    "\n",
    "df = pd.DataFrame(data)\n",
    "df.sort_values(by='age',ascending=True, inplace=True)\n",
    "print('sorted age by descending ')\n",
    "print(df)"
   ]
  },
  {
   "cell_type": "code",
   "execution_count": 13,
   "id": "a82116ae",
   "metadata": {},
   "outputs": [
    {
     "name": "stdout",
     "output_type": "stream",
     "text": [
      "sorted age by descending \n",
      "    name  age  salary\n",
      "2  karun   22   30000\n",
      "0   arun   28   10000\n",
      "1  varun   34  200000\n"
     ]
    }
   ],
   "source": [
    "data = {\n",
    "    'name':['arun','varun','karun'],\n",
    "    'age':[28,34,22],\n",
    "    'salary': [10000,200000,30000]\n",
    "\n",
    "}\n",
    "\n",
    "df = pd.DataFrame(data)\n",
    "df.sort_values(by=['age','salary'],ascending=[True,False], inplace=True)\n",
    "print('sorted age by descending ')\n",
    "print(df)"
   ]
  },
  {
   "cell_type": "code",
   "execution_count": 17,
   "id": "b9ae2bf1",
   "metadata": {},
   "outputs": [
    {
     "name": "stdout",
     "output_type": "stream",
     "text": [
      "age\n",
      "22     45000\n",
      "28     98000\n",
      "34    112000\n",
      "Name: salary, dtype: int64\n"
     ]
    }
   ],
   "source": [
    "data = {\n",
    "    'name':['arun','varun','karun','dharun','marun'],\n",
    "    'age':[28,34,22,34,28],\n",
    "    'salary': [50000,60000,45000,52000,48000]\n",
    "\n",
    "}\n",
    "\n",
    "df=pd.DataFrame(data)\n",
    "grouped = df.groupby('age')['salary'].sum()\n",
    "print(grouped)"
   ]
  },
  {
   "cell_type": "code",
   "execution_count": 18,
   "id": "cb96fb43",
   "metadata": {},
   "outputs": [
    {
     "name": "stdout",
     "output_type": "stream",
     "text": [
      "age  name  \n",
      "22   karun     45000\n",
      "28   arun      50000\n",
      "     marun     48000\n",
      "34   dharun    52000\n",
      "     varun     60000\n",
      "Name: salary, dtype: int64\n"
     ]
    }
   ],
   "source": [
    "data = {\n",
    "    'name':['arun','varun','karun','dharun','marun'],\n",
    "    'age':[28,34,22,34,28],\n",
    "    'salary': [50000,60000,45000,52000,48000]\n",
    "\n",
    "}\n",
    "\n",
    "df=pd.DataFrame(data)\n",
    "grouped = df.groupby(['age','name'])['salary'].sum()\n",
    "print(grouped)"
   ]
  },
  {
   "cell_type": "code",
   "execution_count": 22,
   "id": "164badd0",
   "metadata": {},
   "outputs": [
    {
     "name": "stdout",
     "output_type": "stream",
     "text": [
      "inner join\n",
      "   customerId     name  orderamount\n",
      "0           1   ramesh          250\n",
      "1           2   suresh          450\n",
      "2           3  kalpesh          350\n"
     ]
    }
   ],
   "source": [
    "df_customers = pd.DataFrame({\n",
    "    'customerId':[1,2,3],\n",
    "    'name':['ramesh','suresh','kalpesh']\n",
    "})\n",
    "\n",
    "df_orders = pd.DataFrame({\n",
    "    'customerId':[1,2,3],\n",
    "    'orderamount':[250,450,350]\n",
    "})\n",
    "\n",
    "df_merge = pd.merge(df_customers,df_orders, on='customerId', how='inner')\n",
    "print('inner join')\n",
    "print(df_merge)"
   ]
  },
  {
   "cell_type": "code",
   "execution_count": 23,
   "id": "71cf8316",
   "metadata": {},
   "outputs": [
    {
     "name": "stdout",
     "output_type": "stream",
     "text": [
      "inner join\n",
      "   customerId     name  orderamount\n",
      "0           1   ramesh          250\n",
      "1           2   suresh          450\n",
      "2           3  kalpesh          350\n"
     ]
    }
   ],
   "source": [
    "df_customers = pd.DataFrame({\n",
    "    'customerId':[1,2,3],\n",
    "    'name':['ramesh','suresh','kalpesh']\n",
    "})\n",
    "\n",
    "df_orders = pd.DataFrame({\n",
    "    'customerId':[1,2,3],\n",
    "    'orderamount':[250,450,350]\n",
    "})\n",
    "\n",
    "df_merge = pd.merge(df_customers,df_orders, on='customerId', how='outer')\n",
    "print('inner join')\n",
    "print(df_merge)"
   ]
  },
  {
   "cell_type": "code",
   "execution_count": 25,
   "id": "4d6feb54",
   "metadata": {},
   "outputs": [
    {
     "ename": "MergeError",
     "evalue": "Can not pass on, right_on, left_on or set right_index=True or left_index=True",
     "output_type": "error",
     "traceback": [
      "\u001b[31m---------------------------------------------------------------------------\u001b[39m",
      "\u001b[31mMergeError\u001b[39m                                Traceback (most recent call last)",
      "\u001b[36mCell\u001b[39m\u001b[36m \u001b[39m\u001b[32mIn[25]\u001b[39m\u001b[32m, line 11\u001b[39m\n\u001b[32m      1\u001b[39m df_customers = pd.DataFrame({\n\u001b[32m      2\u001b[39m     \u001b[33m'\u001b[39m\u001b[33mcustomerId\u001b[39m\u001b[33m'\u001b[39m:[\u001b[32m1\u001b[39m,\u001b[32m2\u001b[39m,\u001b[32m3\u001b[39m],\n\u001b[32m      3\u001b[39m     \u001b[33m'\u001b[39m\u001b[33mname\u001b[39m\u001b[33m'\u001b[39m:[\u001b[33m'\u001b[39m\u001b[33mramesh\u001b[39m\u001b[33m'\u001b[39m,\u001b[33m'\u001b[39m\u001b[33msuresh\u001b[39m\u001b[33m'\u001b[39m,\u001b[33m'\u001b[39m\u001b[33mkalpesh\u001b[39m\u001b[33m'\u001b[39m]\n\u001b[32m      4\u001b[39m })\n\u001b[32m      6\u001b[39m df_orders = pd.DataFrame({\n\u001b[32m      7\u001b[39m     \u001b[33m'\u001b[39m\u001b[33mcustomerId\u001b[39m\u001b[33m'\u001b[39m:[\u001b[32m1\u001b[39m,\u001b[32m2\u001b[39m,\u001b[32m3\u001b[39m],\n\u001b[32m      8\u001b[39m     \u001b[33m'\u001b[39m\u001b[33morderamount\u001b[39m\u001b[33m'\u001b[39m:[\u001b[32m250\u001b[39m,\u001b[32m450\u001b[39m,\u001b[32m350\u001b[39m]\n\u001b[32m      9\u001b[39m })\n\u001b[32m---> \u001b[39m\u001b[32m11\u001b[39m df_merge = \u001b[43mpd\u001b[49m\u001b[43m.\u001b[49m\u001b[43mmerge\u001b[49m\u001b[43m(\u001b[49m\u001b[43mdf_customers\u001b[49m\u001b[43m,\u001b[49m\u001b[43mdf_orders\u001b[49m\u001b[43m,\u001b[49m\u001b[43m \u001b[49m\u001b[43mon\u001b[49m\u001b[43m=\u001b[49m\u001b[33;43m'\u001b[39;49m\u001b[33;43mcustomerId\u001b[39;49m\u001b[33;43m'\u001b[39;49m\u001b[43m,\u001b[49m\u001b[43m \u001b[49m\u001b[43mhow\u001b[49m\u001b[43m=\u001b[49m\u001b[33;43m'\u001b[39;49m\u001b[33;43mcross\u001b[39;49m\u001b[33;43m'\u001b[39;49m\u001b[43m)\u001b[49m\n\u001b[32m     12\u001b[39m \u001b[38;5;28mprint\u001b[39m(\u001b[33m'\u001b[39m\u001b[33minner join\u001b[39m\u001b[33m'\u001b[39m)\n\u001b[32m     13\u001b[39m \u001b[38;5;28mprint\u001b[39m(df_merge)\n",
      "\u001b[36mFile \u001b[39m\u001b[32mc:\\Users\\aashutosh\\anaconda3\\Lib\\site-packages\\pandas\\core\\reshape\\merge.py:155\u001b[39m, in \u001b[36mmerge\u001b[39m\u001b[34m(left, right, how, on, left_on, right_on, left_index, right_index, sort, suffixes, copy, indicator, validate)\u001b[39m\n\u001b[32m    153\u001b[39m right_df = _validate_operand(right)\n\u001b[32m    154\u001b[39m \u001b[38;5;28;01mif\u001b[39;00m how == \u001b[33m\"\u001b[39m\u001b[33mcross\u001b[39m\u001b[33m\"\u001b[39m:\n\u001b[32m--> \u001b[39m\u001b[32m155\u001b[39m     \u001b[38;5;28;01mreturn\u001b[39;00m \u001b[43m_cross_merge\u001b[49m\u001b[43m(\u001b[49m\n\u001b[32m    156\u001b[39m \u001b[43m        \u001b[49m\u001b[43mleft_df\u001b[49m\u001b[43m,\u001b[49m\n\u001b[32m    157\u001b[39m \u001b[43m        \u001b[49m\u001b[43mright_df\u001b[49m\u001b[43m,\u001b[49m\n\u001b[32m    158\u001b[39m \u001b[43m        \u001b[49m\u001b[43mon\u001b[49m\u001b[43m=\u001b[49m\u001b[43mon\u001b[49m\u001b[43m,\u001b[49m\n\u001b[32m    159\u001b[39m \u001b[43m        \u001b[49m\u001b[43mleft_on\u001b[49m\u001b[43m=\u001b[49m\u001b[43mleft_on\u001b[49m\u001b[43m,\u001b[49m\n\u001b[32m    160\u001b[39m \u001b[43m        \u001b[49m\u001b[43mright_on\u001b[49m\u001b[43m=\u001b[49m\u001b[43mright_on\u001b[49m\u001b[43m,\u001b[49m\n\u001b[32m    161\u001b[39m \u001b[43m        \u001b[49m\u001b[43mleft_index\u001b[49m\u001b[43m=\u001b[49m\u001b[43mleft_index\u001b[49m\u001b[43m,\u001b[49m\n\u001b[32m    162\u001b[39m \u001b[43m        \u001b[49m\u001b[43mright_index\u001b[49m\u001b[43m=\u001b[49m\u001b[43mright_index\u001b[49m\u001b[43m,\u001b[49m\n\u001b[32m    163\u001b[39m \u001b[43m        \u001b[49m\u001b[43msort\u001b[49m\u001b[43m=\u001b[49m\u001b[43msort\u001b[49m\u001b[43m,\u001b[49m\n\u001b[32m    164\u001b[39m \u001b[43m        \u001b[49m\u001b[43msuffixes\u001b[49m\u001b[43m=\u001b[49m\u001b[43msuffixes\u001b[49m\u001b[43m,\u001b[49m\n\u001b[32m    165\u001b[39m \u001b[43m        \u001b[49m\u001b[43mindicator\u001b[49m\u001b[43m=\u001b[49m\u001b[43mindicator\u001b[49m\u001b[43m,\u001b[49m\n\u001b[32m    166\u001b[39m \u001b[43m        \u001b[49m\u001b[43mvalidate\u001b[49m\u001b[43m=\u001b[49m\u001b[43mvalidate\u001b[49m\u001b[43m,\u001b[49m\n\u001b[32m    167\u001b[39m \u001b[43m        \u001b[49m\u001b[43mcopy\u001b[49m\u001b[43m=\u001b[49m\u001b[43mcopy\u001b[49m\u001b[43m,\u001b[49m\n\u001b[32m    168\u001b[39m \u001b[43m    \u001b[49m\u001b[43m)\u001b[49m\n\u001b[32m    169\u001b[39m \u001b[38;5;28;01melse\u001b[39;00m:\n\u001b[32m    170\u001b[39m     op = _MergeOperation(\n\u001b[32m    171\u001b[39m         left_df,\n\u001b[32m    172\u001b[39m         right_df,\n\u001b[32m   (...)\u001b[39m\u001b[32m    182\u001b[39m         validate=validate,\n\u001b[32m    183\u001b[39m     )\n",
      "\u001b[36mFile \u001b[39m\u001b[32mc:\\Users\\aashutosh\\anaconda3\\Lib\\site-packages\\pandas\\core\\reshape\\merge.py:212\u001b[39m, in \u001b[36m_cross_merge\u001b[39m\u001b[34m(left, right, on, left_on, right_on, left_index, right_index, sort, suffixes, copy, indicator, validate)\u001b[39m\n\u001b[32m    201\u001b[39m \u001b[38;5;250m\u001b[39m\u001b[33;03m\"\"\"\u001b[39;00m\n\u001b[32m    202\u001b[39m \u001b[33;03mSee merge.__doc__ with how='cross'\u001b[39;00m\n\u001b[32m    203\u001b[39m \u001b[33;03m\"\"\"\u001b[39;00m\n\u001b[32m    205\u001b[39m \u001b[38;5;28;01mif\u001b[39;00m (\n\u001b[32m    206\u001b[39m     left_index\n\u001b[32m    207\u001b[39m     \u001b[38;5;129;01mor\u001b[39;00m right_index\n\u001b[32m   (...)\u001b[39m\u001b[32m    210\u001b[39m     \u001b[38;5;129;01mor\u001b[39;00m on \u001b[38;5;129;01mis\u001b[39;00m \u001b[38;5;129;01mnot\u001b[39;00m \u001b[38;5;28;01mNone\u001b[39;00m\n\u001b[32m    211\u001b[39m ):\n\u001b[32m--> \u001b[39m\u001b[32m212\u001b[39m     \u001b[38;5;28;01mraise\u001b[39;00m MergeError(\n\u001b[32m    213\u001b[39m         \u001b[33m\"\u001b[39m\u001b[33mCan not pass on, right_on, left_on or set right_index=True or \u001b[39m\u001b[33m\"\u001b[39m\n\u001b[32m    214\u001b[39m         \u001b[33m\"\u001b[39m\u001b[33mleft_index=True\u001b[39m\u001b[33m\"\u001b[39m\n\u001b[32m    215\u001b[39m     )\n\u001b[32m    217\u001b[39m cross_col = \u001b[33mf\u001b[39m\u001b[33m\"\u001b[39m\u001b[33m_cross_\u001b[39m\u001b[38;5;132;01m{\u001b[39;00muuid.uuid4()\u001b[38;5;132;01m}\u001b[39;00m\u001b[33m\"\u001b[39m\n\u001b[32m    218\u001b[39m left = left.assign(**{cross_col: \u001b[32m1\u001b[39m})\n",
      "\u001b[31mMergeError\u001b[39m: Can not pass on, right_on, left_on or set right_index=True or left_index=True"
     ]
    }
   ],
   "source": [
    "df_customers = pd.DataFrame({\n",
    "    'customerId':[1,2,3],\n",
    "    'name':['ramesh','suresh','kalpesh']\n",
    "})\n",
    "\n",
    "df_orders = pd.DataFrame({\n",
    "    'customerId':[1,2,3],\n",
    "    'orderamount':[250,450,350]\n",
    "})\n",
    "\n",
    "df_merge = pd.merge(df_customers,df_orders, on='customerId', how='cross')\n",
    "print('inner join')\n",
    "print(df_merge)"
   ]
  },
  {
   "cell_type": "code",
   "execution_count": 28,
   "id": "85bc8534",
   "metadata": {},
   "outputs": [
    {
     "name": "stdout",
     "output_type": "stream",
     "text": [
      "   customerid   name\n",
      "0           1  gopal\n",
      "1           2   raju\n",
      "2           3  shyam\n",
      "3           4   babu\n"
     ]
    }
   ],
   "source": [
    "df_region1 = pd.DataFrame({\n",
    "    'customerid':[1,2],\n",
    "    'name':['gopal','raju']\n",
    "})\n",
    "\n",
    "df_region2 = pd.DataFrame({\n",
    "    \"customerid\":[3,4],\n",
    "    'name':['shyam','babu']\n",
    "})\n",
    "\n",
    "df_concat = pd.concat([df_region1, df_region2], ignore_index=True)\n",
    "print(df_concat)"
   ]
  },
  {
   "cell_type": "code",
   "execution_count": null,
   "metadata": {},
   "outputs": [],
   "source": []
  },
  {
   "cell_type": "code",
   "execution_count": null,
   "id": "83599140",
   "metadata": {},
   "outputs": [],
   "source": []
  }
 ],
 "metadata": {
  "kernelspec": {
   "display_name": "base",
   "language": "python",
   "name": "python3"
  },
  "language_info": {
   "codemirror_mode": {
    "name": "ipython",
    "version": 3
   },
   "file_extension": ".py",
   "mimetype": "text/x-python",
   "name": "python",
   "nbconvert_exporter": "python",
   "pygments_lexer": "ipython3",
   "version": "3.13.5"
  }
 },
 "nbformat": 4,
 "nbformat_minor": 5
}
