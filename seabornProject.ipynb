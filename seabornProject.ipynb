{
 "cells": [
  {
   "cell_type": "code",
   "execution_count": null,
   "id": "c851729f",
   "metadata": {},
   "outputs": [],
   "source": [
    "print('hi')"
   ]
  },
  {
   "cell_type": "code",
   "execution_count": null,
   "id": "f9cc2965",
   "metadata": {},
   "outputs": [],
   "source": [
    "pip install --upgrade seaborn"
   ]
  },
  {
   "cell_type": "code",
   "execution_count": null,
   "id": "6974a410",
   "metadata": {},
   "outputs": [],
   "source": [
    "import warnings \n",
    "warnings.filterwarnings('ignore',category=FutureWarning)"
   ]
  },
  {
   "cell_type": "code",
   "execution_count": null,
   "id": "4fc98190",
   "metadata": {},
   "outputs": [],
   "source": [
    "sns.get_dataset_names()"
   ]
  },
  {
   "cell_type": "code",
   "execution_count": null,
   "id": "0634f586",
   "metadata": {},
   "outputs": [],
   "source": [
    "import seaborn as sns\n",
    "import matplotlib.pyplot as plt"
   ]
  },
  {
   "cell_type": "code",
   "execution_count": null,
   "id": "c3b01c91",
   "metadata": {},
   "outputs": [],
   "source": [
    "sns.get_dataset_names()"
   ]
  },
  {
   "cell_type": "code",
   "execution_count": null,
   "id": "604000d9",
   "metadata": {},
   "outputs": [],
   "source": [
    "tips = sns.load_dataset('tips')\n",
    "sns.set_theme(style='darkgrid')"
   ]
  },
  {
   "cell_type": "code",
   "execution_count": null,
   "id": "0965e931",
   "metadata": {},
   "outputs": [],
   "source": [
    "tips"
   ]
  },
  {
   "cell_type": "code",
   "execution_count": null,
   "id": "d6bf0009",
   "metadata": {},
   "outputs": [],
   "source": [
    "tips.to_csv('tips_dataset.csv',index=False)"
   ]
  },
  {
   "cell_type": "code",
   "execution_count": null,
   "id": "ca664cab",
   "metadata": {},
   "outputs": [],
   "source": [
    "import os \n",
    "os.getcwd()"
   ]
  },
  {
   "cell_type": "code",
   "execution_count": null,
   "id": "6a2fa5dd",
   "metadata": {},
   "outputs": [],
   "source": [
    "plt.figure(figsize=(8,6))"
   ]
  },
  {
   "cell_type": "code",
   "execution_count": null,
   "id": "7670cde6",
   "metadata": {},
   "outputs": [],
   "source": [
    "sns.scatterplot(data=tips,x='total_bill',y='tip',hue='time',size='size',palette='deep')\n",
    "plt.title('Scatter Plot: Total Bill Vs Tip by time and size')\n",
    "plt.show()"
   ]
  },
  {
   "cell_type": "code",
   "execution_count": null,
   "id": "f1397901",
   "metadata": {},
   "outputs": [],
   "source": [
    "\n",
    "sns.lineplot(data=tips, x=\"size\", y=\"total_bill\", hue=\"sex\", ci=None, marker=\"o\")\n",
    "plt.title(\"Line Plot: Total Bill by Party Size and Sex\")\n",
    "plt.show()"
   ]
  },
  {
   "cell_type": "code",
   "execution_count": null,
   "id": "3040e5f7",
   "metadata": {},
   "outputs": [],
   "source": [
    "sns.barplot(data=tips, x=\"day\", y=\"total_bill\", hue=\"sex\", palette=\"muted\")\n",
    "plt.title(\"Bar Plot: Average Total Bill by Day and Sex\")\n",
    "plt.show()"
   ]
  },
  {
   "cell_type": "code",
   "execution_count": null,
   "id": "2fb9d672",
   "metadata": {},
   "outputs": [],
   "source": [
    "\n",
    "sns.boxplot(data=tips, x=\"day\", y=\"tip\", hue=\"smoker\", palette=\"Set2\")\n",
    "plt.title(\"Box Plot: Tips by Day and Smoker Status\")\n",
    "plt.show()"
   ]
  },
  {
   "cell_type": "code",
   "execution_count": null,
   "id": "d0717977",
   "metadata": {},
   "outputs": [],
   "source": [
    "sns.violinplot(data=tips, x=\"day\", y=\"total_bill\", hue=\"time\", split=True, palette=\"pastel\")\n",
    "plt.title(\"Violin Plot: Total Bill by Day and Time\")\n",
    "plt.show()"
   ]
  },
  {
   "cell_type": "code",
   "execution_count": null,
   "id": "73bd346b",
   "metadata": {},
   "outputs": [],
   "source": [
    "\n",
    "sns.countplot(data=tips, x=\"day\", hue=\"smoker\", palette=\"dark\")\n",
    "plt.title(\"Count Plot: Orders by Day and Smoker Status\")\n",
    "plt.show()"
   ]
  },
  {
   "cell_type": "code",
   "execution_count": null,
   "id": "fd809665",
   "metadata": {},
   "outputs": [],
   "source": [
    "sns.regplot(data=tips, x=\"total_bill\", y=\"tip\", scatter_kws={\"s\": 50}, line_kws={\"color\": \"red\"})\n",
    "plt.title(\"Regression Plot: Total Bill vs Tip\")\n",
    "plt.show()"
   ]
  },
  {
   "cell_type": "code",
   "execution_count": null,
   "id": "64466133",
   "metadata": {},
   "outputs": [],
   "source": [
    "sns.histplot(data=tips, x=\"total_bill\", kde=True, bins=20, color=\"blue\")\n",
    "plt.title(\"Histogram: Distribution of Total Bill\")\n",
    "plt.show()"
   ]
  },
  {
   "cell_type": "code",
   "execution_count": null,
   "id": "89906f4a",
   "metadata": {},
   "outputs": [],
   "source": [
    "\n",
    "sns.pairplot(tips, hue=\"sex\", vars=[\"total_bill\", \"tip\", \"size\"], palette=\"husl\")\n",
    "plt.suptitle(\"Pair Plot: Numerical Variables by Sex\", y=1.02)\n",
    "plt.show()"
   ]
  },
  {
   "cell_type": "code",
   "execution_count": null,
   "id": "254631f1",
   "metadata": {},
   "outputs": [],
   "source": [
    "sns.catplot(data=tips, x=\"day\", y=\"tip\", hue=\"sex\", kind=\"point\", palette=\"bright\")\n",
    "plt.title(\"Catplot (Point): Tips by Day and Sex\")\n",
    "plt.show()"
   ]
  },
  {
   "cell_type": "code",
   "execution_count": null,
   "id": "7db23a10",
   "metadata": {},
   "outputs": [],
   "source": [
    "sns.jointplot(data=tips, x=\"total_bill\", y=\"tip\", kind=\"scatter\", hue=\"smoker\", palette=\"coolwarm\")\n",
    "plt.suptitle(\"Joint Plot: Total Bill vs Tip by Smoker\", y=1.02)\n",
    "plt.show()"
   ]
  },
  {
   "cell_type": "code",
   "execution_count": null,
   "id": "eb8823b1",
   "metadata": {},
   "outputs": [],
   "source": [
    "g = sns.FacetGrid(tips, col=\"time\", row=\"smoker\", margin_titles=True)\n",
    "g.map(sns.histplot, \"total_bill\", bins=15)\n",
    "g.fig.suptitle(\"FacetGrid: Total Bill by Time and Smoker\", y=1.02)\n",
    "plt.show()"
   ]
  },
  {
   "cell_type": "code",
   "execution_count": null,
   "id": "85481339",
   "metadata": {},
   "outputs": [],
   "source": [
    "plt.figure(figsize=(8, 6))\n",
    "sns.stripplot(data=tips, x=\"day\", y=\"tip\", hue=\"sex\", palette=\"Set1\", jitter=True)\n",
    "plt.title(\"Strip Plot: Tips by Day and Sex\")\n",
    "plt.show()"
   ]
  },
  {
   "cell_type": "code",
   "execution_count": null,
   "id": "08448c54",
   "metadata": {},
   "outputs": [],
   "source": [
    "plt.figure(figsize=(8, 6))\n",
    "sns.kdeplot(data=tips, x=\"total_bill\", hue=\"sex\", fill=True, palette=\"tab10\")\n",
    "plt.title(\"KDE Plot: Total Bill Density by Sex\")\n",
    "plt.show()"
   ]
  },
  {
   "cell_type": "code",
   "execution_count": null,
   "id": "b5642ed9",
   "metadata": {},
   "outputs": [],
   "source": []
  },
  {
   "cell_type": "code",
   "execution_count": null,
   "id": "b1e55c6b",
   "metadata": {},
   "outputs": [],
   "source": [
    "import streamlit as st\n",
    "import seaborn as sns\n",
    "import matplotlib.pyplot as plt\n",
    "import streamlit as st\n",
    "from streamlit import StreamlitPatcher\n",
    "\n",
    "StreamlitPatcher().jupyter()\n",
    "\n",
    "# Set Seaborn style\n",
    "sns.set(style=\"whitegrid\")\n",
    "\n",
    "# Load the tips dataset\n",
    "tips = sns.load_dataset('tips')\n",
    "\n",
    "# Streamlit app\n",
    "st.title(\"Comprehensive Tips Dataset Visualizations\")\n",
    "st.write(\"This app displays a variety of Seaborn plots created by prakash senapati exploring the Tips dataset, which includes data on restaurant bills and tips.\")\n",
    "\n",
    "# Function to create and display a plot\n",
    "def display_plot(title, plot_func):\n",
    "    st.subheader(title)\n",
    "    fig, ax = plt.subplots(figsize=(8, 6))\n",
    "    plot_func(ax)\n",
    "    st.pyplot(fig)\n",
    "    plt.close(fig)  # Close the figure to free memory\n",
    "\n",
    "# Plot definitions\n",
    "def scatter_plot(ax):\n",
    "    sns.scatterplot(data=tips, x=\"total_bill\", y=\"tip\", hue=\"time\", size=\"size\", palette=\"deep\", ax=ax)\n",
    "    ax.set_title(\"Scatter Plot: Total Bill vs Tip by Time and Size\")\n",
    "\n",
    "def line_plot(ax):\n",
    "    sns.lineplot(data=tips, x=\"size\", y=\"total_bill\", hue=\"sex\", ci=None, marker=\"o\", ax=ax)\n",
    "    ax.set_title(\"Line Plot: Total Bill by Party Size and Sex\")\n",
    "\n",
    "def bar_plot(ax):\n",
    "    sns.barplot(data=tips, x=\"day\", y=\"total_bill\", hue=\"sex\", palette=\"muted\", ax=ax)\n",
    "    ax.set_title(\"Bar Plot: Average Total Bill by Day and Sex\")\n",
    "\n",
    "def box_plot(ax):\n",
    "    sns.boxplot(data=tips, x=\"day\", y=\"tip\", hue=\"smoker\", palette=\"Set2\", ax=ax)\n",
    "    ax.set_title(\"Box Plot: Tips by Day and Smoker Status\")\n",
    "\n",
    "def violin_plot(ax):\n",
    "    sns.violinplot(data=tips, x=\"day\", y=\"total_bill\", hue=\"time\", split=True, palette=\"pastel\", ax=ax)\n",
    "    ax.set_title(\"Violin Plot: Total Bill by Day and Time\")\n",
    "\n",
    "def count_plot(ax):\n",
    "    sns.countplot(data=tips, x=\"day\", hue=\"smoker\", palette=\"dark\", ax=ax)\n",
    "    ax.set_title(\"Count Plot: Orders by Day and Smoker Status\")\n",
    "\n",
    "def reg_plot(ax):\n",
    "    sns.regplot(data=tips, x=\"total_bill\", y=\"tip\", scatter_kws={\"s\": 50}, line_kws={\"color\": \"red\"}, ax=ax)\n",
    "    ax.set_title(\"Regression Plot: Total Bill vs Tip\")\n",
    "\n",
    "def hist_plot(ax):\n",
    "    sns.histplot(data=tips, x=\"total_bill\", kde=True, bins=20, color=\"blue\", ax=ax)\n",
    "    ax.set_title(\"Histogram: Distribution of Total Bill\")\n",
    "\n",
    "def strip_plot(ax):\n",
    "    sns.stripplot(data=tips, x=\"day\", y=\"tip\", hue=\"sex\", palette=\"Set1\", jitter=True, ax=ax)\n",
    "    ax.set_title(\"Strip Plot: Tips by Day and Sex\")\n",
    "\n",
    "def swarm_plot(ax):\n",
    "    sns.swarmplot(data=tips, x=\"day\", y=\"tip\", hue=\"smoker\", palette=\"Set3\", ax=ax)\n",
    "    ax.set_title(\"Swarm Plot: Tips by Day and Smoker Status\")\n",
    "\n",
    "def kde_plot(ax):\n",
    "    sns.kdeplot(data=tips, x=\"total_bill\", hue=\"sex\", fill=True, palette=\"tab10\", ax=ax)\n",
    "    ax.set_title(\"KDE Plot: Total Bill Density by Sex\")\n",
    "\n",
    "# Special cases that need custom handling\n",
    "st.subheader(\"Pair Plot: Numerical Variables by Sex\")\n",
    "pair_fig = sns.pairplot(tips, hue=\"sex\", vars=[\"total_bill\", \"tip\", \"size\"], palette=\"husl\")\n",
    "pair_fig.fig.suptitle(\"Pair Plot: Numerical Variables by Sex\", y=1.02)\n",
    "st.pyplot(pair_fig.fig)\n",
    "plt.close(pair_fig.fig)\n",
    "\n",
    "st.subheader(\"Joint Plot: Total Bill vs Tip by Smoker\")\n",
    "joint_fig = sns.jointplot(data=tips, x=\"total_bill\", y=\"tip\", kind=\"scatter\", hue=\"smoker\", palette=\"coolwarm\")\n",
    "joint_fig.fig.suptitle(\"Joint Plot: Total Bill vs Tip by Smoker\", y=1.02)\n",
    "st.pyplot(joint_fig.fig)\n",
    "plt.close(joint_fig.fig)\n",
    "\n",
    "st.subheader(\"FacetGrid: Total Bill by Time and Smoker\")\n",
    "g = sns.FacetGrid(tips, col=\"time\", row=\"smoker\", margin_titles=True)\n",
    "g.map(sns.histplot, \"total_bill\", bins=15)\n",
    "g.fig.suptitle(\"FacetGrid: Total Bill by Time and Smoker\", y=1.02)\n",
    "st.pyplot(g.fig)\n",
    "plt.close(g.fig)\n",
    "\n",
    "st.subheader(\"Catplot (Point): Tips by Day and Sex\")\n",
    "cat_fig = sns.catplot(data=tips, x=\"day\", y=\"tip\", hue=\"sex\", kind=\"point\", palette=\"bright\")\n",
    "cat_fig.fig.suptitle(\"Catplot (Point): Tips by Day and Sex\", y=1.02)\n",
    "st.pyplot(cat_fig.fig)\n",
    "plt.close(cat_fig.fig)\n",
    "\n",
    "# Display all standard plots\n",
    "display_plot(\"Scatter Plot\", scatter_plot)\n",
    "display_plot(\"Line Plot\", line_plot)\n",
    "display_plot(\"Bar Plot\", bar_plot)\n",
    "display_plot(\"Box Plot\", box_plot)\n",
    "display_plot(\"Violin Plot\", violin_plot)\n",
    "display_plot(\"Count Plot\", count_plot)\n",
    "display_plot(\"Regression Plot\", reg_plot)\n",
    "display_plot(\"Histogram\", hist_plot)\n",
    "display_plot(\"Strip Plot\", strip_plot)\n",
    "display_plot(\"Swarm Plot\", swarm_plot)\n",
    "display_plot(\"KDE Plot\", kde_plot)\n",
    "\n",
    "st.write(\"All Seaborn plots for the Tips dataset have been generated!\")\n"
   ]
  },
  {
   "cell_type": "code",
   "execution_count": null,
   "id": "0c6ef3ff",
   "metadata": {},
   "outputs": [],
   "source": []
  },
  {
   "cell_type": "code",
   "execution_count": null,
   "id": "9136282b",
   "metadata": {},
   "outputs": [],
   "source": []
  },
  {
   "cell_type": "code",
   "execution_count": null,
   "id": "4134befb",
   "metadata": {},
   "outputs": [],
   "source": []
  },
  {
   "cell_type": "code",
   "execution_count": null,
   "id": "1d1ff235",
   "metadata": {},
   "outputs": [],
   "source": []
  },
  {
   "cell_type": "code",
   "execution_count": null,
   "id": "26e513ce",
   "metadata": {},
   "outputs": [],
   "source": []
  },
  {
   "cell_type": "code",
   "execution_count": null,
   "id": "452cef0c",
   "metadata": {},
   "outputs": [],
   "source": []
  },
  {
   "cell_type": "code",
   "execution_count": null,
   "id": "75f28ef1",
   "metadata": {},
   "outputs": [],
   "source": []
  },
  {
   "cell_type": "code",
   "execution_count": null,
   "id": "3298d7ab",
   "metadata": {},
   "outputs": [],
   "source": []
  },
  {
   "cell_type": "code",
   "execution_count": null,
   "id": "c4f9e717",
   "metadata": {},
   "outputs": [],
   "source": []
  }
 ],
 "metadata": {
  "kernelspec": {
   "display_name": "base",
   "language": "python",
   "name": "python3"
  },
  "language_info": {
   "codemirror_mode": {
    "name": "ipython",
    "version": 3
   },
   "file_extension": ".py",
   "mimetype": "text/x-python",
   "name": "python",
   "nbconvert_exporter": "python",
   "pygments_lexer": "ipython3",
   "version": "3.13.5"
  }
 },
 "nbformat": 4,
 "nbformat_minor": 5
}
