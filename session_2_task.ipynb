{
  "cells": [
    {
      "cell_type": "markdown",
      "metadata": {
        "id": "w6RlOAXV2PWh"
      },
      "source": [
        "### `Problem 1`: Write a program that will give you in hand monthly salary after deduction on CTC - HRA(10%), DA(5%), PF(3%) and taxes deduction as below:\n",
        "\n",
        "> Salary(Lakhs) : Tax(%)\n",
        "\n",
        "*   Below 5 : 0%\n",
        "*   5-10 : 10%\n",
        "*   10-20 : 20%\n",
        "*   aboove 20 : 30%"
      ]
    },
    {
      "cell_type": "code",
      "execution_count": 2,
      "metadata": {
        "colab": {
          "base_uri": "https://localhost:8080/"
        },
        "id": "7tMHvKYO2etI",
        "outputId": "61a6d76a-7098-4bca-a028-9855cd6d77dd"
      },
      "outputs": [
        {
          "name": "stdout",
          "output_type": "stream",
          "text": [
            "Enter your annual CTC in Lakhs: 40\n",
            "Your monthly in-hand salary is: ₹191,333.33\n"
          ]
        }
      ],
      "source": [
        "def calculate_inhand_salary(ctc_lakhs):\n",
        "\n",
        "    ctc = ctc_lakhs * 100000\n",
        "\n",
        "\n",
        "    hra = 0.10 * ctc\n",
        "    da = 0.05 * ctc\n",
        "    pf = 0.03 * ctc\n",
        "\n",
        "    total_deductions = hra + da + pf\n",
        "    salary_after_deductions = ctc - total_deductions\n",
        "\n",
        "\n",
        "    if ctc_lakhs < 5:\n",
        "        tax_rate = 0\n",
        "    elif 5 <= ctc_lakhs < 10:\n",
        "        tax_rate = 0.10\n",
        "    elif 10 <= ctc_lakhs <= 20:\n",
        "        tax_rate = 0.20\n",
        "    else:\n",
        "        tax_rate = 0.30\n",
        "\n",
        "    tax = salary_after_deductions * tax_rate\n",
        "    net_salary = salary_after_deductions - tax\n",
        "\n",
        "\n",
        "    monthly_inhand = net_salary / 12\n",
        "\n",
        "    return monthly_inhand\n",
        "\n",
        "\n",
        "\n",
        "ctc_lakhs = float(input(\"Enter your annual CTC in Lakhs: \"))\n",
        "monthly_salary = calculate_inhand_salary(ctc_lakhs)\n",
        "print(f\"Your monthly in-hand salary is: ₹{monthly_salary:,.2f}\")\n"
      ]
    },
    {
      "cell_type": "markdown",
      "metadata": {
        "id": "tYzCGqwl2hfN"
      },
      "source": [
        "### `Problem 2`: Write a program that take a user input of three angles and will find out whether it can form a triangle or not."
      ]
    },
    {
      "cell_type": "code",
      "execution_count": 3,
      "metadata": {
        "colab": {
          "base_uri": "https://localhost:8080/"
        },
        "id": "FYEqln-I2kxV",
        "outputId": "12eb30c7-0979-440d-dd12-40ab4dc2c237"
      },
      "outputs": [
        {
          "name": "stdout",
          "output_type": "stream",
          "text": [
            "Enter the first angle: 45\n",
            "Enter the second angle: 45\n",
            "Enter the third angle: 90\n",
            "It can form a triangle.\n"
          ]
        }
      ],
      "source": [
        "a = int(input(\"Enter the first angle: \"))\n",
        "b = int(input(\"Enter the second angle: \"))\n",
        "c = int(input(\"Enter the third angle: \"))\n",
        "\n",
        "if a + b + c == 180:\n",
        "    print(\"It can form a triangle.\")"
      ]
    },
    {
      "cell_type": "markdown",
      "metadata": {
        "id": "5vEpPh8C2pE4"
      },
      "source": [
        "### `Problem 3`: Write a program that will take user input of cost price and selling price and determines whether its a loss or a profit."
      ]
    },
    {
      "cell_type": "code",
      "execution_count": 4,
      "metadata": {
        "colab": {
          "base_uri": "https://localhost:8080/"
        },
        "id": "jDwBXlkO2sfl",
        "outputId": "0df9113f-4bb9-4269-8daf-7bb05a5d01e8"
      },
      "outputs": [
        {
          "name": "stdout",
          "output_type": "stream",
          "text": [
            "Enter the cost price: 45\n",
            "Enter the selling price: 30\n",
            "It's a loss.\n"
          ]
        }
      ],
      "source": [
        "a = int(input(\"Enter the cost price: \"))\n",
        "b = int(input(\"Enter the selling price: \"))\n",
        "\n",
        "if a > b:\n",
        "    print(\"It's a loss.\")\n",
        "else:\n",
        "    print(\"It's a profit.\")"
      ]
    },
    {
      "cell_type": "markdown",
      "metadata": {
        "id": "J_FG_cJW2ugT"
      },
      "source": [
        "### `Problem 4`: Write a menu-driven program -\n",
        "1. cm to ft\n",
        "2. km to miles\n",
        "3. USD to INR\n",
        "4. exit"
      ]
    },
    {
      "cell_type": "code",
      "execution_count": 6,
      "metadata": {
        "colab": {
          "base_uri": "https://localhost:8080/"
        },
        "id": "UgFuRsC-6dQe",
        "outputId": "09cd94f8-8b7c-4fc5-f32b-a73a1679d7e1"
      },
      "outputs": [
        {
          "name": "stdout",
          "output_type": "stream",
          "text": [
            "\n",
            "--- Conversion Menu ---\n",
            "1. CM to Feet\n",
            "2. KM to Miles\n",
            "3. USD to INR\n",
            "4. Exit\n",
            "Enter your choice (1-4): 3\n",
            "Enter value in USD: 65\n",
            "Enter current USD to INR rate (default 83): 89\n",
            "$65.0 = ₹5785.00\n",
            "\n",
            "--- Conversion Menu ---\n",
            "1. CM to Feet\n",
            "2. KM to Miles\n",
            "3. USD to INR\n",
            "4. Exit\n",
            "Enter your choice (1-4): 3\n",
            "Enter value in USD: 86\n",
            "Enter current USD to INR rate (default 83): 89\n",
            "$86.0 = ₹7654.00\n",
            "\n",
            "--- Conversion Menu ---\n",
            "1. CM to Feet\n",
            "2. KM to Miles\n",
            "3. USD to INR\n",
            "4. Exit\n",
            "Enter your choice (1-4): 4\n",
            "Exiting... Thank you!\n"
          ]
        }
      ],
      "source": [
        "def cm_to_ft(cm):\n",
        "    return cm / 30.48   # 1 ft = 30.48 cm\n",
        "\n",
        "def km_to_miles(km):\n",
        "    return km * 0.621371  # 1 km = 0.621371 miles\n",
        "\n",
        "def usd_to_inr(usd, rate=83.0):  # Default rate ~83 INR\n",
        "    return usd * rate\n",
        "\n",
        "\n",
        "while True:\n",
        "    print(\"\\n--- Conversion Menu ---\")\n",
        "    print(\"1. CM to Feet\")\n",
        "    print(\"2. KM to Miles\")\n",
        "    print(\"3. USD to INR\")\n",
        "    print(\"4. Exit\")\n",
        "\n",
        "    choice = input(\"Enter your choice (1-4): \")\n",
        "\n",
        "    if choice == \"1\":\n",
        "        cm = float(input(\"Enter value in cm: \"))\n",
        "        print(f\"{cm} cm = {cm_to_ft(cm):.2f} ft\")\n",
        "\n",
        "    elif choice == \"2\":\n",
        "        km = float(input(\"Enter value in km: \"))\n",
        "        print(f\"{km} km = {km_to_miles(km):.2f} miles\")\n",
        "\n",
        "    elif choice == \"3\":\n",
        "        usd = float(input(\"Enter value in USD: \"))\n",
        "        rate = float(input(\"Enter current USD to INR rate (default 83): \") or 83)\n",
        "        print(f\"${usd} = ₹{usd_to_inr(usd, rate):.2f}\")\n",
        "\n",
        "    elif choice == \"4\":\n",
        "        print(\"Exiting... Thank you!\")\n",
        "        break\n",
        "\n",
        "    else:\n",
        "        print(\"Invalid choice! Please select 1-4.\")\n"
      ]
    },
    {
      "cell_type": "markdown",
      "metadata": {
        "id": "LJJ30_Yw27ZU"
      },
      "source": [
        "### `Problem 5` - Exercise 12: Display Fibonacci series up to 10 terms.\n",
        "\n",
        "*Note: The Fibonacci Sequence is a series of numbers. The next number is found by adding up the two numbers before it. The first two numbers are 0 and 1. For example, 0, 1, 1, 2, 3, 5, 8, 13, 21. The next number in this series above is 13+21 = 34*"
      ]
    },
    {
      "cell_type": "code",
      "execution_count": 8,
      "metadata": {
        "colab": {
          "base_uri": "https://localhost:8080/"
        },
        "id": "ae_1rpe52-5R",
        "outputId": "1e0a45c9-ac9b-499e-c31e-7c8f7bfb9b65"
      },
      "outputs": [
        {
          "name": "stdout",
          "output_type": "stream",
          "text": [
            "Fibonacci Series up to 10 terms:\n",
            "0 1 1 2 3 5 8 13 21 34 "
          ]
        }
      ],
      "source": [
        "n = 10\n",
        "a, b = 0, 1\n",
        "\n",
        "print(\"Fibonacci Series up to 10 terms:\")\n",
        "for i in range(n):\n",
        "    print(a, end=\" \")\n",
        "    a, b = b, a + b\n"
      ]
    },
    {
      "cell_type": "markdown",
      "metadata": {
        "id": "pk_I_S4m3PT5"
      },
      "source": [
        "### `Problem 6` - Find the factorial of a given number.\n",
        "\n",
        "Write a program to use the loop to find the factorial of a given number.\n",
        "\n",
        "The factorial (symbol: `!`) means to multiply all whole numbers from the chosen number down to 1.\n",
        "\n",
        "For example: calculate the factorial of 5\n",
        "\n",
        "```bash\n",
        "5! = 5 × 4 × 3 × 2 × 1 = 120\n",
        "```\n",
        "\n",
        "Output:\n",
        "\n",
        "```bash\n",
        "120\n",
        "```"
      ]
    },
    {
      "cell_type": "code",
      "execution_count": 9,
      "metadata": {
        "colab": {
          "base_uri": "https://localhost:8080/"
        },
        "id": "lzXxHegx3Rkc",
        "outputId": "6f71e6c8-62a5-4623-e477-aaa4b8adce01"
      },
      "outputs": [
        {
          "name": "stdout",
          "output_type": "stream",
          "text": [
            "Factorial of 5 is 120\n"
          ]
        }
      ],
      "source": [
        "# Factorial of a given number\n",
        "\n",
        "num = 5\n",
        "factorial = 1\n",
        "\n",
        "for i in range(1, num + 1):\n",
        "    factorial *= i\n",
        "\n",
        "print(f\"Factorial of {num} is {factorial}\")\n"
      ]
    },
    {
      "cell_type": "markdown",
      "metadata": {
        "id": "-17IOi-g3UpU"
      },
      "source": [
        "### `Problem 7` - Reverse a given integer number.\n",
        "\n",
        "Example:\n",
        "\n",
        "`Input:`\n",
        "\n",
        "```bash\n",
        "76542\n",
        "```\n",
        "\n",
        "`Output:`\n",
        "\n",
        "```bash\n",
        "24567\n",
        "```"
      ]
    },
    {
      "cell_type": "code",
      "execution_count": 10,
      "metadata": {
        "colab": {
          "base_uri": "https://localhost:8080/"
        },
        "id": "wJwLpKCr3aVA",
        "outputId": "df0da100-92aa-46f8-8a87-9dac0905900e"
      },
      "outputs": [
        {
          "name": "stdout",
          "output_type": "stream",
          "text": [
            "24567\n"
          ]
        }
      ],
      "source": [
        "num = '76542'\n",
        "rev = num[::-1]\n",
        "print(rev)"
      ]
    },
    {
      "cell_type": "markdown",
      "metadata": {
        "id": "-t8PJQaY3sHf"
      },
      "source": [
        "### `Problem 8`: Take a user input as integer N. Find out the sum from 1 to N. If any number if divisible by 5, then skip that number. And if the sum is greater than 300, don't need to calculate the sum further more. Print the final result. And don't use for loop to solve this problem.\n",
        "\n",
        "**Example 1:**\n",
        "\n",
        "`Input:`\n",
        "\n",
        "```bash\n",
        "30\n",
        "```\n",
        "\n",
        "`Output:`\n",
        "\n",
        "```bash\n",
        "276\n",
        "```"
      ]
    },
    {
      "cell_type": "code",
      "execution_count": 11,
      "metadata": {
        "colab": {
          "base_uri": "https://localhost:8080/"
        },
        "id": "GZB6mGMP3ujT",
        "outputId": "8491e509-b07f-4f41-d7b0-78620be5f74a"
      },
      "outputs": [
        {
          "name": "stdout",
          "output_type": "stream",
          "text": [
            "Enter a number: 8\n",
            "Final Result: 31\n"
          ]
        }
      ],
      "source": [
        "\n",
        "\n",
        "N = int(input(\"Enter a number: \"))\n",
        "\n",
        "i = 1\n",
        "total = 0\n",
        "\n",
        "while i <= N:\n",
        "    if i % 5 == 0:\n",
        "        i += 1\n",
        "        continue\n",
        "\n",
        "    total += i\n",
        "\n",
        "    if total > 300:\n",
        "        break\n",
        "\n",
        "    i += 1\n",
        "\n",
        "print(\"Final Result:\", total)\n"
      ]
    },
    {
      "cell_type": "markdown",
      "metadata": {
        "id": "Q7ggImeA3xm4"
      },
      "source": [
        "### `Problem 9`: Write a program that keeps on accepting a number from the user until the user enters Zero. Display the sum and average of all the numbers."
      ]
    },
    {
      "cell_type": "code",
      "execution_count": null,
      "metadata": {
        "id": "t_YDSZDe4Kdo"
      },
      "outputs": [],
      "source": [
        "# Program to find numbers divisible by 7 but not multiple of 5 between 2000 and 3200\n",
        "\n"
      ]
    },
    {
      "cell_type": "markdown",
      "metadata": {
        "id": "6EhvEMvm4R7s"
      },
      "source": [
        "###`Problem 9`: Write a program which will find all such numbers which are divisible by 7 but are not a multiple of 5, between 2000 and 3200 (both included). The numbers obtained should be printed in a comma-separated sequence on a single line."
      ]
    },
    {
      "cell_type": "code",
      "execution_count": 1,
      "metadata": {
        "id": "d6RgP1B34T6c"
      },
      "outputs": [
        {
          "name": "stdout",
          "output_type": "stream",
          "text": [
            "2002,2009,2016,2023,2037,2044,2051,2058,2072,2079,2086,2093,2107,2114,2121,2128,2142,2149,2156,2163,2177,2184,2191,2198,2212,2219,2226,2233,2247,2254,2261,2268,2282,2289,2296,2303,2317,2324,2331,2338,2352,2359,2366,2373,2387,2394,2401,2408,2422,2429,2436,2443,2457,2464,2471,2478,2492,2499,2506,2513,2527,2534,2541,2548,2562,2569,2576,2583,2597,2604,2611,2618,2632,2639,2646,2653,2667,2674,2681,2688,2702,2709,2716,2723,2737,2744,2751,2758,2772,2779,2786,2793,2807,2814,2821,2828,2842,2849,2856,2863,2877,2884,2891,2898,2912,2919,2926,2933,2947,2954,2961,2968,2982,2989,2996,3003,3017,3024,3031,3038,3052,3059,3066,3073,3087,3094,3101,3108,3122,3129,3136,3143,3157,3164,3171,3178,3192,3199\n"
          ]
        }
      ],
      "source": [
        "# Program to find numbers divisible by 7 but not multiple of 5 between 2000 and 3200\n",
        "\n",
        "result = []\n",
        "\n",
        "for num in range(2000, 3201):  # 3200 included\n",
        "    if num % 7 == 0 and num % 5 != 0:\n",
        "        result.append(str(num))\n",
        "\n",
        "print(\",\".join(result))\n"
      ]
    },
    {
      "cell_type": "markdown",
      "metadata": {
        "id": "tYvmRR-G4Vp4"
      },
      "source": [
        "###`Problem 10`: Write a program, which will find all such numbers between 1000 and 3000 (both included) such that each digit of the number is an even number. The numbers obtained should be printed in a space-separated sequence on a single line.\n",
        "\n"
      ]
    },
    {
      "cell_type": "code",
      "execution_count": 1,
      "metadata": {
        "id": "k6Gs1kIf4k19"
      },
      "outputs": [
        {
          "name": "stdout",
          "output_type": "stream",
          "text": [
            "2000 2002 2004 2006 2008 2020 2022 2024 2026 2028 2040 2042 2044 2046 2048 2060 2062 2064 2066 2068 2080 2082 2084 2086 2088 2200 2202 2204 2206 2208 2220 2222 2224 2226 2228 2240 2242 2244 2246 2248 2260 2262 2264 2266 2268 2280 2282 2284 2286 2288 2400 2402 2404 2406 2408 2420 2422 2424 2426 2428 2440 2442 2444 2446 2448 2460 2462 2464 2466 2468 2480 2482 2484 2486 2488 2600 2602 2604 2606 2608 2620 2622 2624 2626 2628 2640 2642 2644 2646 2648 2660 2662 2664 2666 2668 2680 2682 2684 2686 2688 2800 2802 2804 2806 2808 2820 2822 2824 2826 2828 2840 2842 2844 2846 2848 2860 2862 2864 2866 2868 2880 2882 2884 2886 2888\n"
          ]
        }
      ],
      "source": [
        "# Program to find numbers between 1000 and 3000 where every digit is even\n",
        "\n",
        "result = []\n",
        "\n",
        "for num in range(1000, 3001):  # include 3000\n",
        "    s = str(num)\n",
        "    if all(int(d) % 2 == 0 for d in s):  # check if every digit is even\n",
        "        result.append(s)\n",
        "\n",
        "print(\" \".join(result))\n"
      ]
    },
    {
      "cell_type": "markdown",
      "metadata": {
        "id": "GV18IINT4mf5"
      },
      "source": [
        "###`Problem 11`: A robot moves in a plane starting from the original point (0,0). The robot can move toward UP, DOWN, LEFT and RIGHT with a given steps.\n",
        "The trace of robot movement is shown as the following:\n",
        "```\n",
        "UP 5\n",
        "DOWN 3\n",
        "LEFT 3\n",
        "RIGHT 2\n",
        "!\n",
        "```\n",
        "> The numbers after the direction are steps.\n",
        "\n",
        "> `!` means robot stop there.\n",
        "\n",
        "**Please write a program to compute the distance from current position after a sequence of movement and original point.**\n",
        "\n",
        "*If the distance is a float, then just print the nearest integer.*\n",
        "\n",
        "Example:\n",
        "\n",
        "`Input`:\n",
        "```\n",
        "UP 5\n",
        "DOWN 3\n",
        "LEFT 3\n",
        "RIGHT 2\n",
        "!\n",
        "```\n",
        "`Output`:\n",
        "```\n",
        "2\n",
        "```"
      ]
    },
    {
      "cell_type": "code",
      "execution_count": null,
      "metadata": {
        "id": "6UNMC2aR4w5x"
      },
      "outputs": [],
      "source": [
        "# Write code here"
      ]
    },
    {
      "cell_type": "markdown",
      "metadata": {
        "id": "3fsAIAhK5GYY"
      },
      "source": [
        "###`Problem 12`:Write a program to print whether a given number is a prime number or not"
      ]
    },
    {
      "cell_type": "code",
      "execution_count": null,
      "metadata": {
        "id": "j6y91lxy5LZs"
      },
      "outputs": [],
      "source": [
        "# Program to check whether a number is prime or not\n",
        "\n",
        "num = int(input(\"Enter a number: \"))\n",
        "\n",
        "if num > 1:\n",
        "    for i in range(2, int(num**0.5) + 1):  # check divisibility up to sqrt(num)\n",
        "        if num % i == 0:\n",
        "            print(num, \"is not a prime number\")\n",
        "            break\n",
        "    else:\n",
        "        print(num, \"is a prime number\")\n",
        "else:\n",
        "    print(num, \"is not a prime number\")\n"
      ]
    },
    {
      "cell_type": "markdown",
      "metadata": {
        "id": "asAbmbK-5NHv"
      },
      "source": [
        "###`Problem 13`:Print all the Armstrong numbers in a given range.\n",
        "Range will be provided by the user<br>\n",
        "Armstrong number is a number that is equal to the sum of cubes of its digits. For example 0, 1, 153, 370, 371 and 407 are the Armstrong numbers."
      ]
    },
    {
      "cell_type": "code",
      "execution_count": null,
      "metadata": {
        "id": "PZuI67pm5jCT"
      },
      "outputs": [],
      "source": []
    },
    {
      "cell_type": "markdown",
      "metadata": {
        "id": "ClCQZMqT7gK0"
      },
      "source": [
        "###`Problem 14`:Calculate the angle between the hour hand and minute hand.\n",
        "\n",
        "Note: There can be two angles between hands; we need to print a minimum of two. Also, we need to print the floor of the final result angle. For example, if the final angle is 10.61, we need to print 10.\n",
        "\n",
        "Input:<br>\n",
        "H = 9 , M = 0<br>\n",
        "Output:<br>\n",
        "90<br>\n",
        "Explanation:<br>\n",
        "The minimum angle between hour and minute\n",
        "hand when the time is 9 is 90 degress."
      ]
    },
    {
      "cell_type": "code",
      "execution_count": null,
      "metadata": {
        "id": "tNBTCZML7jy_"
      },
      "outputs": [],
      "source": [
        "# Write code here"
      ]
    },
    {
      "cell_type": "markdown",
      "metadata": {
        "id": "GwacF9Co72Qc"
      },
      "source": [
        "###`Problem 15`:Given two rectangles, find if the given two rectangles overlap or not. A rectangle is denoted by providing the x and y coordinates of two points: the left top corner and the right bottom corner of the rectangle. Two rectangles sharing a side are considered overlapping. (L1 and R1 are the extreme points of the first rectangle and L2 and R2 are the extreme points of the second rectangle).\n",
        "\n",
        "Note: It may be assumed that the rectangles are parallel to the coordinate axis.\n",
        "\n",
        "<img src='https://www.geeksforgeeks.org/wp-content/uploads/rectanglesOverlap.png' width='300' height='200'>"
      ]
    },
    {
      "cell_type": "code",
      "execution_count": null,
      "metadata": {
        "id": "6rrw_lpH78Rs"
      },
      "outputs": [],
      "source": [
        "# Write code here"
      ]
    }
  ],
  "metadata": {
    "colab": {
      "provenance": []
    },
    "kernelspec": {
      "display_name": "base",
      "language": "python",
      "name": "python3"
    },
    "language_info": {
      "codemirror_mode": {
        "name": "ipython",
        "version": 3
      },
      "file_extension": ".py",
      "mimetype": "text/x-python",
      "name": "python",
      "nbconvert_exporter": "python",
      "pygments_lexer": "ipython3",
      "version": "3.13.5"
    }
  },
  "nbformat": 4,
  "nbformat_minor": 0
}
