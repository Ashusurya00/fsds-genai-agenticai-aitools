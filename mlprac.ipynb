{
 "cells": [
  {
   "cell_type": "code",
   "execution_count": 1,
   "id": "93b0e0f1",
   "metadata": {},
   "outputs": [
    {
     "name": "stdout",
     "output_type": "stream",
     "text": [
      "h\n"
     ]
    }
   ],
   "source": [
    "print('h')"
   ]
  },
  {
   "cell_type": "code",
   "execution_count": 2,
   "metadata": {},
   "outputs": [],
   "source": [
    "import pandas as pd \n",
    "import numpy as np\n",
    "import sklearn"
   ]
  },
  {
   "cell_type": "code",
   "execution_count": 3,
   "id": "b8311118",
   "metadata": {},
   "outputs": [],
   "source": [
    "students = [\n",
    "    {\"name\": \"Alice\", \"gender\": \"Female\", \"city\": \"New York\", \"passed\":False},\n",
    "    {\"name\": \"Bob\", \"gender\": \"Male\", \"city\": \"Los Angeles\", \"passed\": False},\n",
    "    {\"name\": \"Charlie\", \"gender\": \"Male\", \"city\": \"Chicago\", \"passed\": True},\n",
    "    {\"name\": \"Diana\", \"gender\": \"Female\", \"city\": \"Houston\", \"passed\": True},\n",
    "    {\"name\": \"Ethan\", \"gender\": \"Male\", \"city\": \"Miami\", \"passed\": False},\n",
    "    {\"name\": \"Fiona\", \"gender\": \"Female\", \"city\": \"Seattle\", \"passed\": True},\n",
    "    {\"name\": \"George\", \"gender\": \"Male\", \"city\": \"Boston\", \"passed\": True},\n",
    "    {\"name\": \"Hannah\", \"gender\": \"Female\", \"city\": \"San Francisco\", \"passed\": False},\n",
    "    {\"name\": \"Ivan\", \"gender\": \"Male\", \"city\": \"Denver\", \"passed\": True},\n",
    "    {\"name\": \"Julia\", \"gender\": \"Female\", \"city\": \"Dallas\", \"passed\": True}\n",
    "]\n"
   ]
  },
  {
   "cell_type": "code",
   "execution_count": 4,
   "id": "52c8ee78",
   "metadata": {},
   "outputs": [],
   "source": [
    "df = pd.DataFrame(students)"
   ]
  },
  {
   "cell_type": "code",
   "execution_count": 5,
   "id": "c9a4c5df",
   "metadata": {},
   "outputs": [
    {
     "data": {
      "text/html": [
       "<div>\n",
       "<style scoped>\n",
       "    .dataframe tbody tr th:only-of-type {\n",
       "        vertical-align: middle;\n",
       "    }\n",
       "\n",
       "    .dataframe tbody tr th {\n",
       "        vertical-align: top;\n",
       "    }\n",
       "\n",
       "    .dataframe thead th {\n",
       "        text-align: right;\n",
       "    }\n",
       "</style>\n",
       "<table border=\"1\" class=\"dataframe\">\n",
       "  <thead>\n",
       "    <tr style=\"text-align: right;\">\n",
       "      <th></th>\n",
       "      <th>name</th>\n",
       "      <th>gender</th>\n",
       "      <th>city</th>\n",
       "      <th>passed</th>\n",
       "    </tr>\n",
       "  </thead>\n",
       "  <tbody>\n",
       "    <tr>\n",
       "      <th>0</th>\n",
       "      <td>Alice</td>\n",
       "      <td>Female</td>\n",
       "      <td>New York</td>\n",
       "      <td>False</td>\n",
       "    </tr>\n",
       "    <tr>\n",
       "      <th>1</th>\n",
       "      <td>Bob</td>\n",
       "      <td>Male</td>\n",
       "      <td>Los Angeles</td>\n",
       "      <td>False</td>\n",
       "    </tr>\n",
       "    <tr>\n",
       "      <th>2</th>\n",
       "      <td>Charlie</td>\n",
       "      <td>Male</td>\n",
       "      <td>Chicago</td>\n",
       "      <td>True</td>\n",
       "    </tr>\n",
       "    <tr>\n",
       "      <th>3</th>\n",
       "      <td>Diana</td>\n",
       "      <td>Female</td>\n",
       "      <td>Houston</td>\n",
       "      <td>True</td>\n",
       "    </tr>\n",
       "    <tr>\n",
       "      <th>4</th>\n",
       "      <td>Ethan</td>\n",
       "      <td>Male</td>\n",
       "      <td>Miami</td>\n",
       "      <td>False</td>\n",
       "    </tr>\n",
       "    <tr>\n",
       "      <th>5</th>\n",
       "      <td>Fiona</td>\n",
       "      <td>Female</td>\n",
       "      <td>Seattle</td>\n",
       "      <td>True</td>\n",
       "    </tr>\n",
       "    <tr>\n",
       "      <th>6</th>\n",
       "      <td>George</td>\n",
       "      <td>Male</td>\n",
       "      <td>Boston</td>\n",
       "      <td>True</td>\n",
       "    </tr>\n",
       "    <tr>\n",
       "      <th>7</th>\n",
       "      <td>Hannah</td>\n",
       "      <td>Female</td>\n",
       "      <td>San Francisco</td>\n",
       "      <td>False</td>\n",
       "    </tr>\n",
       "    <tr>\n",
       "      <th>8</th>\n",
       "      <td>Ivan</td>\n",
       "      <td>Male</td>\n",
       "      <td>Denver</td>\n",
       "      <td>True</td>\n",
       "    </tr>\n",
       "    <tr>\n",
       "      <th>9</th>\n",
       "      <td>Julia</td>\n",
       "      <td>Female</td>\n",
       "      <td>Dallas</td>\n",
       "      <td>True</td>\n",
       "    </tr>\n",
       "  </tbody>\n",
       "</table>\n",
       "</div>"
      ],
      "text/plain": [
       "      name  gender           city  passed\n",
       "0    Alice  Female       New York   False\n",
       "1      Bob    Male    Los Angeles   False\n",
       "2  Charlie    Male        Chicago    True\n",
       "3    Diana  Female        Houston    True\n",
       "4    Ethan    Male          Miami   False\n",
       "5    Fiona  Female        Seattle    True\n",
       "6   George    Male         Boston    True\n",
       "7   Hannah  Female  San Francisco   False\n",
       "8     Ivan    Male         Denver    True\n",
       "9    Julia  Female         Dallas    True"
      ]
     },
     "execution_count": 5,
     "metadata": {},
     "output_type": "execute_result"
    }
   ],
   "source": [
    "df"
   ]
  },
  {
   "cell_type": "code",
   "execution_count": 6,
   "id": "a93456d5",
   "metadata": {},
   "outputs": [
    {
     "name": "stdout",
     "output_type": "stream",
     "text": [
      "\n",
      "Label Encoded Data\n",
      "      name  gender  gender_encoded  passed_encoded\n",
      "0    Alice  Female               0               0\n",
      "1      Bob    Male               1               0\n",
      "2  Charlie    Male               1               1\n",
      "3    Diana  Female               0               1\n",
      "4    Ethan    Male               1               0\n",
      "5    Fiona  Female               0               1\n",
      "6   George    Male               1               1\n",
      "7   Hannah  Female               0               0\n",
      "8     Ivan    Male               1               1\n",
      "9    Julia  Female               0               1\n"
     ]
    }
   ],
   "source": [
    "from sklearn.preprocessing import LabelEncoder \n",
    "df_label = df.copy()\n",
    "\n",
    "le = LabelEncoder()\n",
    "df_label['gender_encoded'] = le.fit_transform(df_label['gender'])\n",
    "df_label['passed_encoded'] = le.fit_transform(df_label['passed'])\n",
    "\n",
    "print('\\nLabel Encoded Data')\n",
    "print(df_label[['name','gender','gender_encoded','passed_encoded']])"
   ]
  },
  {
   "cell_type": "code",
   "execution_count": 7,
   "id": "5bb04ba6",
   "metadata": {},
   "outputs": [],
   "source": [
    "stdhrs = {\n",
    "    'studyhours':[1,2,3,4,5],\n",
    "    'testscore':[40,50,60,70,80]\n",
    "}"
   ]
  },
  {
   "cell_type": "code",
   "execution_count": 8,
   "id": "6814d7d9",
   "metadata": {},
   "outputs": [
    {
     "data": {
      "text/html": [
       "<div>\n",
       "<style scoped>\n",
       "    .dataframe tbody tr th:only-of-type {\n",
       "        vertical-align: middle;\n",
       "    }\n",
       "\n",
       "    .dataframe tbody tr th {\n",
       "        vertical-align: top;\n",
       "    }\n",
       "\n",
       "    .dataframe thead th {\n",
       "        text-align: right;\n",
       "    }\n",
       "</style>\n",
       "<table border=\"1\" class=\"dataframe\">\n",
       "  <thead>\n",
       "    <tr style=\"text-align: right;\">\n",
       "      <th></th>\n",
       "      <th>studyhours</th>\n",
       "      <th>testscore</th>\n",
       "    </tr>\n",
       "  </thead>\n",
       "  <tbody>\n",
       "    <tr>\n",
       "      <th>0</th>\n",
       "      <td>1</td>\n",
       "      <td>40</td>\n",
       "    </tr>\n",
       "    <tr>\n",
       "      <th>1</th>\n",
       "      <td>2</td>\n",
       "      <td>50</td>\n",
       "    </tr>\n",
       "    <tr>\n",
       "      <th>2</th>\n",
       "      <td>3</td>\n",
       "      <td>60</td>\n",
       "    </tr>\n",
       "    <tr>\n",
       "      <th>3</th>\n",
       "      <td>4</td>\n",
       "      <td>70</td>\n",
       "    </tr>\n",
       "    <tr>\n",
       "      <th>4</th>\n",
       "      <td>5</td>\n",
       "      <td>80</td>\n",
       "    </tr>\n",
       "  </tbody>\n",
       "</table>\n",
       "</div>"
      ],
      "text/plain": [
       "   studyhours  testscore\n",
       "0           1         40\n",
       "1           2         50\n",
       "2           3         60\n",
       "3           4         70\n",
       "4           5         80"
      ]
     },
     "execution_count": 8,
     "metadata": {},
     "output_type": "execute_result"
    }
   ],
   "source": [
    "df1 = pd.DataFrame(stdhrs)\n",
    "df1"
   ]
  },
  {
   "cell_type": "code",
   "execution_count": 12,
   "id": "3b340a48",
   "metadata": {},
   "outputs": [
    {
     "name": "stdout",
     "output_type": "stream",
     "text": [
      "Standard scaler output:\n",
      "   studyhours  testscore\n",
      "0   -1.414214  -1.414214\n",
      "1   -0.707107  -0.707107\n",
      "2    0.000000   0.000000\n",
      "3    0.707107   0.707107\n",
      "4    1.414214   1.414214\n",
      "\n",
      "MinMax Scaled output\n",
      "   studyhours  testscore\n",
      "0        0.00       0.00\n",
      "1        0.25       0.25\n",
      "2        0.50       0.50\n",
      "3        0.75       0.75\n",
      "4        1.00       1.00\n",
      "training data\n",
      "   studyhours\n",
      "4           5\n",
      "2           3\n",
      "0           1\n",
      "1           2\n",
      "Test data\n",
      "   studyhours\n",
      "3           4\n"
     ]
    }
   ],
   "source": [
    "from sklearn.model_selection import train_test_split\n",
    "from sklearn.preprocessing import StandardScaler, MinMaxScaler\n",
    "\n",
    "standard_scaler = StandardScaler()\n",
    "standard_scaled = standard_scaler.fit_transform(df1)\n",
    "\n",
    "print('Standard scaler output:')\n",
    "print(pd.DataFrame(standard_scaled, columns=['studyhours','testscore']))\n",
    "\n",
    "minmax_scaler = MinMaxScaler()\n",
    "minmax_scaled = minmax_scaler.fit_transform(df1)\n",
    "\n",
    "print('\\nMinMax Scaled output')\n",
    "print(pd.DataFrame(minmax_scaled, columns=['studyhours','testscore']))\n",
    "\n",
    "X  = df1[['studyhours']]\n",
    "y = df1[['testscore']]\n",
    "\n",
    "X_train,X_test,y_train,y_test = train_test_split(X,y, test_size=0.2)\n",
    "print('training data')\n",
    "print(X_train)\n",
    "\n",
    "print('Test data')\n",
    "print(X_test)"
   ]
  },
  {
   "cell_type": "code",
   "execution_count": null,
   "id": "3f5857f2",
   "metadata": {},
   "outputs": [],
   "source": []
  },
  {
   "cell_type": "code",
   "execution_count": null,
   "id": "ac63db4a",
   "metadata": {},
   "outputs": [],
   "source": []
  },
  {
   "cell_type": "code",
   "execution_count": null,
   "id": "932fee28",
   "metadata": {},
   "outputs": [],
   "source": []
  },
  {
   "cell_type": "code",
   "execution_count": null,
   "id": "e033c4c9",
   "metadata": {},
   "outputs": [],
   "source": []
  }
 ],
 "metadata": {
  "kernelspec": {
   "display_name": "base",
   "language": "python",
   "name": "python3"
  },
  "language_info": {
   "codemirror_mode": {
    "name": "ipython",
    "version": 3
   },
   "file_extension": ".py",
   "mimetype": "text/x-python",
   "name": "python",
   "nbconvert_exporter": "python",
   "pygments_lexer": "ipython3",
   "version": "3.13.5"
  }
 },
 "nbformat": 4,
 "nbformat_minor": 5
}
