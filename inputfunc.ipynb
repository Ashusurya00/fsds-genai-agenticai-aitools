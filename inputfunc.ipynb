{
 "cells": [
  {
   "cell_type": "code",
   "execution_count": 1,
   "id": "d5f45fe2-81d3-4483-85a5-b62fac8a1ad5",
   "metadata": {},
   "outputs": [
    {
     "name": "stdin",
     "output_type": "stream",
     "text": [
      " 4\n",
      " 5\n"
     ]
    },
    {
     "name": "stdout",
     "output_type": "stream",
     "text": [
      "45\n"
     ]
    }
   ],
   "source": [
    "x = input()\n",
    "y = input()\n",
    "z = x + y\n",
    "print(z)"
   ]
  },
  {
   "cell_type": "code",
   "execution_count": 2,
   "id": "54897cab-102e-4d68-a1ff-7bd7e24fe690",
   "metadata": {},
   "outputs": [
    {
     "name": "stdin",
     "output_type": "stream",
     "text": [
      "enter the 1st number 4\n",
      "enter the 2nd number 5\n"
     ]
    },
    {
     "name": "stdout",
     "output_type": "stream",
     "text": [
      "45\n"
     ]
    }
   ],
   "source": [
    "x1 = input('enter the 1st number')\n",
    "y1 = input('enter the 2nd number')\n",
    "z1 = x1 + y1\n",
    "print(z1)"
   ]
  },
  {
   "cell_type": "code",
   "execution_count": 3,
   "id": "4bda0482-4a53-470a-804f-9bd56a623e81",
   "metadata": {},
   "outputs": [
    {
     "data": {
      "text/plain": [
       "str"
      ]
     },
     "execution_count": 3,
     "metadata": {},
     "output_type": "execute_result"
    }
   ],
   "source": [
    "type(x1)\n",
    "type(y1)"
   ]
  },
  {
   "cell_type": "code",
   "execution_count": 6,
   "id": "c0c8602e-a22f-47bb-a5f5-7a61831a6c45",
   "metadata": {},
   "outputs": [
    {
     "name": "stdin",
     "output_type": "stream",
     "text": [
      "enter the 1st number 4\n",
      "enter the 2nd number 5\n"
     ]
    },
    {
     "name": "stdout",
     "output_type": "stream",
     "text": [
      "9\n"
     ]
    }
   ],
   "source": [
    "x1 = input('enter the 1st number')\n",
    "a1 = int(x1)\n",
    "y1 = input('enter the 2nd number')\n",
    "b1 = int(y1)\n",
    "z1 = a1 + b1\n",
    "print(z1)"
   ]
  },
  {
   "cell_type": "code",
   "execution_count": 9,
   "id": "0c43b4bd-51e6-46a2-aab5-6576b78d571f",
   "metadata": {},
   "outputs": [
    {
     "name": "stdin",
     "output_type": "stream",
     "text": [
      "enter the 1st number 4\n",
      "enter the 2nd number 9\n"
     ]
    },
    {
     "name": "stdout",
     "output_type": "stream",
     "text": [
      "13\n"
     ]
    }
   ],
   "source": [
    "x2 = int(input('enter the 1st number'))\n",
    "y2 = int(input('enter the 2nd number'))\n",
    "z2 = x2 + y2\n",
    "print(z2)"
   ]
  },
  {
   "cell_type": "code",
   "execution_count": 11,
   "id": "e92e125a-b4f1-4240-acb0-b4ab84cd7f26",
   "metadata": {},
   "outputs": [
    {
     "name": "stdin",
     "output_type": "stream",
     "text": [
      "enter the char abc\n"
     ]
    },
    {
     "name": "stdout",
     "output_type": "stream",
     "text": [
      "abc\n"
     ]
    }
   ],
   "source": [
    "ch = input('enter the char')\n",
    "print(ch)"
   ]
  },
  {
   "cell_type": "code",
   "execution_count": 12,
   "id": "1d0b0a89-c75f-4f60-a214-22bd579467bd",
   "metadata": {},
   "outputs": [
    {
     "name": "stdout",
     "output_type": "stream",
     "text": [
      "a\n"
     ]
    }
   ],
   "source": [
    "print(ch[0])"
   ]
  },
  {
   "cell_type": "code",
   "execution_count": 13,
   "id": "13b10b2a-a719-4c15-8093-b38d16cf560c",
   "metadata": {},
   "outputs": [
    {
     "name": "stdout",
     "output_type": "stream",
     "text": [
      "b\n"
     ]
    }
   ],
   "source": [
    "print(ch[1])"
   ]
  },
  {
   "cell_type": "code",
   "execution_count": 14,
   "id": "88852be6-fc2c-4b5d-8fc7-53ab814e490f",
   "metadata": {},
   "outputs": [
    {
     "name": "stdout",
     "output_type": "stream",
     "text": [
      "c\n"
     ]
    }
   ],
   "source": [
    "print(ch[-1])"
   ]
  },
  {
   "cell_type": "code",
   "execution_count": 15,
   "id": "ff02f958-8063-4e1a-9db2-bdea5fa85924",
   "metadata": {},
   "outputs": [
    {
     "name": "stdin",
     "output_type": "stream",
     "text": [
      "enter the char hello\n"
     ]
    },
    {
     "name": "stdout",
     "output_type": "stream",
     "text": [
      "h\n"
     ]
    }
   ],
   "source": [
    "ch = input('enter the char')[0]\n",
    "print(ch)"
   ]
  },
  {
   "cell_type": "code",
   "execution_count": 1,
   "id": "144137ea-10d6-4547-bfca-f46722116456",
   "metadata": {},
   "outputs": [
    {
     "name": "stdin",
     "output_type": "stream",
     "text": [
      "enter the char python\n"
     ]
    },
    {
     "name": "stdout",
     "output_type": "stream",
     "text": [
      "yt\n"
     ]
    }
   ],
   "source": [
    "ch = input('enter the char')[1:3]\n",
    "print(ch)"
   ]
  },
  {
   "cell_type": "code",
   "execution_count": null,
   "id": "396c05f5-9c63-4513-9433-bfb97fe6b2b8",
   "metadata": {},
   "outputs": [],
   "source": [
    "ch = input('enter the char')[1:3]\n",
    "print(ch)"
   ]
  },
  {
   "cell_type": "code",
   "execution_count": 2,
   "id": "9e46022f-d54b-43eb-896c-88e52b1d99d9",
   "metadata": {},
   "outputs": [
    {
     "name": "stdin",
     "output_type": "stream",
     "text": [
      "enter the char 2+6-1\n"
     ]
    },
    {
     "name": "stdout",
     "output_type": "stream",
     "text": [
      "2+6-1\n"
     ]
    }
   ],
   "source": [
    "ch = input('enter the char')\n",
    "print(ch)"
   ]
  },
  {
   "cell_type": "code",
   "execution_count": null,
   "id": "e5e4b694-40ff-4862-b3c8-89f6e9b03a04",
   "metadata": {},
   "outputs": [],
   "source": [
    "result = eval(input('enter "
   ]
  }
 ],
 "metadata": {
  "kernelspec": {
   "display_name": "Python 3 (ipykernel)",
   "language": "python",
   "name": "python3"
  },
  "language_info": {
   "codemirror_mode": {
    "name": "ipython",
    "version": 3
   },
   "file_extension": ".py",
   "mimetype": "text/x-python",
   "name": "python",
   "nbconvert_exporter": "python",
   "pygments_lexer": "ipython3",
   "version": "3.13.5"
  }
 },
 "nbformat": 4,
 "nbformat_minor": 5
}
