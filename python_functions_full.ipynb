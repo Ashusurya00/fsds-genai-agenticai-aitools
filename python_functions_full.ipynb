{
 "cells": [
  {
   "cell_type": "code",
   "execution_count": 1,
   "id": "eb86ece6-11a8-4b33-a769-69aced14eebf",
   "metadata": {},
   "outputs": [
    {
     "name": "stdout",
     "output_type": "stream",
     "text": [
      "7pm is the batch i like the most\n"
     ]
    }
   ],
   "source": [
    "def nit():\n",
    "    print('7pm is the batch i like the most')\n",
    "\n",
    "nit()"
   ]
  },
  {
   "cell_type": "code",
   "execution_count": 2,
   "id": "c04b6dc5-8531-4c48-851f-b546a620979c",
   "metadata": {},
   "outputs": [
    {
     "name": "stdout",
     "output_type": "stream",
     "text": [
      "7pm team are one of the smartest group that ever present on the earth\n",
      "7pm team never upload the task on linkedin & google classroom\n",
      "7pm team you need to showcase talent to the world by creating linkedin portfolio\n"
     ]
    }
   ],
   "source": [
    "def nit():\n",
    "    print('7pm team are one of the smartest group that ever present on the earth')\n",
    "    print('7pm team never upload the task on linkedin & google classroom')\n",
    "    print('7pm team you need to showcase talent to the world by creating linkedin portfolio')\n",
    "\n",
    "nit()"
   ]
  },
  {
   "cell_type": "code",
   "execution_count": 4,
   "id": "a63d78bf-46dc-4e47-99db-0860cfde1cf4",
   "metadata": {},
   "outputs": [
    {
     "name": "stdout",
     "output_type": "stream",
     "text": [
      "7pm team very very very very very smart\n",
      "7pm team never upload the task in linkedin & google classroom\n",
      "7pm team you need to showcase talent to the world by create linkedin portfolio\n",
      "7pm team very very very very very smart\n",
      "7pm team never upload the task in linkedin & google classroom\n",
      "7pm team you need to showcase talent to the world by create linkedin portfolio\n",
      "7pm team very very very very very smart\n",
      "7pm team never upload the task in linkedin & google classroom\n",
      "7pm team you need to showcase talent to the world by create linkedin portfolio\n"
     ]
    }
   ],
   "source": [
    "def nit():\n",
    "    print('7pm team very very very very very smart' )\n",
    "    print(\"7pm team never upload the task in linkedin & google classroom\")\n",
    "    print(\"7pm team you need to showcase talent to the world by create linkedin portfolio\")\n",
    "\n",
    "nit()\n",
    "\n",
    "def nit():\n",
    "    print('7pm team very very very very very smart' )\n",
    "    print(\"7pm team never upload the task in linkedin & google classroom\")\n",
    "    print(\"7pm team you need to showcase talent to the world by create linkedin portfolio\")\n",
    "nit()\n",
    "def nit():\n",
    "    print('7pm team very very very very very smart' )\n",
    "    print(\"7pm team never upload the task in linkedin & google classroom\")\n",
    "    print(\"7pm team you need to showcase talent to the world by create linkedin portfolio\")\n",
    "\n",
    "\n",
    "nit()\n",
    "\n",
    "\n",
    "    "
   ]
  },
  {
   "cell_type": "code",
   "execution_count": 5,
   "id": "f5c81fb2-c6df-4b21-bcb8-b0197a414740",
   "metadata": {},
   "outputs": [
    {
     "name": "stdout",
     "output_type": "stream",
     "text": [
      "7pm team very very very very very smart\n",
      "7pm team never upload the task in linkedin & google classroom\n",
      "7pm team you need to showcase talent to the world by create linkedin portfolio\n",
      "7pm team very very very very very smart\n",
      "7pm team never upload the task in linkedin & google classroom\n",
      "7pm team you need to showcase talent to the world by create linkedin portfolio\n",
      "7pm team very very very very very smart\n",
      "7pm team never upload the task in linkedin & google classroom\n",
      "7pm team you need to showcase talent to the world by create linkedin portfolio\n"
     ]
    }
   ],
   "source": [
    "nit()\n",
    "nit()\n",
    "nit()"
   ]
  },
  {
   "cell_type": "code",
   "execution_count": 6,
   "id": "31e70131-b97c-4b1a-8117-37743e7abc64",
   "metadata": {},
   "outputs": [
    {
     "name": "stdout",
     "output_type": "stream",
     "text": [
      "7pm team very very very very very smart\n",
      "7pm team never upload the task in linkedin & google classroom\n",
      "7pm team you need to showcase talent to the world by create linkedin portfolio\n",
      "7pm batch team need to apply jobs as soon as possible\n",
      "if you are very hard work i will share all previous batch ans apply\n"
     ]
    }
   ],
   "source": [
    "def nit():\n",
    "    print('7pm team very very very very very smart' )\n",
    "    print(\"7pm team never upload the task in linkedin & google classroom\")\n",
    "    print(\"7pm team you need to showcase talent to the world by create linkedin portfolio\")\n",
    "nit()\n",
    "\n",
    "def placement():\n",
    "    print('7pm batch team need to apply jobs as soon as possible')\n",
    "    print('if you are very hard work i will share all previous batch ans apply')\n",
    "placement()"
   ]
  },
  {
   "cell_type": "code",
   "execution_count": 7,
   "id": "0c7f18d4-f3da-40d1-89a0-405d58e24366",
   "metadata": {},
   "outputs": [
    {
     "name": "stdout",
     "output_type": "stream",
     "text": [
      "7pm team very very very very very smart\n",
      "7pm team never upload the task in linkedin & google classroom\n",
      "7pm team you need to showcase talent to the world by create linkedin portfolio\n",
      "7pm batch team need to apply jobs as soon as possible\n",
      "if you are very hard work i will share all previous batch ans apply\n"
     ]
    }
   ],
   "source": [
    "def nit():\n",
    "    print('7pm team very very very very very smart' )\n",
    "    print(\"7pm team never upload the task in linkedin & google classroom\")\n",
    "    print(\"7pm team you need to showcase talent to the world by create linkedin portfolio\")\n",
    "\n",
    "def placement():\n",
    "    print('7pm batch team need to apply jobs as soon as possible')\n",
    "    print('if you are very hard work i will share all previous batch ans apply')\n",
    "\n",
    "nit()\n",
    "placement()"
   ]
  },
  {
   "cell_type": "code",
   "execution_count": 8,
   "id": "b4eb1277-483e-410c-b719-98170f4a6e1b",
   "metadata": {},
   "outputs": [
    {
     "name": "stdout",
     "output_type": "stream",
     "text": [
      "11\n"
     ]
    }
   ],
   "source": [
    "def add(x,y):\n",
    "\n",
    "    c=x+y\n",
    "    print(c)\n",
    "add(5,6)"
   ]
  },
  {
   "cell_type": "code",
   "execution_count": 9,
   "id": "6605910e-a0fc-4d0c-b853-ea69f3ea8472",
   "metadata": {},
   "outputs": [
    {
     "name": "stdout",
     "output_type": "stream",
     "text": [
      "11\n",
      "\n",
      "7pm batch team need to apply jobs as soon as possible\n",
      "if you are very hard work i will share all previous batch ans apply\n"
     ]
    }
   ],
   "source": [
    "def add(x,y):\n",
    "    c=x+y\n",
    "    print(c)\n",
    "\n",
    "def placement():\n",
    "    print('7pm batch team need to apply jobs as soon as possible')\n",
    "    print('if you are very hard work i will share all previous batch ans apply')\n",
    "\n",
    "add(5,6)\n",
    "\n",
    "print()\n",
    "\n",
    "placement()"
   ]
  },
  {
   "cell_type": "code",
   "execution_count": 10,
   "id": "f09d06cc-06f8-446a-8dc7-42ac7acaeef9",
   "metadata": {},
   "outputs": [
    {
     "name": "stdout",
     "output_type": "stream",
     "text": [
      "9\n"
     ]
    }
   ],
   "source": [
    "def add(x,y):\n",
    "    c=x+y\n",
    "    return c\n",
    "result = add(5,4)\n",
    "print(result)"
   ]
  },
  {
   "cell_type": "code",
   "execution_count": 11,
   "id": "b1f6cfbc-c6be-4663-8aa7-85118ea8e279",
   "metadata": {},
   "outputs": [
    {
     "name": "stdout",
     "output_type": "stream",
     "text": [
      "hello\n",
      "good noon\n",
      "9\n"
     ]
    }
   ],
   "source": [
    "def greet():\n",
    "    print('hello')\n",
    "    print('good noon')\n",
    "\n",
    "greet()\n",
    "\n",
    "def add(x,y):\n",
    "    c=x+y\n",
    "    return c\n",
    "\n",
    "result = add(5,4)\n",
    "print(result)"
   ]
  },
  {
   "cell_type": "code",
   "execution_count": 12,
   "id": "f2ad2a43-573c-497d-8dc0-737d8205529e",
   "metadata": {},
   "outputs": [
    {
     "data": {
      "text/plain": [
       "(9, -1)"
      ]
     },
     "execution_count": 12,
     "metadata": {},
     "output_type": "execute_result"
    }
   ],
   "source": [
    "def add_sub(x,y):\n",
    "    c=x+y\n",
    "    d=x-y\n",
    "    return c,d\n",
    "add_sub(4,5)"
   ]
  },
  {
   "cell_type": "code",
   "execution_count": 13,
   "id": "570da3d9-72d8-4610-8d12-76eda30559a3",
   "metadata": {},
   "outputs": [
    {
     "name": "stdout",
     "output_type": "stream",
     "text": [
      "(9, -1)\n",
      "<class 'tuple'>\n"
     ]
    }
   ],
   "source": [
    "def add_sub(x,y):\n",
    "    c=x+y\n",
    "    d=x-y\n",
    "    return c,d\n",
    "result = add_sub(4,5)\n",
    "\n",
    "print(result)\n",
    "print(type(result))"
   ]
  },
  {
   "cell_type": "code",
   "execution_count": 15,
   "id": "cef40856-70dc-4f9f-a536-389730eab8e0",
   "metadata": {},
   "outputs": [
    {
     "name": "stdout",
     "output_type": "stream",
     "text": [
      "9 1\n",
      "<class 'int'>\n",
      "<class 'int'>\n"
     ]
    }
   ],
   "source": [
    "def add_sub(x,y):\n",
    "    c=x+y\n",
    "    d=x-y\n",
    "    return c,d \n",
    "\n",
    "result1, result2 = add_sub(5,4)\n",
    "\n",
    "print(result1,result2)\n",
    "\n",
    "print(type(result1))\n",
    "print(type(result2))"
   ]
  },
  {
   "cell_type": "code",
   "execution_count": 16,
   "id": "44bc7aa6-bea4-4d4c-96cb-99211a633a28",
   "metadata": {},
   "outputs": [
    {
     "name": "stdout",
     "output_type": "stream",
     "text": [
      "11\n"
     ]
    }
   ],
   "source": [
    "def add(a,b):\n",
    "    c = a+b\n",
    "    print(c)\n",
    "\n",
    "add(5,6)"
   ]
  },
  {
   "cell_type": "code",
   "execution_count": 17,
   "id": "f8abe97e-6aa4-4526-9c00-e9bf3450c4d4",
   "metadata": {},
   "outputs": [
    {
     "name": "stdout",
     "output_type": "stream",
     "text": [
      "18\n"
     ]
    }
   ],
   "source": [
    "def add(a,b,d):\n",
    "    c = a+b+d\n",
    "    print(c)\n",
    "\n",
    "add(5,6,7)"
   ]
  },
  {
   "cell_type": "code",
   "execution_count": 18,
   "id": "00491d0c-27d8-4b14-818a-8dcfe570b93e",
   "metadata": {},
   "outputs": [
    {
     "name": "stdout",
     "output_type": "stream",
     "text": [
      "nit\n",
      "22\n"
     ]
    }
   ],
   "source": [
    "def person(name,age):\n",
    "    print(name)\n",
    "    print(age)\n",
    "\n",
    "person('nit', 22)"
   ]
  },
  {
   "cell_type": "code",
   "execution_count": 19,
   "id": "25b60d18-9a02-40e7-9ccd-1b0ccc42c157",
   "metadata": {},
   "outputs": [
    {
     "ename": "TypeError",
     "evalue": "person() takes 2 positional arguments but 3 were given",
     "output_type": "error",
     "traceback": [
      "\u001b[31m---------------------------------------------------------------------------\u001b[39m",
      "\u001b[31mTypeError\u001b[39m                                 Traceback (most recent call last)",
      "\u001b[36mCell\u001b[39m\u001b[36m \u001b[39m\u001b[32mIn[19]\u001b[39m\u001b[32m, line 4\u001b[39m\n\u001b[32m      2\u001b[39m     \u001b[38;5;28mprint\u001b[39m(name)\n\u001b[32m      3\u001b[39m     \u001b[38;5;28mprint\u001b[39m(age)\n\u001b[32m----> \u001b[39m\u001b[32m4\u001b[39m \u001b[43mperson\u001b[49m\u001b[43m(\u001b[49m\u001b[33;43m'\u001b[39;49m\u001b[33;43mnit\u001b[39;49m\u001b[33;43m'\u001b[39;49m\u001b[43m,\u001b[49m\u001b[32;43m24\u001b[39;49m\u001b[43m,\u001b[49m\u001b[32;43m45\u001b[39;49m\u001b[43m)\u001b[49m\n",
      "\u001b[31mTypeError\u001b[39m: person() takes 2 positional arguments but 3 were given"
     ]
    }
   ],
   "source": [
    "def person(name, age):\n",
    "    print(name)\n",
    "    print(age)\n",
    "person('nit',24,45)"
   ]
  },
  {
   "cell_type": "code",
   "execution_count": 20,
   "id": "c65d8fe8-6896-4baf-a898-15d989fe0296",
   "metadata": {},
   "outputs": [
    {
     "name": "stdout",
     "output_type": "stream",
     "text": [
      "22\n"
     ]
    },
    {
     "ename": "TypeError",
     "evalue": "unsupported operand type(s) for -: 'str' and 'int'",
     "output_type": "error",
     "traceback": [
      "\u001b[31m---------------------------------------------------------------------------\u001b[39m",
      "\u001b[31mTypeError\u001b[39m                                 Traceback (most recent call last)",
      "\u001b[36mCell\u001b[39m\u001b[36m \u001b[39m\u001b[32mIn[20]\u001b[39m\u001b[32m, line 5\u001b[39m\n\u001b[32m      2\u001b[39m     \u001b[38;5;28mprint\u001b[39m(name)\n\u001b[32m      3\u001b[39m     \u001b[38;5;28mprint\u001b[39m(age-\u001b[32m5\u001b[39m)\n\u001b[32m----> \u001b[39m\u001b[32m5\u001b[39m \u001b[43mperson\u001b[49m\u001b[43m(\u001b[49m\u001b[32;43m22\u001b[39;49m\u001b[43m,\u001b[49m\u001b[43m \u001b[49m\u001b[33;43m'\u001b[39;49m\u001b[33;43mnit\u001b[39;49m\u001b[33;43m'\u001b[39;49m\u001b[43m)\u001b[49m\n",
      "\u001b[36mCell\u001b[39m\u001b[36m \u001b[39m\u001b[32mIn[20]\u001b[39m\u001b[32m, line 3\u001b[39m, in \u001b[36mperson\u001b[39m\u001b[34m(name, age)\u001b[39m\n\u001b[32m      1\u001b[39m \u001b[38;5;28;01mdef\u001b[39;00m\u001b[38;5;250m \u001b[39m\u001b[34mperson\u001b[39m(name, age):\n\u001b[32m      2\u001b[39m     \u001b[38;5;28mprint\u001b[39m(name)\n\u001b[32m----> \u001b[39m\u001b[32m3\u001b[39m     \u001b[38;5;28mprint\u001b[39m(\u001b[43mage\u001b[49m\u001b[43m-\u001b[49m\u001b[32;43m5\u001b[39;49m)\n",
      "\u001b[31mTypeError\u001b[39m: unsupported operand type(s) for -: 'str' and 'int'"
     ]
    }
   ],
   "source": [
    "def person(name, age):\n",
    "    print(name)\n",
    "    print(age-5)\n",
    "\n",
    "person(22, 'nit')"
   ]
  },
  {
   "cell_type": "code",
   "execution_count": 21,
   "id": "d066d610-bef7-488c-89e5-24c63175037e",
   "metadata": {},
   "outputs": [
    {
     "name": "stdout",
     "output_type": "stream",
     "text": [
      "nit\n",
      "17\n"
     ]
    }
   ],
   "source": [
    "def person(name, age):\n",
    "    print(name)\n",
    "    print(age-5)\n",
    "\n",
    "person(age=22, name='nit')"
   ]
  },
  {
   "cell_type": "code",
   "execution_count": 25,
   "id": "b01a1efb-a14e-471e-9934-816fbd0c3572",
   "metadata": {},
   "outputs": [
    {
     "name": "stdout",
     "output_type": "stream",
     "text": [
      "nit\n",
      "17\n",
      "hyd\n"
     ]
    }
   ],
   "source": [
    "def person(name, age, city):\n",
    "    print(name)\n",
    "    print(age-5)\n",
    "    print(city)\n",
    "\n",
    "person(age=22, name='nit', city='hyd')"
   ]
  },
  {
   "cell_type": "code",
   "execution_count": 26,
   "id": "b24481ce-c4a6-449e-8ace-248f09b9cbc3",
   "metadata": {},
   "outputs": [
    {
     "ename": "TypeError",
     "evalue": "person() missing 1 required positional argument: 'age'",
     "output_type": "error",
     "traceback": [
      "\u001b[31m---------------------------------------------------------------------------\u001b[39m",
      "\u001b[31mTypeError\u001b[39m                                 Traceback (most recent call last)",
      "\u001b[36mCell\u001b[39m\u001b[36m \u001b[39m\u001b[32mIn[26]\u001b[39m\u001b[32m, line 5\u001b[39m\n\u001b[32m      2\u001b[39m     \u001b[38;5;28mprint\u001b[39m(name)\n\u001b[32m      3\u001b[39m     \u001b[38;5;28mprint\u001b[39m(age)\n\u001b[32m----> \u001b[39m\u001b[32m5\u001b[39m \u001b[43mperson\u001b[49m\u001b[43m(\u001b[49m\u001b[33;43m'\u001b[39;49m\u001b[33;43mnit\u001b[39;49m\u001b[33;43m'\u001b[39;49m\u001b[43m)\u001b[49m\n",
      "\u001b[31mTypeError\u001b[39m: person() missing 1 required positional argument: 'age'"
     ]
    }
   ],
   "source": [
    "def person(name,age):\n",
    "    print(name)\n",
    "    print(age)\n",
    "\n",
    "person('nit')"
   ]
  },
  {
   "cell_type": "code",
   "execution_count": 27,
   "id": "5ac2792b-b28f-4810-bc30-4ffe486d5dc0",
   "metadata": {},
   "outputs": [
    {
     "name": "stdout",
     "output_type": "stream",
     "text": [
      "nit\n",
      "30\n"
     ]
    }
   ],
   "source": [
    "def person(name, age=20):\n",
    "    print(name)\n",
    "    print(age)\n",
    "\n",
    "person('nit', 30)"
   ]
  },
  {
   "cell_type": "code",
   "execution_count": 28,
   "id": "072af200-556c-4792-a627-5ae9edb193fd",
   "metadata": {},
   "outputs": [
    {
     "name": "stdout",
     "output_type": "stream",
     "text": [
      "nit\n",
      "40\n"
     ]
    }
   ],
   "source": [
    "def person(name, age=18):\n",
    "    print(name)\n",
    "    print(age)\n",
    "\n",
    "person('nit', 40)"
   ]
  },
  {
   "cell_type": "markdown",
   "id": "ff4b4c45-b09b-48ba-b880-229577e74691",
   "metadata": {},
   "source": [
    "Variable lenght argument"
   ]
  },
  {
   "cell_type": "code",
   "execution_count": 29,
   "id": "668f0ad4-9e8b-44b7-bd9c-0df085c84451",
   "metadata": {},
   "outputs": [
    {
     "name": "stdout",
     "output_type": "stream",
     "text": [
      "11\n"
     ]
    }
   ],
   "source": [
    "def sum(a,b):\n",
    "    c = a+b\n",
    "    print(c)\n",
    "sum(5,6)"
   ]
  },
  {
   "cell_type": "code",
   "execution_count": 30,
   "id": "fb4e0a3f-da66-4865-9dcd-32df686be8a8",
   "metadata": {},
   "outputs": [
    {
     "data": {
      "text/plain": [
       "11"
      ]
     },
     "execution_count": 30,
     "metadata": {},
     "output_type": "execute_result"
    }
   ],
   "source": [
    "def sum(a,b):\n",
    "    c = a+b\n",
    "    return c\n",
    "sum(5,6)"
   ]
  },
  {
   "cell_type": "code",
   "execution_count": 33,
   "id": "d01b752e-0bfe-4979-8277-4f546a44c701",
   "metadata": {},
   "outputs": [
    {
     "ename": "TypeError",
     "evalue": "sum() takes 2 positional arguments but 4 were given",
     "output_type": "error",
     "traceback": [
      "\u001b[31m---------------------------------------------------------------------------\u001b[39m",
      "\u001b[31mTypeError\u001b[39m                                 Traceback (most recent call last)",
      "\u001b[36mCell\u001b[39m\u001b[36m \u001b[39m\u001b[32mIn[33]\u001b[39m\u001b[32m, line 4\u001b[39m\n\u001b[32m      2\u001b[39m     c = a+b\n\u001b[32m      3\u001b[39m     \u001b[38;5;28;01mreturn\u001b[39;00m c\n\u001b[32m----> \u001b[39m\u001b[32m4\u001b[39m \u001b[38;5;28;43msum\u001b[39;49m\u001b[43m(\u001b[49m\u001b[32;43m5\u001b[39;49m\u001b[43m,\u001b[49m\u001b[32;43m6\u001b[39;49m\u001b[43m,\u001b[49m\u001b[32;43m7\u001b[39;49m\u001b[43m,\u001b[49m\u001b[32;43m8\u001b[39;49m\u001b[43m)\u001b[49m\n",
      "\u001b[31mTypeError\u001b[39m: sum() takes 2 positional arguments but 4 were given"
     ]
    }
   ],
   "source": [
    "def sum(a,b):\n",
    "    c = a+b\n",
    "    return c\n",
    "sum(5,6,7,8)"
   ]
  },
  {
   "cell_type": "code",
   "execution_count": 32,
   "id": "17c7f182-1ff4-4c5d-a92f-c46e1ebe55d1",
   "metadata": {},
   "outputs": [
    {
     "ename": "TypeError",
     "evalue": "unsupported operand type(s) for +: 'int' and 'tuple'",
     "output_type": "error",
     "traceback": [
      "\u001b[31m---------------------------------------------------------------------------\u001b[39m",
      "\u001b[31mTypeError\u001b[39m                                 Traceback (most recent call last)",
      "\u001b[36mCell\u001b[39m\u001b[36m \u001b[39m\u001b[32mIn[32]\u001b[39m\u001b[32m, line 4\u001b[39m\n\u001b[32m      2\u001b[39m     c = a+b\n\u001b[32m      3\u001b[39m     \u001b[38;5;28;01mreturn\u001b[39;00m c\n\u001b[32m----> \u001b[39m\u001b[32m4\u001b[39m \u001b[38;5;28;43msum\u001b[39;49m\u001b[43m(\u001b[49m\u001b[32;43m5\u001b[39;49m\u001b[43m,\u001b[49m\u001b[32;43m6\u001b[39;49m\u001b[43m,\u001b[49m\u001b[32;43m7\u001b[39;49m\u001b[43m,\u001b[49m\u001b[32;43m8\u001b[39;49m\u001b[43m)\u001b[49m\n",
      "\u001b[36mCell\u001b[39m\u001b[36m \u001b[39m\u001b[32mIn[32]\u001b[39m\u001b[32m, line 2\u001b[39m, in \u001b[36msum\u001b[39m\u001b[34m(a, *b)\u001b[39m\n\u001b[32m      1\u001b[39m \u001b[38;5;28;01mdef\u001b[39;00m\u001b[38;5;250m \u001b[39m\u001b[34msum\u001b[39m(a,*b):\n\u001b[32m----> \u001b[39m\u001b[32m2\u001b[39m     c = \u001b[43ma\u001b[49m\u001b[43m+\u001b[49m\u001b[43mb\u001b[49m\n\u001b[32m      3\u001b[39m     \u001b[38;5;28;01mreturn\u001b[39;00m c\n",
      "\u001b[31mTypeError\u001b[39m: unsupported operand type(s) for +: 'int' and 'tuple'"
     ]
    }
   ],
   "source": [
    "def sum(a,*b):\n",
    "    c = a+b\n",
    "    return c\n",
    "sum(5,6,7,8)"
   ]
  },
  {
   "cell_type": "code",
   "execution_count": 34,
   "id": "841e1b42-e868-4013-b858-833896c322a2",
   "metadata": {},
   "outputs": [
    {
     "name": "stdout",
     "output_type": "stream",
     "text": [
      "<class 'int'>\n",
      "<class 'tuple'>\n"
     ]
    }
   ],
   "source": [
    "def sum(a,*b):\n",
    "    print(type(a))\n",
    "    print(type(b))\n",
    "\n",
    "sum(5,5,6,7)"
   ]
  },
  {
   "cell_type": "code",
   "execution_count": 35,
   "id": "40da30f2-a927-43d7-ba00-7a78f65ac1ef",
   "metadata": {},
   "outputs": [
    {
     "name": "stdout",
     "output_type": "stream",
     "text": [
      "26\n"
     ]
    }
   ],
   "source": [
    "def sum(a,*b):\n",
    "    c = a\n",
    "    for i in b:\n",
    "        c = c+i\n",
    "    print(c)\n",
    "sum(5,6,7,8)"
   ]
  },
  {
   "cell_type": "code",
   "execution_count": 36,
   "id": "4b065778-6ef1-4e51-990d-4b197a365810",
   "metadata": {},
   "outputs": [
    {
     "name": "stdout",
     "output_type": "stream",
     "text": [
      "977\n"
     ]
    }
   ],
   "source": [
    "def sum(a,*b):\n",
    "    c = a\n",
    "    for i in b:\n",
    "        c = c+i\n",
    "    print(c)\n",
    "sum(5,6,7,8,300,56,3,4,532,56)"
   ]
  },
  {
   "cell_type": "code",
   "execution_count": 38,
   "id": "1d58c227-672f-4f78-95d5-b244d5dc9eef",
   "metadata": {},
   "outputs": [
    {
     "name": "stdout",
     "output_type": "stream",
     "text": [
      "977\n"
     ]
    }
   ],
   "source": [
    "def sum(a,*b):\n",
    "     \n",
    "    for i in b:\n",
    "        a = a+i\n",
    "    print(a)\n",
    "sum(5,6,7,8,300,56,3,4,532,56)"
   ]
  },
  {
   "cell_type": "markdown",
   "id": "f98eeb00-3f27-4d3c-8323-56404c43d58b",
   "metadata": {},
   "source": [
    "kwargs( keyword argument + variable lenght argument)"
   ]
  },
  {
   "cell_type": "code",
   "execution_count": 39,
   "id": "76742f73-04d6-4664-a6ac-29863b59fae2",
   "metadata": {},
   "outputs": [
    {
     "name": "stdout",
     "output_type": "stream",
     "text": [
      "977\n"
     ]
    }
   ],
   "source": [
    "def sum(a,*b):\n",
    "    a = 5\n",
    "     \n",
    "    for i in b:\n",
    "        a = a+i\n",
    "    print(a)\n",
    "sum(5,6,7,8,300,56,3,4,532,56)"
   ]
  },
  {
   "cell_type": "code",
   "execution_count": 40,
   "id": "f36c7d24-f0c0-4f29-97f1-da003c8d07f3",
   "metadata": {},
   "outputs": [
    {
     "ename": "TypeError",
     "evalue": "person() takes 0 positional arguments but 4 were given",
     "output_type": "error",
     "traceback": [
      "\u001b[31m---------------------------------------------------------------------------\u001b[39m",
      "\u001b[31mTypeError\u001b[39m                                 Traceback (most recent call last)",
      "\u001b[36mCell\u001b[39m\u001b[36m \u001b[39m\u001b[32mIn[40]\u001b[39m\u001b[32m, line 5\u001b[39m\n\u001b[32m      2\u001b[39m     \u001b[38;5;28mprint\u001b[39m(name)\n\u001b[32m      3\u001b[39m     \u001b[38;5;28mprint\u001b[39m(data)\n\u001b[32m----> \u001b[39m\u001b[32m5\u001b[39m \u001b[43mperson\u001b[49m\u001b[43m(\u001b[49m\u001b[33;43m'\u001b[39;49m\u001b[33;43mAlex\u001b[39;49m\u001b[33;43m'\u001b[39;49m\u001b[43m,\u001b[49m\u001b[43m \u001b[49m\u001b[32;43m36\u001b[39;49m\u001b[43m,\u001b[49m\u001b[43m \u001b[49m\u001b[33;43m'\u001b[39;49m\u001b[33;43mJohn\u001b[39;49m\u001b[33;43m'\u001b[39;49m\u001b[43m,\u001b[49m\u001b[32;43m98786\u001b[39;49m\u001b[43m)\u001b[49m\n",
      "\u001b[31mTypeError\u001b[39m: person() takes 0 positional arguments but 4 were given"
     ]
    }
   ],
   "source": [
    "def person():\n",
    "    print(name)\n",
    "    print(data)\n",
    "\n",
    "person('Alex', 36, 'John',98786)"
   ]
  },
  {
   "cell_type": "code",
   "execution_count": 41,
   "id": "1190a9c0-8234-447e-b391-912003d25d99",
   "metadata": {},
   "outputs": [
    {
     "name": "stdout",
     "output_type": "stream",
     "text": [
      "Alex\n",
      "(36, 'John', 98786)\n"
     ]
    }
   ],
   "source": [
    "def person(name,*data):\n",
    "    print(name)\n",
    "    print(data)\n",
    "\n",
    "person('Alex', 36, 'John',98786)"
   ]
  },
  {
   "cell_type": "code",
   "execution_count": 43,
   "id": "d1f48993-1599-45bc-b454-c7ad11b3ef71",
   "metadata": {},
   "outputs": [
    {
     "ename": "TypeError",
     "evalue": "person() got an unexpected keyword argument 'age'",
     "output_type": "error",
     "traceback": [
      "\u001b[31m---------------------------------------------------------------------------\u001b[39m",
      "\u001b[31mTypeError\u001b[39m                                 Traceback (most recent call last)",
      "\u001b[36mCell\u001b[39m\u001b[36m \u001b[39m\u001b[32mIn[43]\u001b[39m\u001b[32m, line 5\u001b[39m\n\u001b[32m      2\u001b[39m     \u001b[38;5;28mprint\u001b[39m(name)\n\u001b[32m      3\u001b[39m     \u001b[38;5;28mprint\u001b[39m(data)\n\u001b[32m----> \u001b[39m\u001b[32m5\u001b[39m \u001b[43mperson\u001b[49m\u001b[43m(\u001b[49m\u001b[33;43m'\u001b[39;49m\u001b[33;43mAlex\u001b[39;49m\u001b[33;43m'\u001b[39;49m\u001b[43m,\u001b[49m\u001b[43m \u001b[49m\u001b[43mage\u001b[49m\u001b[43m=\u001b[49m\u001b[32;43m36\u001b[39;49m\u001b[43m,\u001b[49m\u001b[43m \u001b[49m\u001b[43maddr\u001b[49m\u001b[43m=\u001b[49m\u001b[33;43m'\u001b[39;49m\u001b[33;43mJohn\u001b[39;49m\u001b[33;43m'\u001b[39;49m\u001b[43m,\u001b[49m\u001b[43mmob\u001b[49m\u001b[43m=\u001b[49m\u001b[32;43m98786\u001b[39;49m\u001b[43m)\u001b[49m\n",
      "\u001b[31mTypeError\u001b[39m: person() got an unexpected keyword argument 'age'"
     ]
    }
   ],
   "source": [
    "def person(name,*data):\n",
    "    print(name)\n",
    "    print(data)\n",
    "\n",
    "person('Alex', age=36, addr='John',mob=98786)"
   ]
  },
  {
   "cell_type": "code",
   "execution_count": 45,
   "id": "d6a76389-2467-42a2-8a6c-2686b562fc54",
   "metadata": {},
   "outputs": [
    {
     "ename": "TypeError",
     "evalue": "person() got an unexpected keyword argument 'age'",
     "output_type": "error",
     "traceback": [
      "\u001b[31m---------------------------------------------------------------------------\u001b[39m",
      "\u001b[31mTypeError\u001b[39m                                 Traceback (most recent call last)",
      "\u001b[36mCell\u001b[39m\u001b[36m \u001b[39m\u001b[32mIn[45]\u001b[39m\u001b[32m, line 5\u001b[39m\n\u001b[32m      2\u001b[39m     \u001b[38;5;28mprint\u001b[39m(name)\n\u001b[32m      3\u001b[39m     \u001b[38;5;28mprint\u001b[39m(data)\n\u001b[32m----> \u001b[39m\u001b[32m5\u001b[39m \u001b[43mperson\u001b[49m\u001b[43m(\u001b[49m\u001b[33;43m'\u001b[39;49m\u001b[33;43mmark\u001b[39;49m\u001b[33;43m'\u001b[39;49m\u001b[43m,\u001b[49m\u001b[43m \u001b[49m\u001b[43mage\u001b[49m\u001b[43m=\u001b[49m\u001b[32;43m36\u001b[39;49m\u001b[43m,\u001b[49m\u001b[43m \u001b[49m\u001b[43mhome_place\u001b[49m\u001b[43m=\u001b[49m\u001b[33;43m'\u001b[39;49m\u001b[33;43mhyd\u001b[39;49m\u001b[33;43m'\u001b[39;49m\u001b[43m,\u001b[49m\u001b[43mmob\u001b[49m\u001b[43m=\u001b[49m\u001b[32;43m98786\u001b[39;49m\u001b[43m)\u001b[49m\n",
      "\u001b[31mTypeError\u001b[39m: person() got an unexpected keyword argument 'age'"
     ]
    }
   ],
   "source": [
    "def person(name,*data):\n",
    "    print(name)\n",
    "    print(data)\n",
    "\n",
    "person('mark', age=36, home_place='hyd',mob=98786)"
   ]
  },
  {
   "cell_type": "code",
   "execution_count": 46,
   "id": "e45daeec-8ab4-4897-b48e-7a7c6fdae918",
   "metadata": {},
   "outputs": [
    {
     "name": "stdout",
     "output_type": "stream",
     "text": [
      "mark\n",
      "{'age': 36, 'home_place': 'hyd', 'mob': 98786}\n"
     ]
    }
   ],
   "source": [
    "def person(name,**data):\n",
    "    print(name)\n",
    "    print(data)\n",
    "\n",
    "person('mark', age=36, home_place='hyd',mob=98786)"
   ]
  },
  {
   "cell_type": "code",
   "execution_count": 47,
   "id": "dcf97e4d-c4b7-4dd2-ab95-8dd06109189f",
   "metadata": {},
   "outputs": [
    {
     "name": "stdout",
     "output_type": "stream",
     "text": [
      "mark\n",
      "{'age': 36, 'home_place': 'hyd', 'mob': 98786, 'degree': 'phd', 'bank': 'icici'}\n"
     ]
    }
   ],
   "source": [
    "def person(name,**data):\n",
    "    print(name)\n",
    "    print(data)\n",
    "\n",
    "person('mark', age=36, home_place='hyd',mob=98786,degree='phd', bank='icici')"
   ]
  },
  {
   "cell_type": "code",
   "execution_count": null,
   "id": "318d68d2-1fba-43f6-bc2c-c8bf9cd275d6",
   "metadata": {},
   "outputs": [],
   "source": []
  },
  {
   "cell_type": "code",
   "execution_count": null,
   "id": "2d899d85-23b3-4c65-8251-3e3c6fab7c84",
   "metadata": {},
   "outputs": [],
   "source": []
  }
 ],
 "metadata": {
  "kernelspec": {
   "display_name": "Python 3 (ipykernel)",
   "language": "python",
   "name": "python3"
  },
  "language_info": {
   "codemirror_mode": {
    "name": "ipython",
    "version": 3
   },
   "file_extension": ".py",
   "mimetype": "text/x-python",
   "name": "python",
   "nbconvert_exporter": "python",
   "pygments_lexer": "ipython3",
   "version": "3.13.5"
  }
 },
 "nbformat": 4,
 "nbformat_minor": 5
}
