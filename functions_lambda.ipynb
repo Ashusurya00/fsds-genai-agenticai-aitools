{
 "cells": [
  {
   "cell_type": "markdown",
   "id": "75d1a63f",
   "metadata": {},
   "source": [
    "Function without name is called - ANONYMOUS FUNCTION OR LAMBDA"
   ]
  },
  {
   "cell_type": "code",
   "execution_count": 1,
   "id": "64097511",
   "metadata": {},
   "outputs": [
    {
     "data": {
      "text/plain": [
       "25"
      ]
     },
     "execution_count": 1,
     "metadata": {},
     "output_type": "execute_result"
    }
   ],
   "source": [
    "def square(a):\n",
    "    return a * a\n",
    "\n",
    "square(5)"
   ]
  },
  {
   "cell_type": "code",
   "execution_count": 2,
   "id": "1e036c82",
   "metadata": {},
   "outputs": [
    {
     "name": "stdout",
     "output_type": "stream",
     "text": [
      "25\n"
     ]
    }
   ],
   "source": [
    "def square(a):\n",
    "    return a * a\n",
    "\n",
    "result = square(5)\n",
    "print(result)"
   ]
  },
  {
   "cell_type": "code",
   "execution_count": 3,
   "id": "e081abd4",
   "metadata": {},
   "outputs": [
    {
     "name": "stdout",
     "output_type": "stream",
     "text": [
      "25\n"
     ]
    }
   ],
   "source": [
    "f = lambda a : a * a\n",
    "result = f(5)\n",
    "print(result)"
   ]
  },
  {
   "cell_type": "code",
   "execution_count": 4,
   "id": "d56697f6",
   "metadata": {},
   "outputs": [
    {
     "name": "stdout",
     "output_type": "stream",
     "text": [
      "5\n",
      "-3\n"
     ]
    }
   ],
   "source": [
    "f = lambda a,b : a + b\n",
    "f2 = lambda a,b : a - b\n",
    "result = f(1,4)\n",
    "result1 = f2(1,4)\n",
    "\n",
    "print(result)\n",
    "print(result1)"
   ]
  },
  {
   "cell_type": "code",
   "execution_count": 6,
   "id": "c84f224d",
   "metadata": {},
   "outputs": [
    {
     "name": "stdout",
     "output_type": "stream",
     "text": [
      "5\n",
      "3\n",
      "4\n"
     ]
    }
   ],
   "source": [
    "f = lambda a,b : a + b\n",
    "f1 = lambda a,b : a - b\n",
    "f2 = lambda a,b : a * b\n",
    "\n",
    "result = f(1,4)\n",
    "result1 = f1(4,1)\n",
    "result2 = f2(1,4)\n",
    "\n",
    "print(result)\n",
    "print(result1)\n",
    "print(result2)"
   ]
  },
  {
   "cell_type": "code",
   "execution_count": 7,
   "id": "226a2a47",
   "metadata": {},
   "outputs": [
    {
     "name": "stdout",
     "output_type": "stream",
     "text": [
      "5\n",
      "-1\n"
     ]
    }
   ],
   "source": [
    "#lets define fucntion which will add 2 numbers\n",
    "# we are defining a function which doesnt have name\n",
    "# lambda expression or lambda function\n",
    "\n",
    "f = lambda a,b : a + b\n",
    "f1 = lambda a,b : a - b\n",
    "\n",
    "result = f(1,4)\n",
    "result1 = f1(2,3)\n",
    "\n",
    "print(result)\n",
    "print(result1)"
   ]
  },
  {
   "cell_type": "code",
   "execution_count": 8,
   "id": "19d7e53e",
   "metadata": {},
   "outputs": [
    {
     "data": {
      "text/plain": [
       "['False',\n",
       " 'None',\n",
       " 'True',\n",
       " 'and',\n",
       " 'as',\n",
       " 'assert',\n",
       " 'async',\n",
       " 'await',\n",
       " 'break',\n",
       " 'class',\n",
       " 'continue',\n",
       " 'def',\n",
       " 'del',\n",
       " 'elif',\n",
       " 'else',\n",
       " 'except',\n",
       " 'finally',\n",
       " 'for',\n",
       " 'from',\n",
       " 'global',\n",
       " 'if',\n",
       " 'import',\n",
       " 'in',\n",
       " 'is',\n",
       " 'lambda',\n",
       " 'nonlocal',\n",
       " 'not',\n",
       " 'or',\n",
       " 'pass',\n",
       " 'raise',\n",
       " 'return',\n",
       " 'try',\n",
       " 'while',\n",
       " 'with',\n",
       " 'yield']"
      ]
     },
     "execution_count": 8,
     "metadata": {},
     "output_type": "execute_result"
    }
   ],
   "source": [
    "import keyword\n",
    "keyword.kwlist"
   ]
  },
  {
   "cell_type": "markdown",
   "id": "bd7807d1",
   "metadata": {},
   "source": [
    "how can we use lambda in other function like - filter,map & reduce"
   ]
  },
  {
   "cell_type": "code",
   "execution_count": 9,
   "id": "3811cd30",
   "metadata": {},
   "outputs": [
    {
     "ename": "NameError",
     "evalue": "name 'is_even' is not defined",
     "output_type": "error",
     "traceback": [
      "\u001b[31m---------------------------------------------------------------------------\u001b[39m",
      "\u001b[31mNameError\u001b[39m                                 Traceback (most recent call last)",
      "\u001b[36mCell\u001b[39m\u001b[36m \u001b[39m\u001b[32mIn[9]\u001b[39m\u001b[32m, line 3\u001b[39m\n\u001b[32m      1\u001b[39m \u001b[38;5;66;03m#lets take one list & i want to find the list of even numbers \u001b[39;00m\n\u001b[32m      2\u001b[39m nums = [\u001b[32m3\u001b[39m,\u001b[32m2\u001b[39m,\u001b[32m6\u001b[39m,\u001b[32m8\u001b[39m,\u001b[32m4\u001b[39m,\u001b[32m6\u001b[39m,\u001b[32m2\u001b[39m,\u001b[32m9\u001b[39m]\n\u001b[32m----> \u001b[39m\u001b[32m3\u001b[39m evens = \u001b[38;5;28mlist\u001b[39m(\u001b[38;5;28mfilter\u001b[39m(\u001b[43mis_even\u001b[49m, nums))\n",
      "\u001b[31mNameError\u001b[39m: name 'is_even' is not defined"
     ]
    }
   ],
   "source": [
    "#lets take one list & i want to find the list of even numbers \n",
    "nums = [3,2,6,8,4,6,2,9]\n",
    "evens = list(filter(is_even, nums))"
   ]
  },
  {
   "cell_type": "code",
   "execution_count": 10,
   "id": "83942f55",
   "metadata": {},
   "outputs": [
    {
     "name": "stdout",
     "output_type": "stream",
     "text": [
      "[2, 6, 8, 4, 6, 2]\n"
     ]
    }
   ],
   "source": [
    "def is_even(n):\n",
    "    if n%2 == 0:\n",
    "        return True\n",
    "\n",
    "nums = [3,2,6,8,4,6,2,9]\n",
    "evens = list(filter(is_even, nums))\n",
    "print(evens)"
   ]
  },
  {
   "cell_type": "code",
   "execution_count": 12,
   "id": "e5609cfe",
   "metadata": {},
   "outputs": [
    {
     "name": "stdout",
     "output_type": "stream",
     "text": [
      "[3, 9]\n"
     ]
    }
   ],
   "source": [
    "def is_odd(n):\n",
    "    return n % 2 != 0\n",
    "\n",
    "nums = [3,2,6,8,4,6,2,9]\n",
    "\n",
    "odd = list(filter(is_odd, nums))\n",
    "print(odd)  "
   ]
  },
  {
   "cell_type": "code",
   "execution_count": 16,
   "id": "d26bf11d",
   "metadata": {},
   "outputs": [
    {
     "name": "stdout",
     "output_type": "stream",
     "text": [
      "[3, 9]\n"
     ]
    }
   ],
   "source": [
    "def is_odd(n):\n",
    "    return n% 2 != 0 \n",
    "nums = [3,2,6,8,4,6,2,9]\n",
    "odd = list(filter(is_odd, nums))\n",
    "print(odd)\n",
    "        "
   ]
  },
  {
   "cell_type": "code",
   "execution_count": 17,
   "id": "8f711634",
   "metadata": {},
   "outputs": [
    {
     "name": "stdout",
     "output_type": "stream",
     "text": [
      "[2, 6, 8, 4, 6, 2]\n"
     ]
    }
   ],
   "source": [
    "nums = [3,2,6,8,4,6,2,9]\n",
    "evens = list(filter(lambda n: n%2 == 0, nums))\n",
    "print(evens)"
   ]
  },
  {
   "cell_type": "code",
   "execution_count": 21,
   "id": "bfd3252a",
   "metadata": {},
   "outputs": [
    {
     "name": "stdout",
     "output_type": "stream",
     "text": [
      "[2, 6, 8, 4, 6, 2]\n",
      "[3, 9]\n"
     ]
    }
   ],
   "source": [
    "nums = [3,2,6,8,4,6,2,9]\n",
    "evens = list(filter(lambda n: n%2 == 0, nums))\n",
    "odds = list(filter(lambda n : n%2 != 0, nums))\n",
    "\n",
    "print(evens)\n",
    "print(odds)"
   ]
  },
  {
   "cell_type": "code",
   "execution_count": 22,
   "id": "779de577",
   "metadata": {},
   "outputs": [
    {
     "name": "stdout",
     "output_type": "stream",
     "text": [
      "[2, 6, 8, 4, 2]\n",
      "[4, 8, 10, 6, 4]\n"
     ]
    }
   ],
   "source": [
    "def update(n):\n",
    "    return n+2\n",
    "nums = [3,2,6,8,4,2,9]\n",
    "\n",
    "evens = list(filter(is_even, nums))\n",
    "double = list(map(update, evens))\n",
    "\n",
    "print(evens)\n",
    "print(double)"
   ]
  },
  {
   "cell_type": "code",
   "execution_count": 24,
   "id": "c3ea4fa6",
   "metadata": {},
   "outputs": [
    {
     "name": "stdout",
     "output_type": "stream",
     "text": [
      "[2, 6, 8, 4, 2]\n",
      "[3, 2, 6, 8, 4, 2, 9]\n"
     ]
    }
   ],
   "source": [
    "nums = [3,2,6,8,4,2,9]\n",
    "\n",
    "evens = list(filter(is_even, nums))\n",
    "double = list(filter(lambda n: n*2, nums))\n",
    "\n",
    "print(evens)\n",
    "print(double)"
   ]
  },
  {
   "cell_type": "code",
   "execution_count": 25,
   "id": "81852066",
   "metadata": {},
   "outputs": [
    {
     "name": "stdout",
     "output_type": "stream",
     "text": [
      "[2, 6, 8, 4, 2]\n",
      "[6, 4, 12, 16, 8, 4, 18]\n"
     ]
    }
   ],
   "source": [
    "nums = [3,2,6,8,4,2,9]\n",
    "evens = list(filter(is_even, nums))\n",
    "double = list(map(lambda n : n*2, nums))\n",
    "\n",
    "print(evens)\n",
    "print(double)"
   ]
  },
  {
   "cell_type": "code",
   "execution_count": 27,
   "id": "e82d9092",
   "metadata": {},
   "outputs": [
    {
     "name": "stdout",
     "output_type": "stream",
     "text": [
      "[2, 6, 8, 4, 2]\n",
      "[4, 12, 16, 8, 4]\n",
      "[4, 8, 10, 6, 4]\n",
      "[0, 4, 6, 2, 0]\n"
     ]
    }
   ],
   "source": [
    "nums = [3,2,6,8,4,2,9]\n",
    "\n",
    "evens = list(filter(is_even, nums))\n",
    "\n",
    "double = list(map(lambda n: n*2, evens))\n",
    "double_ = list(map(lambda n : n+2, evens))\n",
    "double_1 = list(map(lambda n : n-2, evens))\n",
    "print(evens)\n",
    "print(double)\n",
    "print(double_)\n",
    "print(double_1)"
   ]
  },
  {
   "cell_type": "code",
   "execution_count": 28,
   "id": "0b18f21b",
   "metadata": {},
   "outputs": [
    {
     "name": "stdout",
     "output_type": "stream",
     "text": [
      "[4, 12, 16, 8, 4]\n",
      "[0, 4, 6, 2, 0]\n"
     ]
    }
   ],
   "source": [
    "nums = [3,2,6,8,4,2,9]\n",
    "\n",
    "evens = list(filter(is_even, nums))\n",
    "\n",
    "double = list(map(lambda n : n * 2, evens))\n",
    "double_ = list(map(lambda n : n-2, evens))\n",
    "\n",
    "print(double)\n",
    "print(double_)"
   ]
  },
  {
   "cell_type": "markdown",
   "id": "91d48882",
   "metadata": {},
   "source": [
    "reduce "
   ]
  },
  {
   "cell_type": "code",
   "execution_count": 29,
   "id": "66a037b7",
   "metadata": {},
   "outputs": [
    {
     "name": "stdout",
     "output_type": "stream",
     "text": [
      "44\n"
     ]
    }
   ],
   "source": [
    "from functools import reduce\n",
    "\n",
    "def add_all(a,b):\n",
    "    return a+b\n",
    "nums = [3,2,6,8,4,2,9]\n",
    "\n",
    "evens = list(filter(is_even, nums))\n",
    "double = list(map(lambda n : n*2 , evens))\n",
    "\n",
    "sums = reduce(add_all, double)\n",
    "sums\n",
    "print(sums)"
   ]
  },
  {
   "cell_type": "code",
   "execution_count": 30,
   "id": "18cf121b",
   "metadata": {},
   "outputs": [
    {
     "name": "stdout",
     "output_type": "stream",
     "text": [
      "<class 'list'>\n"
     ]
    }
   ],
   "source": [
    "a = [7,8]\n",
    "print(type(a))"
   ]
  },
  {
   "cell_type": "code",
   "execution_count": 31,
   "id": "90d2610e",
   "metadata": {},
   "outputs": [
    {
     "name": "stdout",
     "output_type": "stream",
     "text": [
      "[2, 6, 8, 4, 2]\n",
      "[4, 12, 16, 8, 4]\n",
      "44\n"
     ]
    }
   ],
   "source": [
    "from functools import reduce\n",
    "\n",
    "nums = [3,2,6,8,4,2,9]\n",
    "\n",
    "evens = list(filter(is_even, nums))\n",
    "double = list(map(lambda n: n*2, evens))\n",
    "sums = (reduce(lambda a,b : a + b, double))\n",
    "\n",
    "print(evens)\n",
    "print(double)\n",
    "print(sums)"
   ]
  },
  {
   "cell_type": "code",
   "execution_count": 35,
   "id": "22237862",
   "metadata": {},
   "outputs": [
    {
     "name": "stdout",
     "output_type": "stream",
     "text": [
      "[2, 6, 8, 4, 2]\n",
      "[4, 12, 16, 8, 4]\n",
      "44\n"
     ]
    }
   ],
   "source": [
    "from functools import reduce\n",
    "\n",
    "nums = [3,2,6,8,4,2,9]\n",
    "\n",
    "evens = list(filter(is_even, nums))\n",
    "double = list(map(lambda n : n*2, evens))\n",
    "sums = reduce(lambda a,b : a+b, double)\n",
    "\n",
    "print(evens)\n",
    "print(double)\n",
    "print(sums)"
   ]
  },
  {
   "cell_type": "code",
   "execution_count": 38,
   "id": "77bc6408",
   "metadata": {},
   "outputs": [
    {
     "name": "stdout",
     "output_type": "stream",
     "text": [
      "[2, 6, 8, 4, 2]\n",
      "[2, 6, 8, 4, 2]\n",
      "22\n"
     ]
    }
   ],
   "source": [
    "from functools import reduce\n",
    "def add_all(a,b):\n",
    "    return a+b\n",
    "\n",
    "evens = list(filter(is_even, nums))\n",
    "double = list(filter(lambda n : n*2 , evens))\n",
    "\n",
    "\n",
    "sums = reduce(add_all,double)\n",
    "print(evens)\n",
    "print(double)\n",
    "print(sums)"
   ]
  },
  {
   "cell_type": "code",
   "execution_count": null,
   "id": "fbfc8657",
   "metadata": {},
   "outputs": [],
   "source": []
  },
  {
   "cell_type": "markdown",
   "id": "710be0f7",
   "metadata": {},
   "source": [
    "Python decorators"
   ]
  },
  {
   "cell_type": "code",
   "execution_count": 39,
   "id": "96d0b204",
   "metadata": {},
   "outputs": [
    {
     "name": "stdout",
     "output_type": "stream",
     "text": [
      "2.0\n"
     ]
    }
   ],
   "source": [
    "def div(a,b):\n",
    "    print(a / b)\n",
    "div(4,2)"
   ]
  },
  {
   "cell_type": "code",
   "execution_count": 40,
   "id": "b8ae75c4",
   "metadata": {},
   "outputs": [
    {
     "name": "stdout",
     "output_type": "stream",
     "text": [
      "0.5\n"
     ]
    }
   ],
   "source": [
    "def div(a,b):\n",
    "    print(a/b)\n",
    "\n",
    "div(2,4)"
   ]
  },
  {
   "cell_type": "code",
   "execution_count": 41,
   "id": "2cc09214",
   "metadata": {},
   "outputs": [
    {
     "name": "stdout",
     "output_type": "stream",
     "text": [
      "2.0\n"
     ]
    }
   ],
   "source": [
    "def div(a,b):\n",
    "    if a<b:\n",
    "        a,b = b,a\n",
    "    print(a / b)\n",
    "\n",
    "div(2,4)"
   ]
  },
  {
   "cell_type": "code",
   "execution_count": 42,
   "id": "59a23bac",
   "metadata": {},
   "outputs": [
    {
     "name": "stdout",
     "output_type": "stream",
     "text": [
      "2.0\n"
     ]
    }
   ],
   "source": [
    "def div(a,b):\n",
    "    if a<b :\n",
    "        a,b = b,a\n",
    "    print(a/b)\n",
    "\n",
    "div(2,4)"
   ]
  },
  {
   "cell_type": "code",
   "execution_count": null,
   "id": "78b52e32",
   "metadata": {},
   "outputs": [],
   "source": []
  },
  {
   "cell_type": "code",
   "execution_count": null,
   "id": "bbb4f8c0",
   "metadata": {},
   "outputs": [],
   "source": []
  }
 ],
 "metadata": {
  "kernelspec": {
   "display_name": "base",
   "language": "python",
   "name": "python3"
  },
  "language_info": {
   "codemirror_mode": {
    "name": "ipython",
    "version": 3
   },
   "file_extension": ".py",
   "mimetype": "text/x-python",
   "name": "python",
   "nbconvert_exporter": "python",
   "pygments_lexer": "ipython3",
   "version": "3.13.5"
  }
 },
 "nbformat": 4,
 "nbformat_minor": 5
}
