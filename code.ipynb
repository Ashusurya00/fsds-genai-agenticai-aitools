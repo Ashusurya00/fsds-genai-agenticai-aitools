{
 "cells": [
  {
   "cell_type": "markdown",
   "id": "857993c0",
   "metadata": {},
   "source": []
  },
  {
   "cell_type": "markdown",
   "id": "c15343a7",
   "metadata": {},
   "source": []
  },
  {
   "cell_type": "code",
   "execution_count": 1,
   "id": "7f17d774",
   "metadata": {},
   "outputs": [
    {
     "name": "stdout",
     "output_type": "stream",
     "text": [
      "hi\n"
     ]
    }
   ],
   "source": [
    "print('hi')"
   ]
  },
  {
   "cell_type": "code",
   "execution_count": 2,
   "id": "1b9822ec",
   "metadata": {},
   "outputs": [],
   "source": [
    "import pandas as pd\n",
    "import numpy as np\n",
    "import matplotlib.pyplot as plt\n",
    "import seaborn as sns\n",
    "import scipy.stats as stats\n"
   ]
  },
  {
   "cell_type": "code",
   "execution_count": 3,
   "id": "13186877",
   "metadata": {},
   "outputs": [
    {
     "name": "stdout",
     "output_type": "stream",
     "text": [
      "Sales Data:\n",
      "    product_id product_name    category  unit_sold sales_data\n",
      "0            1     Product1        Home         25 2023-01-01\n",
      "1            2     Product2      Sprots         15 2023-01-02\n",
      "2            3     Product3  Electronic         17 2023-01-03\n",
      "3            4     Product4        Home         19 2023-01-04\n",
      "4            5     Product5        Home         21 2023-01-05\n",
      "5            6     Product6      Sprots         17 2023-01-06\n",
      "6            7     Product7  Electronic         19 2023-01-07\n",
      "7            8     Product8  Electronic         16 2023-01-08\n",
      "8            9     Product9        Home         21 2023-01-09\n",
      "9           10    Product10    Clothing         21 2023-01-10\n",
      "10          11    Product11        Home         17 2023-01-11\n",
      "11          12    Product12        Home         22 2023-01-12\n",
      "12          13    Product13        Home         14 2023-01-13\n",
      "13          14    Product14        Home         17 2023-01-14\n",
      "14          15    Product15      Sprots         17 2023-01-15\n",
      "15          16    Product16  Electronic         21 2023-01-16\n",
      "16          17    Product17      Sprots         21 2023-01-17\n",
      "17          18    Product18      Sprots         13 2023-01-18\n",
      "18          19    Product19      Sprots         18 2023-01-19\n",
      "19          20    Product20        Home         25 2023-01-20\n"
     ]
    }
   ],
   "source": [
    "np.random.seed(42) #radnom number wont be generate\n",
    "\n",
    "data = {\n",
    "    'product_id' : range(1,21),\n",
    "    'product_name':[f'Product{i}' for i in range(1,21)],\n",
    "    'category' : np.random.choice(['Electronic','Clothing','Home','Sprots'],20),\n",
    "    'unit_sold': np.random.poisson(lam=20, size=20),\n",
    "    'sales_data': pd.date_range(start = '2023-01-01', periods=20, freq='D')\n",
    "\n",
    "}\n",
    "sales_data = pd.DataFrame(data)\n",
    "\n",
    "print('Sales Data:')\n",
    "print(sales_data)"
   ]
  },
  {
   "cell_type": "code",
   "execution_count": 4,
   "id": "6888ae86",
   "metadata": {},
   "outputs": [],
   "source": [
    "#save the dataframe to csv file\n",
    "\n",
    "sales_data.to_csv('sales_data.csv', index=False)"
   ]
  },
  {
   "cell_type": "code",
   "execution_count": 5,
   "id": "b965de28",
   "metadata": {},
   "outputs": [
    {
     "data": {
      "text/plain": [
       "'c:\\\\Users\\\\aashutosh\\\\OneDrive\\\\Desktop\\\\pythonlib practices\\\\oops\\\\eda_llm_integration\\\\statistics'"
      ]
     },
     "execution_count": 5,
     "metadata": {},
     "output_type": "execute_result"
    }
   ],
   "source": [
    "import os\n",
    "os.getcwd()"
   ]
  },
  {
   "cell_type": "code",
   "execution_count": 6,
   "id": "e28ccb23",
   "metadata": {},
   "outputs": [
    {
     "name": "stdout",
     "output_type": "stream",
     "text": [
      "\n",
      "Descriptive statistic for units sold:\n",
      "count    20.000000\n",
      "mean     18.800000\n",
      "std       3.302312\n",
      "min      13.000000\n",
      "25%      17.000000\n",
      "50%      18.500000\n",
      "75%      21.000000\n",
      "max      25.000000\n",
      "Name: unit_sold, dtype: float64\n",
      "\n",
      " Statistical analysis:\n",
      "Mean units sold: 18.8\n",
      "Median units sold: 18.5\n",
      "Mode units sold: 17\n",
      "variance units sold: 10.90526315789474\n",
      "standard deviation units sold: 3.3023117899275864\n",
      "\n",
      "category statistics\n",
      "category_stats\n"
     ]
    }
   ],
   "source": [
    "descriptive_stats = sales_data['unit_sold'].describe()\n",
    "\n",
    "print('\\nDescriptive statistic for units sold:')\n",
    "print(descriptive_stats)\n",
    "\n",
    "mean_sales = sales_data['unit_sold'].mean()\n",
    "median_sales = sales_data['unit_sold'].median()\n",
    "mode_sales = sales_data['unit_sold'].mode()[0]\n",
    "variance_sales = sales_data['unit_sold'].var()\n",
    "std_deviation_sales = sales_data['unit_sold'].std()\n",
    "category_stats = sales_data.groupby('category')['unit_sold'].agg(['sum','mean','std']).reset_index()\n",
    "\n",
    "print('\\n Statistical analysis:')\n",
    "print(f'Mean units sold: {mean_sales}')\n",
    "print(f'Median units sold: {median_sales}')\n",
    "print(f'Mode units sold: {mode_sales}')\n",
    "print(f'variance units sold: {variance_sales}')\n",
    "print(f'standard deviation units sold: {std_deviation_sales}')\n",
    "print('\\ncategory statistics')\n",
    "print('category_stats')\n",
    "\n",
    "\n"
   ]
  },
  {
   "cell_type": "code",
   "execution_count": 7,
   "id": "47b98163",
   "metadata": {},
   "outputs": [
    {
     "name": "stdout",
     "output_type": "stream",
     "text": [
      "\n",
      " confidence interval for mean of units sold\n",
      "(np.float64(17.254470507823573), np.float64(20.34552949217643))\n"
     ]
    }
   ],
   "source": [
    "confidence_level = 0.95\n",
    "\n",
    "degrees_freedom = len(sales_data['unit_sold']) - 1\n",
    "sample_mean = mean_sales\n",
    "sample_standard_error = std_deviation_sales / np.sqrt(len(sales_data['unit_sold']))\n",
    "\n",
    "t_score = stats.t.ppf((1 + confidence_level)/2,degrees_freedom)\n",
    "margin_of_error = t_score * sample_standard_error\n",
    "\n",
    "confidence_interval = (sample_mean - margin_of_error, sample_mean + margin_of_error)\n",
    "print('\\n confidence interval for mean of units sold')\n",
    "print(confidence_interval)"
   ]
  },
  {
   "cell_type": "code",
   "execution_count": 8,
   "id": "f7e0209b",
   "metadata": {},
   "outputs": [
    {
     "name": "stdout",
     "output_type": "stream",
     "text": [
      "\n",
      " Hypothesis testing (t-test):\n",
      "t-statistic: -1.6250928099424466, p-value: 0.12061572226781002\n",
      "reject the null hypothesis: the mean units sold is different from 20\n"
     ]
    }
   ],
   "source": [
    "t_statistic, p_value = stats.ttest_1samp(sales_data['unit_sold'],20)\n",
    "\n",
    "print('\\n Hypothesis testing (t-test):')\n",
    "print(f't-statistic: {t_statistic}, p-value: {p_value}')\n",
    "\n",
    "if p_value < 0.5:\n",
    "    print('reject the null hypothesis: the mean units sold is different from 20')\n",
    "\n",
    "else:\n",
    "    print('fail to reject the null hypothesis: the mean units sold is not different from 20')\n",
    "    "
   ]
  },
  {
   "cell_type": "code",
   "execution_count": 12,
   "id": "25f25054",
   "metadata": {},
   "outputs": [
    {
     "data": {
      "text/html": [
       "<div>\n",
       "<style scoped>\n",
       "    .dataframe tbody tr th:only-of-type {\n",
       "        vertical-align: middle;\n",
       "    }\n",
       "\n",
       "    .dataframe tbody tr th {\n",
       "        vertical-align: top;\n",
       "    }\n",
       "\n",
       "    .dataframe thead th {\n",
       "        text-align: right;\n",
       "    }\n",
       "</style>\n",
       "<table border=\"1\" class=\"dataframe\">\n",
       "  <thead>\n",
       "    <tr style=\"text-align: right;\">\n",
       "      <th></th>\n",
       "      <th>product_id</th>\n",
       "      <th>product_name</th>\n",
       "      <th>category</th>\n",
       "      <th>unit_sold</th>\n",
       "      <th>sales_data</th>\n",
       "    </tr>\n",
       "  </thead>\n",
       "  <tbody>\n",
       "    <tr>\n",
       "      <th>0</th>\n",
       "      <td>1</td>\n",
       "      <td>Product1</td>\n",
       "      <td>Home</td>\n",
       "      <td>25</td>\n",
       "      <td>2023-01-01</td>\n",
       "    </tr>\n",
       "    <tr>\n",
       "      <th>1</th>\n",
       "      <td>2</td>\n",
       "      <td>Product2</td>\n",
       "      <td>Sprots</td>\n",
       "      <td>15</td>\n",
       "      <td>2023-01-02</td>\n",
       "    </tr>\n",
       "    <tr>\n",
       "      <th>2</th>\n",
       "      <td>3</td>\n",
       "      <td>Product3</td>\n",
       "      <td>Electronic</td>\n",
       "      <td>17</td>\n",
       "      <td>2023-01-03</td>\n",
       "    </tr>\n",
       "    <tr>\n",
       "      <th>3</th>\n",
       "      <td>4</td>\n",
       "      <td>Product4</td>\n",
       "      <td>Home</td>\n",
       "      <td>19</td>\n",
       "      <td>2023-01-04</td>\n",
       "    </tr>\n",
       "    <tr>\n",
       "      <th>4</th>\n",
       "      <td>5</td>\n",
       "      <td>Product5</td>\n",
       "      <td>Home</td>\n",
       "      <td>21</td>\n",
       "      <td>2023-01-05</td>\n",
       "    </tr>\n",
       "    <tr>\n",
       "      <th>5</th>\n",
       "      <td>6</td>\n",
       "      <td>Product6</td>\n",
       "      <td>Sprots</td>\n",
       "      <td>17</td>\n",
       "      <td>2023-01-06</td>\n",
       "    </tr>\n",
       "    <tr>\n",
       "      <th>6</th>\n",
       "      <td>7</td>\n",
       "      <td>Product7</td>\n",
       "      <td>Electronic</td>\n",
       "      <td>19</td>\n",
       "      <td>2023-01-07</td>\n",
       "    </tr>\n",
       "    <tr>\n",
       "      <th>7</th>\n",
       "      <td>8</td>\n",
       "      <td>Product8</td>\n",
       "      <td>Electronic</td>\n",
       "      <td>16</td>\n",
       "      <td>2023-01-08</td>\n",
       "    </tr>\n",
       "    <tr>\n",
       "      <th>8</th>\n",
       "      <td>9</td>\n",
       "      <td>Product9</td>\n",
       "      <td>Home</td>\n",
       "      <td>21</td>\n",
       "      <td>2023-01-09</td>\n",
       "    </tr>\n",
       "    <tr>\n",
       "      <th>9</th>\n",
       "      <td>10</td>\n",
       "      <td>Product10</td>\n",
       "      <td>Clothing</td>\n",
       "      <td>21</td>\n",
       "      <td>2023-01-10</td>\n",
       "    </tr>\n",
       "    <tr>\n",
       "      <th>10</th>\n",
       "      <td>11</td>\n",
       "      <td>Product11</td>\n",
       "      <td>Home</td>\n",
       "      <td>17</td>\n",
       "      <td>2023-01-11</td>\n",
       "    </tr>\n",
       "    <tr>\n",
       "      <th>11</th>\n",
       "      <td>12</td>\n",
       "      <td>Product12</td>\n",
       "      <td>Home</td>\n",
       "      <td>22</td>\n",
       "      <td>2023-01-12</td>\n",
       "    </tr>\n",
       "    <tr>\n",
       "      <th>12</th>\n",
       "      <td>13</td>\n",
       "      <td>Product13</td>\n",
       "      <td>Home</td>\n",
       "      <td>14</td>\n",
       "      <td>2023-01-13</td>\n",
       "    </tr>\n",
       "    <tr>\n",
       "      <th>13</th>\n",
       "      <td>14</td>\n",
       "      <td>Product14</td>\n",
       "      <td>Home</td>\n",
       "      <td>17</td>\n",
       "      <td>2023-01-14</td>\n",
       "    </tr>\n",
       "    <tr>\n",
       "      <th>14</th>\n",
       "      <td>15</td>\n",
       "      <td>Product15</td>\n",
       "      <td>Sprots</td>\n",
       "      <td>17</td>\n",
       "      <td>2023-01-15</td>\n",
       "    </tr>\n",
       "    <tr>\n",
       "      <th>15</th>\n",
       "      <td>16</td>\n",
       "      <td>Product16</td>\n",
       "      <td>Electronic</td>\n",
       "      <td>21</td>\n",
       "      <td>2023-01-16</td>\n",
       "    </tr>\n",
       "    <tr>\n",
       "      <th>16</th>\n",
       "      <td>17</td>\n",
       "      <td>Product17</td>\n",
       "      <td>Sprots</td>\n",
       "      <td>21</td>\n",
       "      <td>2023-01-17</td>\n",
       "    </tr>\n",
       "    <tr>\n",
       "      <th>17</th>\n",
       "      <td>18</td>\n",
       "      <td>Product18</td>\n",
       "      <td>Sprots</td>\n",
       "      <td>13</td>\n",
       "      <td>2023-01-18</td>\n",
       "    </tr>\n",
       "    <tr>\n",
       "      <th>18</th>\n",
       "      <td>19</td>\n",
       "      <td>Product19</td>\n",
       "      <td>Sprots</td>\n",
       "      <td>18</td>\n",
       "      <td>2023-01-19</td>\n",
       "    </tr>\n",
       "    <tr>\n",
       "      <th>19</th>\n",
       "      <td>20</td>\n",
       "      <td>Product20</td>\n",
       "      <td>Home</td>\n",
       "      <td>25</td>\n",
       "      <td>2023-01-20</td>\n",
       "    </tr>\n",
       "  </tbody>\n",
       "</table>\n",
       "</div>"
      ],
      "text/plain": [
       "    product_id product_name    category  unit_sold sales_data\n",
       "0            1     Product1        Home         25 2023-01-01\n",
       "1            2     Product2      Sprots         15 2023-01-02\n",
       "2            3     Product3  Electronic         17 2023-01-03\n",
       "3            4     Product4        Home         19 2023-01-04\n",
       "4            5     Product5        Home         21 2023-01-05\n",
       "5            6     Product6      Sprots         17 2023-01-06\n",
       "6            7     Product7  Electronic         19 2023-01-07\n",
       "7            8     Product8  Electronic         16 2023-01-08\n",
       "8            9     Product9        Home         21 2023-01-09\n",
       "9           10    Product10    Clothing         21 2023-01-10\n",
       "10          11    Product11        Home         17 2023-01-11\n",
       "11          12    Product12        Home         22 2023-01-12\n",
       "12          13    Product13        Home         14 2023-01-13\n",
       "13          14    Product14        Home         17 2023-01-14\n",
       "14          15    Product15      Sprots         17 2023-01-15\n",
       "15          16    Product16  Electronic         21 2023-01-16\n",
       "16          17    Product17      Sprots         21 2023-01-17\n",
       "17          18    Product18      Sprots         13 2023-01-18\n",
       "18          19    Product19      Sprots         18 2023-01-19\n",
       "19          20    Product20        Home         25 2023-01-20"
      ]
     },
     "execution_count": 12,
     "metadata": {},
     "output_type": "execute_result"
    }
   ],
   "source": [
    "sales_data"
   ]
  },
  {
   "cell_type": "code",
   "execution_count": 14,
   "id": "59bfe1a7",
   "metadata": {},
   "outputs": [
    {
     "data": {
      "image/png": "[encoded data removed]",
      "text/plain": [
       "<Figure size 1000x600 with 1 Axes>"
      ]
     },
     "metadata": {},
     "output_type": "display_data"
    },
    {
     "data": {
      "image/png": "[encoded data removed]",
      "text/plain": [
       "<Figure size 1000x600 with 1 Axes>"
      ]
     },
     "metadata": {},
     "output_type": "display_data"
    },
    {
     "data": {
      "image/png": "[encoded data removed]",
      "text/plain": [
       "<Figure size 1000x600 with 1 Axes>"
      ]
     },
     "metadata": {},
     "output_type": "display_data"
    }
   ],
   "source": [
    "sns.set(style='whitegrid')\n",
    "\n",
    "plt.figure(figsize=(10,6))\n",
    "sns.histplot(sales_data['unit_sold'], bins=10,kde=True)\n",
    "plt.title('distribution of units sold')\n",
    "plt.xlabel('units sold')\n",
    "plt.ylabel('frequency')\n",
    "plt.axvline(mean_sales, color='red', linestyle = '--', label ='mean')\n",
    "plt.axvline(median_sales, color='blue', linestyle = '--', label ='median')\n",
    "plt.axvline(mode_sales, color='green', linestyle = '--', label ='mode')\n",
    "plt.legend()\n",
    "plt.show()\n",
    "\n",
    "plt.figure(figsize=(10,6))\n",
    "sns.boxplot(x='category', y='unit_sold', data=sales_data)\n",
    "plt.title('boxplot of units sold by category')\n",
    "plt.xlabel('category')\n",
    "plt.ylabel('units sold')\n",
    "plt.show()\n",
    "\n",
    "plt.figure(figsize=(10,6))\n",
    "sns.barplot(x='category',y='unit_sold', data = sales_data)\n",
    "plt.title('total units sold by category')\n",
    "plt.xlabel('category')\n",
    "plt.ylabel('total unit sold')\n",
    "plt.show()\n",
    "\n",
    "\n"
   ]
  },
  {
   "cell_type": "code",
   "execution_count": null,
   "id": "b90dd91a",
   "metadata": {},
   "outputs": [],
   "source": []
  },
  {
   "cell_type": "code",
   "execution_count": null,
   "id": "2d836afd",
   "metadata": {},
   "outputs": [],
   "source": []
  },
  {
   "cell_type": "code",
   "execution_count": null,
   "id": "97f0d991",
   "metadata": {},
   "outputs": [],
   "source": []
  }
 ],
 "metadata": {
  "kernelspec": {
   "display_name": "base",
   "language": "python",
   "name": "python3"
  },
  "language_info": {
   "codemirror_mode": {
    "name": "ipython",
    "version": 3
   },
   "file_extension": ".py",
   "mimetype": "text/x-python",
   "name": "python",
   "nbconvert_exporter": "python",
   "pygments_lexer": "ipython3",
   "version": "3.13.5"
  }
 },
 "nbformat": 4,
 "nbformat_minor": 5
}
