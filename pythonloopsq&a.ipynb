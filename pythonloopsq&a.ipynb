{
 "cells": [
  {
   "cell_type": "code",
   "execution_count": 1,
   "id": "4331d44b-8fc5-45d5-9b0b-04eba25115e4",
   "metadata": {},
   "outputs": [
    {
     "name": "stdout",
     "output_type": "stream",
     "text": [
      "1\n",
      "2\n",
      "3\n",
      "4\n",
      "5\n",
      "6\n",
      "7\n",
      "8\n",
      "9\n",
      "10\n"
     ]
    }
   ],
   "source": [
    "for num in range(1,11):\n",
    "    print(num)"
   ]
  },
  {
   "cell_type": "code",
   "execution_count": 2,
   "id": "b706fdab-5048-4b99-97f7-2c2f224d859d",
   "metadata": {},
   "outputs": [
    {
     "name": "stdout",
     "output_type": "stream",
     "text": [
      "55\n"
     ]
    }
   ],
   "source": [
    "sum_numbers = 0\n",
    "for num in range(1,11):\n",
    "    sum_numbers += num\n",
    "print(sum_numbers)"
   ]
  },
  {
   "cell_type": "code",
   "execution_count": 3,
   "id": "f8fb2e09-3b2d-4d44-a787-d3b43a9272f2",
   "metadata": {},
   "outputs": [
    {
     "name": "stdout",
     "output_type": "stream",
     "text": [
      "120\n"
     ]
    }
   ],
   "source": [
    "my_list = [2,3,4,5]\n",
    "product = 1\n",
    "for num in my_list:\n",
    "    product *= num\n",
    "print(product)"
   ]
  },
  {
   "cell_type": "code",
   "execution_count": 4,
   "id": "4dc3663e-95ba-4298-9708-c53c0add906b",
   "metadata": {},
   "outputs": [
    {
     "name": "stdout",
     "output_type": "stream",
     "text": [
      "2\n",
      "4\n",
      "6\n",
      "8\n",
      "10\n"
     ]
    }
   ],
   "source": [
    "for num in range(2,11,2):\n",
    "    print(num)"
   ]
  },
  {
   "cell_type": "code",
   "execution_count": 5,
   "id": "b8546930-ee2f-415e-a061-da752ce11c27",
   "metadata": {},
   "outputs": [
    {
     "name": "stdout",
     "output_type": "stream",
     "text": [
      "10\n",
      "9\n",
      "8\n",
      "7\n",
      "6\n",
      "5\n",
      "4\n",
      "3\n",
      "2\n",
      "1\n"
     ]
    }
   ],
   "source": [
    "for num in range(10, 0, -1):\n",
    "    print(num)"
   ]
  },
  {
   "cell_type": "code",
   "execution_count": 6,
   "id": "ff79de21-70f8-4724-a8be-6b55d8a762fe",
   "metadata": {},
   "outputs": [
    {
     "name": "stdout",
     "output_type": "stream",
     "text": [
      "h\n",
      "e\n",
      "l\n",
      "l\n",
      "o\n"
     ]
    }
   ],
   "source": [
    "my_string = 'hello'\n",
    "for char in my_string:\n",
    "    print(char)"
   ]
  },
  {
   "cell_type": "code",
   "execution_count": 7,
   "id": "9644f50f-733f-4e16-a8b5-a57acd731aab",
   "metadata": {},
   "outputs": [
    {
     "name": "stdout",
     "output_type": "stream",
     "text": [
      "9\n"
     ]
    }
   ],
   "source": [
    "my_list = [3,9,1,6,2,8]\n",
    "largest = my_list[0]\n",
    "for num in my_list:\n",
    "    if num > largest:\n",
    "        largest = num\n",
    "print(largest)"
   ]
  },
  {
   "cell_type": "code",
   "execution_count": 8,
   "id": "c63f6c18-d07f-4be5-bf31-51b751c78b93",
   "metadata": {},
   "outputs": [
    {
     "name": "stdout",
     "output_type": "stream",
     "text": [
      "5.4\n"
     ]
    }
   ],
   "source": [
    "my_list = [4,7,9,2,5]\n",
    "total = 0\n",
    "for num in my_list:\n",
    "    total += num\n",
    "average = total/len(my_list)\n",
    "print(average)"
   ]
  },
  {
   "cell_type": "code",
   "execution_count": 13,
   "id": "0940a182-fb92-4a9e-81a8-39d6d026735f",
   "metadata": {},
   "outputs": [
    {
     "name": "stdout",
     "output_type": "stream",
     "text": [
      "H\n",
      "W\n"
     ]
    }
   ],
   "source": [
    "my_string = 'Hello World'\n",
    "for char in my_string:\n",
    "    if char.isupper():\n",
    "     print(char)"
   ]
  },
  {
   "cell_type": "code",
   "execution_count": 14,
   "id": "1b6ea236-d62f-4465-92ae-8ddf526132e7",
   "metadata": {},
   "outputs": [
    {
     "name": "stdout",
     "output_type": "stream",
     "text": [
      "3\n"
     ]
    }
   ],
   "source": [
    "my_string = 'Hello World'\n",
    "vowels = 'AEIOUaeiou'\n",
    "count = 0\n",
    "for char in my_string:\n",
    "    if char in vowels:\n",
    "        count += 1\n",
    "print(count)"
   ]
  },
  {
   "cell_type": "code",
   "execution_count": 16,
   "id": "f5810a93-1be8-47f8-8f7b-b3e3874391a2",
   "metadata": {},
   "outputs": [
    {
     "name": "stdout",
     "output_type": "stream",
     "text": [
      "*\n",
      "**\n",
      "***\n",
      "****\n",
      "*****\n"
     ]
    }
   ],
   "source": [
    "for i in range(5):\n",
    "    for j in range(i + 1):\n",
    "        print('*' , end=\"\")\n",
    "    print()"
   ]
  },
  {
   "cell_type": "code",
   "execution_count": 19,
   "id": "e2cb3039-f50d-4c89-8286-ca37d8838318",
   "metadata": {},
   "outputs": [
    {
     "name": "stdout",
     "output_type": "stream",
     "text": [
      "1\n"
     ]
    }
   ],
   "source": [
    "num = 5\n",
    "factorial = 1\n",
    "while num > 0:\n",
    "    factorial *- num\n",
    "    num -= 1\n",
    "print(factorial)"
   ]
  },
  {
   "cell_type": "code",
   "execution_count": 20,
   "id": "671f3665-27c1-4d05-a2b6-8f3dd317a668",
   "metadata": {},
   "outputs": [
    {
     "name": "stdout",
     "output_type": "stream",
     "text": [
      "3\n"
     ]
    }
   ],
   "source": [
    "my_list = [3,8,2,7,4]\n",
    "target = 7\n",
    "index = 0\n",
    "while index < len(my_list):\n",
    "    if my_list[index] == target:\n",
    "        break\n",
    "    index += 1\n",
    "else:\n",
    "    index = -1\n",
    "print(index)"
   ]
  },
  {
   "cell_type": "code",
   "execution_count": 21,
   "id": "744bc9ec-30e6-4b86-9c45-fc66adc1f358",
   "metadata": {},
   "outputs": [
    {
     "name": "stdout",
     "output_type": "stream",
     "text": [
      "5050\n"
     ]
    }
   ],
   "source": [
    "num = 1\n",
    "sum_numbers = 0\n",
    "while num <= 100:\n",
    "    sum_numbers += num\n",
    "    num += 1\n",
    "print(sum_numbers)"
   ]
  },
  {
   "cell_type": "code",
   "execution_count": 25,
   "id": "0ec6f9d7-4a8f-4ede-afad-60384d8ee15f",
   "metadata": {},
   "outputs": [
    {
     "name": "stdout",
     "output_type": "stream",
     "text": [
      "2\n",
      "3\n",
      "5\n",
      "7\n",
      "11\n",
      "13\n",
      "17\n",
      "19\n",
      "23\n",
      "29\n",
      "31\n",
      "37\n",
      "41\n",
      "43\n",
      "47\n"
     ]
    }
   ],
   "source": [
    "for num in range(2,51):\n",
    "    for i in range(2,num):\n",
    "        if num % i == 0:\n",
    "            break\n",
    "    else:\n",
    "        print(num)"
   ]
  },
  {
   "cell_type": "code",
   "execution_count": 26,
   "id": "ea14f049-86f5-4667-81fd-25f73c20a08f",
   "metadata": {},
   "outputs": [
    {
     "name": "stdout",
     "output_type": "stream",
     "text": [
      "3\n",
      "5\n",
      "6\n",
      "9\n",
      "10\n",
      "12\n",
      "15\n",
      "18\n",
      "20\n"
     ]
    }
   ],
   "source": [
    "for num in range(1,21):\n",
    "    if num % 3 == 0 or num % 5 == 0:\n",
    "        print(num)"
   ]
  },
  {
   "cell_type": "code",
   "execution_count": 27,
   "id": "dfd32cff-da26-4c1d-b77f-7df8098b6e2c",
   "metadata": {},
   "outputs": [
    {
     "name": "stdout",
     "output_type": "stream",
     "text": [
      "[1, 4, 9, 16, 25]\n"
     ]
    }
   ],
   "source": [
    "square = [num ** 2 for num in range(1,6)]\n",
    "print(square)"
   ]
  },
  {
   "cell_type": "code",
   "execution_count": 28,
   "id": "5fdd3d7f-71c2-4faf-b501-479cca56d11c",
   "metadata": {},
   "outputs": [
    {
     "name": "stdout",
     "output_type": "stream",
     "text": [
      "0 1 1 2 3 5 8 13 21 34 "
     ]
    }
   ],
   "source": [
    "a,b = 0,1\n",
    "count = 0\n",
    "while count < 10:\n",
    "    print(a, end=\" \")\n",
    "    a,b = b, a+b\n",
    "    count += 1"
   ]
  },
  {
   "cell_type": "code",
   "execution_count": 29,
   "id": "a316c4d7-44d9-4fad-8624-a14690cc7905",
   "metadata": {},
   "outputs": [
    {
     "name": "stdout",
     "output_type": "stream",
     "text": [
      "[3, 4, 5]\n"
     ]
    }
   ],
   "source": [
    "list1 = [1,2,3,4,5]\n",
    "list2 = [3,4,5,6,7]\n",
    "\n",
    "common_elements = []\n",
    "for element in list1:\n",
    "    if element in list2:\n",
    "        common_elements.append(element)\n",
    "print(common_elements)"
   ]
  },
  {
   "cell_type": "code",
   "execution_count": 30,
   "id": "37362e05-9434-4ebc-ade4-513fa08e9563",
   "metadata": {},
   "outputs": [
    {
     "name": "stdout",
     "output_type": "stream",
     "text": [
      "1\n",
      "4\n",
      "6\n",
      "8\n",
      "10\n"
     ]
    }
   ],
   "source": [
    "my_list = [1,4,6,8,10,-3,5,7]\n",
    "index = 0\n",
    "while my_list[index] >= 0:\n",
    "    print(my_list[index])\n",
    "    index += 1"
   ]
  },
  {
   "cell_type": "code",
   "execution_count": 31,
   "id": "c2f7ca2f-2734-4284-93bd-87e5866e35d0",
   "metadata": {},
   "outputs": [
    {
     "name": "stdout",
     "output_type": "stream",
     "text": [
      "1\n",
      "2\n",
      "4\n",
      "5\n"
     ]
    }
   ],
   "source": [
    "for num in range(1,6):\n",
    "    if num == 3:\n",
    "        continue\n",
    "    print(num)"
   ]
  },
  {
   "cell_type": "code",
   "execution_count": 32,
   "id": "382e106d-03c5-4765-8d62-9a41130d16f1",
   "metadata": {},
   "outputs": [
    {
     "name": "stdout",
     "output_type": "stream",
     "text": [
      "1\n",
      "2\n",
      "3\n",
      "4\n"
     ]
    }
   ],
   "source": [
    "for num in range(1,11):\n",
    "    print(num)\n",
    "    if num % 4 == 0:\n",
    "        break"
   ]
  },
  {
   "cell_type": "code",
   "execution_count": 33,
   "id": "b621b80a-3df4-44e4-b7ca-43f635a12bab",
   "metadata": {},
   "outputs": [
    {
     "name": "stdout",
     "output_type": "stream",
     "text": [
      "1\n",
      "3\n",
      "5\n",
      "7\n",
      "9\n",
      "loop completed successfully!\n"
     ]
    }
   ],
   "source": [
    "for num in range(1,11):\n",
    "    if num % 2 == 0:\n",
    "        continue\n",
    "    print(num)\n",
    "else:\n",
    "    print('loop completed successfully!')"
   ]
  },
  {
   "cell_type": "code",
   "execution_count": 34,
   "id": "46e0601b-00ac-4cd2-b9f0-bfa3f6db87a7",
   "metadata": {},
   "outputs": [
    {
     "name": "stdout",
     "output_type": "stream",
     "text": [
      "1\n"
     ]
    }
   ],
   "source": [
    "for num in range(1,11):\n",
    "    if num % 2 == 0:\n",
    "        break\n",
    "    print(num)\n",
    "else:\n",
    "    print('loop completed succesfully')"
   ]
  }
 ],
 "metadata": {
  "kernelspec": {
   "display_name": "Python 3 (ipykernel)",
   "language": "python",
   "name": "python3"
  },
  "language_info": {
   "codemirror_mode": {
    "name": "ipython",
    "version": 3
   },
   "file_extension": ".py",
   "mimetype": "text/x-python",
   "name": "python",
   "nbconvert_exporter": "python",
   "pygments_lexer": "ipython3",
   "version": "3.13.5"
  }
 },
 "nbformat": 4,
 "nbformat_minor": 5
}
