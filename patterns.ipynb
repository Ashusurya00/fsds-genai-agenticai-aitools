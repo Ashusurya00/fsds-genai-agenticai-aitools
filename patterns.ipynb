{
 "cells": [
  {
   "cell_type": "code",
   "execution_count": 5,
   "id": "ae664155-9f09-4c8d-9acd-85034438c734",
   "metadata": {},
   "outputs": [
    {
     "name": "stdin",
     "output_type": "stream",
     "text": [
      "enter the number: 5\n"
     ]
    },
    {
     "name": "stdout",
     "output_type": "stream",
     "text": [
      "odd\n"
     ]
    }
   ],
   "source": [
    "def evodd(num):\n",
    "    if num%2==0:\n",
    "        return 'even'\n",
    "    else:\n",
    "        return 'odd'\n",
    "n = int(input('enter the number:'))\n",
    "print(evodd(n))"
   ]
  },
  {
   "cell_type": "code",
   "execution_count": 6,
   "id": "e836ad80-a1b3-421f-b300-fae19eaf64f9",
   "metadata": {},
   "outputs": [
    {
     "name": "stdin",
     "output_type": "stream",
     "text": [
      "enter the number 6\n"
     ]
    },
    {
     "name": "stdout",
     "output_type": "stream",
     "text": [
      "even\n"
     ]
    }
   ],
   "source": [
    "def evodd(num):\n",
    "    if num%2==0:\n",
    "        return 'even'\n",
    "    else:\n",
    "        return 'odd'\n",
    "n = int(input('enter the number'))\n",
    "print(evodd(n))"
   ]
  },
  {
   "cell_type": "code",
   "execution_count": 7,
   "id": "121fc668-2b8f-4b0c-ad69-2aebca3b2765",
   "metadata": {},
   "outputs": [
    {
     "name": "stdin",
     "output_type": "stream",
     "text": [
      "enter the string hello\n"
     ]
    },
    {
     "name": "stdout",
     "output_type": "stream",
     "text": [
      "olleh\n"
     ]
    }
   ],
   "source": [
    "def revstr(st):\n",
    "    st \n",
    "    return st[::-1]\n",
    "\n",
    "s = input('enter the string')\n",
    "print(revstr(s))"
   ]
  },
  {
   "cell_type": "code",
   "execution_count": 12,
   "id": "ee438232-7271-4eb3-983d-1373c9377db1",
   "metadata": {},
   "outputs": [
    {
     "name": "stdin",
     "output_type": "stream",
     "text": [
      "enter the number : 6\n",
      "enter the number : 3\n",
      "enter the number : 2\n"
     ]
    },
    {
     "name": "stdout",
     "output_type": "stream",
     "text": [
      "6\n"
     ]
    }
   ],
   "source": [
    "def maxi(a,b,c):\n",
    "    if a>b and a>c:\n",
    "        return a\n",
    "    elif b>a and b>c:\n",
    "        return b\n",
    "    elif c>a and c>b:\n",
    "        return c\n",
    "\n",
    "x = int(input('enter the number :'))\n",
    "y = int(input('enter the number :'))\n",
    "z = int(input('enter the number :'))\n",
    "print(maxi(x,y,z))"
   ]
  },
  {
   "cell_type": "code",
   "execution_count": 15,
   "id": "07971256-34bd-482d-877b-d84601cac4e6",
   "metadata": {},
   "outputs": [
    {
     "name": "stdout",
     "output_type": "stream",
     "text": [
      "21\n"
     ]
    }
   ],
   "source": [
    "def sml(numbers):\n",
    "    total = 0\n",
    "    for num in numbers:\n",
    "        total += num\n",
    "    return total\n",
    "num = [1,2,3,4,5,6]\n",
    "\n",
    "print(sml(num))"
   ]
  },
  {
   "cell_type": "code",
   "execution_count": 16,
   "id": "408dea90-1fbc-46c4-8320-ac1cff2aeeaf",
   "metadata": {},
   "outputs": [
    {
     "name": "stdout",
     "output_type": "stream",
     "text": [
      "440\n"
     ]
    }
   ],
   "source": [
    "def sml(numbers):\n",
    "    total = 0\n",
    "    for num in numbers:\n",
    "        total += num\n",
    "    return total\n",
    "\n",
    "a = [4,5,2,4,6,77,342]\n",
    "print(sml(a))"
   ]
  },
  {
   "cell_type": "code",
   "execution_count": 1,
   "id": "97521312-6463-4c54-8de9-11f7b2c451c9",
   "metadata": {},
   "outputs": [
    {
     "name": "stdin",
     "output_type": "stream",
     "text": [
      "enter the number : 4\n"
     ]
    },
    {
     "name": "stdout",
     "output_type": "stream",
     "text": [
      "<function s_c at 0x00000257867E9120>\n"
     ]
    }
   ],
   "source": [
    "def s_c(a):\n",
    "    return a**2,a**2\n",
    "\n",
    "s = int(input('enter the number :'))\n",
    "print(s_c)"
   ]
  },
  {
   "cell_type": "code",
   "execution_count": 2,
   "id": "0a419a85-548c-4bcc-8982-85705216ab29",
   "metadata": {},
   "outputs": [
    {
     "name": "stdout",
     "output_type": "stream",
     "text": [
      "*\n",
      "**\n",
      "***\n",
      "****\n",
      "*****\n"
     ]
    }
   ],
   "source": [
    "for i in range(1,6):\n",
    "    print('*'*i)"
   ]
  },
  {
   "cell_type": "code",
   "execution_count": 3,
   "id": "df7d3b11-dcbf-4d90-a827-c2384d9cf9a5",
   "metadata": {},
   "outputs": [
    {
     "name": "stdout",
     "output_type": "stream",
     "text": [
      "*****\n",
      "****\n",
      "***\n",
      "**\n",
      "*\n"
     ]
    }
   ],
   "source": [
    "for i in range(5,0,-1):\n",
    "    print('*'*i)\n"
   ]
  },
  {
   "cell_type": "code",
   "execution_count": 4,
   "id": "575b6c63-a086-41ad-b013-d6d9a3f43bf2",
   "metadata": {},
   "outputs": [
    {
     "name": "stdout",
     "output_type": "stream",
     "text": [
      "*\n",
      "***\n",
      "*****\n",
      "*******\n",
      "*********\n"
     ]
    }
   ],
   "source": [
    "for i in range(1,6):\n",
    "    print(''*(5-i)+'*'*(2*i-1))"
   ]
  },
  {
   "cell_type": "raw",
   "id": "f5357f58-41c4-433e-a30c-f188b2c4320a",
   "metadata": {},
   "source": [
    "for i in range(5,0,-1):\n"
   ]
  },
  {
   "cell_type": "code",
   "execution_count": 5,
   "id": "9bd3cd0e-798f-49ee-a4cb-9a24aa8e5515",
   "metadata": {},
   "outputs": [
    {
     "name": "stdout",
     "output_type": "stream",
     "text": [
      "*********\n",
      "*******\n",
      "*****\n",
      "***\n",
      "*\n"
     ]
    }
   ],
   "source": [
    "for i in range(5,0,-1):\n",
    "    print(''*(5-i)+'*'*(2*i-1))"
   ]
  },
  {
   "cell_type": "code",
   "execution_count": 9,
   "id": "bf34bfb4-f459-4b3e-982a-231b2047dd69",
   "metadata": {},
   "outputs": [
    {
     "name": "stdout",
     "output_type": "stream",
     "text": [
      " * \n",
      " *  *  * \n",
      " *  *  *  *  * \n",
      " *  *  *  *  *  *  * \n",
      " *  *  *  *  *  *  *  *  * \n",
      " *  *  *  *  *  *  * \n",
      " *  *  *  *  * \n",
      " *  *  * \n",
      " * \n"
     ]
    }
   ],
   "source": [
    "for i in range(1,6):\n",
    "    print(''*(5-i)+' * '*(2*i-1))\n",
    "for i in range(4,0,-1):\n",
    "    print(''*(5-i)+' * '*(2*i-1))"
   ]
  },
  {
   "cell_type": "code",
   "execution_count": 15,
   "id": "cd16263d-7f0b-4416-acf8-bf7f7c48f22f",
   "metadata": {},
   "outputs": [
    {
     "name": "stdout",
     "output_type": "stream",
     "text": [
      "*****\n",
      "*   *\n",
      "*   *\n",
      "*   *\n",
      "*****\n"
     ]
    }
   ],
   "source": [
    "for i in range(5):\n",
    "    for j in range(5):\n",
    "        if i==0 or i==4 or j==0 or j==4:\n",
    "            print('*',end=\"\")\n",
    "        else:\n",
    "            print(' ',end='')\n",
    "    print()"
   ]
  },
  {
   "cell_type": "code",
   "execution_count": 16,
   "id": "d93166a7-d02c-48c5-9c66-0f42616b847b",
   "metadata": {},
   "outputs": [
    {
     "name": "stdout",
     "output_type": "stream",
     "text": [
      "*****\n",
      "*****\n",
      "*****\n",
      "*****\n",
      "*****\n"
     ]
    }
   ],
   "source": [
    "for i in range(5):\n",
    "    print('*'*5)"
   ]
  },
  {
   "cell_type": "code",
   "execution_count": 17,
   "id": "62345cc9-1625-425e-9f2c-d4da17e05048",
   "metadata": {},
   "outputs": [
    {
     "name": "stdout",
     "output_type": "stream",
     "text": [
      "1\n",
      "1 2\n",
      "1 2 3\n",
      "1 2 3 4\n",
      "1 2 3 4 5\n"
     ]
    }
   ],
   "source": [
    "for i in range(1,6):\n",
    "    print(' '.join(str(x) for x in range(1, i+1)))"
   ]
  },
  {
   "cell_type": "code",
   "execution_count": 18,
   "id": "373a58a6-726c-4b50-a33c-c0764a9d27ca",
   "metadata": {},
   "outputs": [
    {
     "name": "stdout",
     "output_type": "stream",
     "text": [
      "1 2 3 4 5\n",
      "1 2 3 4\n",
      "1 2 3\n",
      "1 2\n",
      "1\n"
     ]
    }
   ],
   "source": [
    "for i in range(5,0,-1):\n",
    "    print(' '.join(str(x) for x in range(1, i+1)))"
   ]
  },
  {
   "cell_type": "code",
   "execution_count": 19,
   "id": "376ebef1-eaa5-4650-a54d-1b39d29cd90f",
   "metadata": {},
   "outputs": [
    {
     "name": "stdout",
     "output_type": "stream",
     "text": [
      "1 \n",
      "2 3 \n",
      "4 5 6 \n",
      "7 8 9 10 \n",
      "11 12 13 14 15 \n"
     ]
    }
   ],
   "source": [
    "num=1\n",
    "for i in range(1,6):\n",
    "    for j in range(1, i+1):\n",
    "        print(num,end=\" \")\n",
    "        num+=1\n",
    "    print()"
   ]
  },
  {
   "cell_type": "code",
   "execution_count": 20,
   "id": "f59329fb-5fee-41c9-8332-f844c5668b13",
   "metadata": {},
   "outputs": [
    {
     "name": "stdout",
     "output_type": "stream",
     "text": [
      "1 2 3 4 5 \n",
      "6 7 8 9 \n",
      "10 11 12 \n",
      "13 14 \n",
      "15 \n"
     ]
    }
   ],
   "source": [
    "num=1\n",
    "for i in range(5,0,-1):\n",
    "    for j in range(1, i+1):\n",
    "        print(num,end=\" \")\n",
    "        num+=1\n",
    "    print()"
   ]
  },
  {
   "cell_type": "code",
   "execution_count": 4,
   "id": "056a1e3f-1060-4451-8565-444689c2f4c9",
   "metadata": {},
   "outputs": [
    {
     "name": "stdout",
     "output_type": "stream",
     "text": [
      "* \n",
      "* * \n",
      "*   * \n",
      "*     * \n",
      "* * * * * \n"
     ]
    }
   ],
   "source": [
    "for i in range(1,6):\n",
    "    for j in range(1,i+1):\n",
    "        if j==1 or j==i or i==5:\n",
    "            print('*', end = \" \")\n",
    "        else: \n",
    "            print(' ',end=\" \")\n",
    "    print()"
   ]
  },
  {
   "cell_type": "code",
   "execution_count": 5,
   "id": "a2d0841c-bf51-4ebd-938d-e77f5776e5bc",
   "metadata": {},
   "outputs": [
    {
     "name": "stdout",
     "output_type": "stream",
     "text": [
      "        * \n",
      "      *   * \n",
      "    *       * \n",
      "  *           * \n",
      "* * * * * * * * * \n"
     ]
    }
   ],
   "source": [
    "for i in range(1,6):\n",
    "    for j in range(5 - i):\n",
    "        print(' ', end=' ')\n",
    "    for j in range(2*i - 1):\n",
    "        if j == 0 or j == 2 * i - 2 or i ==5:\n",
    "            print('*', end=\" \")\n",
    "        else:\n",
    "            print(' ', end=' ')\n",
    "    print()"
   ]
  },
  {
   "cell_type": "code",
   "execution_count": 6,
   "id": "84519f30-f385-44f1-98ac-4afa0693bc44",
   "metadata": {},
   "outputs": [
    {
     "name": "stdout",
     "output_type": "stream",
     "text": [
      "        * \n",
      "        *   * \n",
      "        *       * \n",
      "        *           * \n",
      "        *               * \n",
      "        *           * \n",
      "        *       * \n",
      "        *   * \n",
      "        * \n"
     ]
    }
   ],
   "source": [
    "n = 5 \n",
    "for i in range(1, n +1):\n",
    "    for j in range(n-1):\n",
    "        print(' ', end=\" \")\n",
    "    for j in range(2*i - 1):\n",
    "        if j == 0 or j == 2 * i - 2:\n",
    "            print('*', end=\" \")\n",
    "        else:\n",
    "            print(' ',end=\" \")\n",
    "    print()\n",
    "\n",
    "for i in range( n -1,0,-1):\n",
    "    for j in range(n-1):\n",
    "        print(' ', end=\" \")\n",
    "    for j in range(2*i - 1):\n",
    "        if j == 0 or j == 2 * i - 2:\n",
    "            print('*', end=\" \")\n",
    "        else:\n",
    "            print(' ',end=\" \")\n",
    "    print()\n",
    "\n",
    "        "
   ]
  },
  {
   "cell_type": "code",
   "execution_count": 10,
   "id": "0909aac3-2df2-4563-8317-04fa47994089",
   "metadata": {},
   "outputs": [
    {
     "name": "stdout",
     "output_type": "stream",
     "text": [
      "1                 1 \n",
      "1 2             1 2 \n",
      "1 2 3         1 2 3 \n",
      "1 2 3 4     1 2 3 4 \n",
      "1 2 3 4 5 1 2 3 4 5 \n",
      "1 2 3 4 5 1 2 3 4 5 \n",
      "1 2 3 4     1 2 3 4 \n",
      "1 2 3         1 2 3 \n",
      "1 2             1 2 \n",
      "1                 1 \n",
      "1                 1 \n",
      "1 2             1 2 \n",
      "1 2 3         1 2 3 \n",
      "1 2 3 4     1 2 3 4 \n",
      "1 2 3 4 5 1 2 3 4 5 \n",
      "1 2 3 4 5 1 2 3 4 5 \n",
      "1 2 3 4     1 2 3 4 \n",
      "1 2 3         1 2 3 \n",
      "1 2             1 2 \n",
      "1                 1 \n"
     ]
    }
   ],
   "source": [
    "n = 5\n",
    "for i in range(1, n + 1):\n",
    "    for j in range(1, i + 1):\n",
    "        print(j, end=\" \")\n",
    "    for j in range(2*(n-i)):\n",
    "        print(' ', end=' ')\n",
    "    for j in range(1, i+1):\n",
    "        print(j, end=\" \")\n",
    "    print()\n",
    "for i in range(n, 0, -1):\n",
    "    for j in range(1, i+1):\n",
    "        print(j, end=' ')\n",
    "    for j in range(2* (n-i)):\n",
    "        print(' ',end=' ')\n",
    "    for j in range(1, i + 1):\n",
    "        print(j, end=' ')\n",
    "    print()\n",
    "\n",
    "n = 5\n",
    "for i in range(1, n + 1):\n",
    "    for j in range(1, i + 1):\n",
    "        print(j, end=\" \")\n",
    "    for j in range(2*(n-i)):\n",
    "        print(' ', end=' ')\n",
    "    for j in range(1, i+1):\n",
    "        print(j, end=\" \")\n",
    "    print()\n",
    "for i in range(n, 0, -1):\n",
    "    for j in range(1, i+1):\n",
    "        print(j, end=' ')\n",
    "    for j in range(2* (n-i)):\n",
    "        print(' ',end=' ')\n",
    "    for j in range(1, i + 1):\n",
    "        print(j, end=' ')\n",
    "    print()"
   ]
  },
  {
   "cell_type": "code",
   "execution_count": 13,
   "id": "d898ccb1-79e1-4b7c-be87-eef15c28cc01",
   "metadata": {},
   "outputs": [
    {
     "name": "stdout",
     "output_type": "stream",
     "text": [
      "        1 \n",
      "      2     \n",
      "    3         \n",
      "  4             \n",
      "5 5 5 5 5 5 5 5 5 \n"
     ]
    }
   ],
   "source": [
    "n = 5 \n",
    "for i in range(1,n + 1):\n",
    "    for j in range(n-i):\n",
    "        print(' ',end=' ')\n",
    "\n",
    "    for j in range(1, 2*i):\n",
    "        if j == 1 or j == 2 * i or i == n:\n",
    "            print(i, end=' ')\n",
    "        else:\n",
    "            print(' ', end=' ')\n",
    "    print()"
   ]
  },
  {
   "cell_type": "code",
   "execution_count": 14,
   "id": "0867cb86-9dfa-43b4-a62d-fffd0010771d",
   "metadata": {},
   "outputs": [
    {
     "name": "stdout",
     "output_type": "stream",
     "text": [
      "        * \n",
      "      * * * \n",
      "    * * * * * \n",
      "  * * * * * * * \n",
      "* * * * * * * * * \n"
     ]
    }
   ],
   "source": [
    "n = 5 \n",
    "for i in range(1, n + 1):\n",
    "    for j in range(n - i):\n",
    "        print(' ', end=' ')\n",
    "\n",
    "    for j in range(2 * i - 1):\n",
    "        print('*', end=' ')\n",
    "\n",
    "    print()\n"
   ]
  },
  {
   "cell_type": "code",
   "execution_count": 15,
   "id": "43be8677-e068-4728-be79-65c2a73fb6b6",
   "metadata": {},
   "outputs": [
    {
     "name": "stdout",
     "output_type": "stream",
     "text": [
      "* * * * * * * * * \n",
      "  * * * * * * * \n",
      "    * * * * * \n",
      "      * * * \n",
      "        * \n"
     ]
    }
   ],
   "source": [
    "n = 5 \n",
    "for i in range(n , 0 , -1):\n",
    "    for j in range(n - i):\n",
    "        print(' ', end=' ')\n",
    "\n",
    "    for j in range(2 * i - 1):\n",
    "        print('*', end=' ')\n",
    "\n",
    "    print()"
   ]
  },
  {
   "cell_type": "code",
   "execution_count": 16,
   "id": "12106980-ca5f-4ae2-9857-b6b98cfd4479",
   "metadata": {},
   "outputs": [
    {
     "name": "stdout",
     "output_type": "stream",
     "text": [
      "* \n",
      "* * \n",
      "* * * \n",
      "* * * * \n",
      "* * * * * \n",
      "1 \n",
      "1 2 \n",
      "1 2 3 \n",
      "1 2 3 4 \n",
      "1 2 3 4 5 \n"
     ]
    }
   ],
   "source": [
    "n = 5\n",
    "for i in range(1, n + 1):\n",
    "    for j in range(i):\n",
    "        print('*', end=\" \")\n",
    "    print()\n",
    "\n",
    "n = 5 \n",
    "for i in range(1, n + 1):\n",
    "    for j in range(1,1+i):\n",
    "        print(j,end=\" \")\n",
    "    print()"
   ]
  },
  {
   "cell_type": "code",
   "execution_count": 17,
   "id": "09398f9a-a822-485a-9e01-1b85b82685e6",
   "metadata": {},
   "outputs": [
    {
     "name": "stdout",
     "output_type": "stream",
     "text": [
      "        1 \n",
      "        1 2 \n",
      "        1 2 3 \n",
      "        1 2 3 4 \n",
      "        1 2 3 4 5 \n",
      "        * \n",
      "        * * \n",
      "        * * * \n",
      "        * * * * \n",
      "        * * * * * \n"
     ]
    }
   ],
   "source": [
    "n = 5 \n",
    "for i in range(1, n+1):\n",
    "\n",
    "    for j in range(n-1):\n",
    "        print(' ', end=' ')\n",
    "\n",
    "    for j in range(1, i+1):\n",
    "        print(j, end=' ')\n",
    "\n",
    "    print()\n",
    "\n",
    "n = 5 \n",
    "for i in range(1, n+1):\n",
    "\n",
    "    for j in range(n-1):\n",
    "        print(' ', end=' ')\n",
    "\n",
    "    for j in range(i):\n",
    "        print('*', end=' ')\n",
    "\n",
    "    print()\n"
   ]
  },
  {
   "cell_type": "code",
   "execution_count": null,
   "id": "b7f7b4c0-f095-4111-860f-8b519fd7b188",
   "metadata": {},
   "outputs": [],
   "source": []
  },
  {
   "cell_type": "code",
   "execution_count": null,
   "id": "1ba24fff-5290-451c-8404-721268591379",
   "metadata": {},
   "outputs": [],
   "source": []
  }
 ],
 "metadata": {
  "kernelspec": {
   "display_name": "Python 3 (ipykernel)",
   "language": "python",
   "name": "python3"
  },
  "language_info": {
   "codemirror_mode": {
    "name": "ipython",
    "version": 3
   },
   "file_extension": ".py",
   "mimetype": "text/x-python",
   "name": "python",
   "nbconvert_exporter": "python",
   "pygments_lexer": "ipython3",
   "version": "3.13.5"
  }
 },
 "nbformat": 4,
 "nbformat_minor": 5
}
