{
 "cells": [
  {
   "cell_type": "markdown",
   "id": "3402193c-e2a2-4c60-a4e1-d8a5ffd817c7",
   "metadata": {},
   "source": [
    "FULL PYTHON LIBRARIES REVISE"
   ]
  },
  {
   "cell_type": "code",
   "execution_count": 30,
   "id": "5d4b36f4-93a0-428d-aa08-dce3b1cff8f6",
   "metadata": {},
   "outputs": [],
   "source": [
    "import numpy as np"
   ]
  },
  {
   "cell_type": "code",
   "execution_count": 31,
   "id": "9d4143ac-3956-4d10-bb8e-36392dbcbb8a",
   "metadata": {},
   "outputs": [],
   "source": [
    "import numpy as np\n",
    "\n",
    "# Dataset: [Student_ID, Math, Science, English, History]\n",
    "data = np.array([\n",
    "    [1, 78, 85, 92, 88],\n",
    "    [2, 56, 72, 65, 70],\n",
    "    [3, 89, 94, 90, 96],\n",
    "    [4, 45, 60, 52, 58],\n",
    "    [5, 99, 100, 95, 98],\n",
    "    [6, 67, 76, 72, 74],\n",
    "    [7, 80, 85, 88, 82],\n",
    "    [8, 54, 61, 57, 63],\n",
    "    [9, 91, 92, 94, 90],\n",
    "    [10, 73, 78, 75, 77]\n",
    "])\n"
   ]
  },
  {
   "cell_type": "code",
   "execution_count": 32,
   "id": "f6ba603a-7332-4827-b574-4f55d3f9e8fd",
   "metadata": {},
   "outputs": [
    {
     "data": {
      "text/plain": [
       "array([[  1,  78,  85,  92,  88],\n",
       "       [  2,  56,  72,  65,  70],\n",
       "       [  3,  89,  94,  90,  96],\n",
       "       [  4,  45,  60,  52,  58],\n",
       "       [  5,  99, 100,  95,  98],\n",
       "       [  6,  67,  76,  72,  74],\n",
       "       [  7,  80,  85,  88,  82],\n",
       "       [  8,  54,  61,  57,  63],\n",
       "       [  9,  91,  92,  94,  90],\n",
       "       [ 10,  73,  78,  75,  77]])"
      ]
     },
     "execution_count": 32,
     "metadata": {},
     "output_type": "execute_result"
    }
   ],
   "source": [
    "data"
   ]
  },
  {
   "cell_type": "code",
   "execution_count": 33,
   "id": "48c46f0c-b662-4369-b9a6-22818a144ae5",
   "metadata": {},
   "outputs": [
    {
     "data": {
      "text/plain": [
       "array([[ 1, 78, 85, 92, 88],\n",
       "       [ 2, 56, 72, 65, 70],\n",
       "       [ 3, 89, 94, 90, 96]])"
      ]
     },
     "execution_count": 33,
     "metadata": {},
     "output_type": "execute_result"
    }
   ],
   "source": [
    "data[:3]"
   ]
  },
  {
   "cell_type": "code",
   "execution_count": 34,
   "id": "ce05afdd-1350-4e39-a9d7-0f7db9452340",
   "metadata": {},
   "outputs": [
    {
     "data": {
      "text/plain": [
       "array([92, 65, 90, 52, 95, 72, 88, 57, 94, 75])"
      ]
     },
     "execution_count": 34,
     "metadata": {},
     "output_type": "execute_result"
    }
   ],
   "source": [
    "data[:,3]"
   ]
  },
  {
   "cell_type": "code",
   "execution_count": 35,
   "id": "4eb68207-3cf4-4177-9a26-b33cb91a9585",
   "metadata": {},
   "outputs": [
    {
     "data": {
      "text/plain": [
       "array([], shape=(10, 0), dtype=int64)"
      ]
     },
     "execution_count": 35,
     "metadata": {},
     "output_type": "execute_result"
    }
   ],
   "source": [
    "data[:,3:3]"
   ]
  },
  {
   "cell_type": "code",
   "execution_count": 36,
   "id": "e1f36e63-1d6e-4244-9b62-b4205cea3176",
   "metadata": {},
   "outputs": [
    {
     "data": {
      "text/plain": [
       "(10, 5)"
      ]
     },
     "execution_count": 36,
     "metadata": {},
     "output_type": "execute_result"
    }
   ],
   "source": [
    "data.shape"
   ]
  },
  {
   "cell_type": "code",
   "execution_count": 37,
   "id": "b7432ac6-b4be-45df-bfd0-677ac1e49d43",
   "metadata": {},
   "outputs": [
    {
     "data": {
      "text/plain": [
       "array([[78, 92],\n",
       "       [56, 65],\n",
       "       [89, 90],\n",
       "       [45, 52],\n",
       "       [99, 95],\n",
       "       [67, 72],\n",
       "       [80, 88],\n",
       "       [54, 57],\n",
       "       [91, 94],\n",
       "       [73, 75]])"
      ]
     },
     "execution_count": 37,
     "metadata": {},
     "output_type": "execute_result"
    }
   ],
   "source": [
    "# Get Math (col=1) and English (col=3)\n",
    "data[:, [1, 3]]\n"
   ]
  },
  {
   "cell_type": "code",
   "execution_count": 38,
   "id": "d21d615c-32bb-4697-8052-06f5644b5f36",
   "metadata": {},
   "outputs": [
    {
     "data": {
      "text/plain": [
       "array([[ 85,  88],\n",
       "       [ 72,  70],\n",
       "       [ 94,  96],\n",
       "       [ 60,  58],\n",
       "       [100,  98],\n",
       "       [ 76,  74],\n",
       "       [ 85,  82],\n",
       "       [ 61,  63],\n",
       "       [ 92,  90],\n",
       "       [ 78,  77]])"
      ]
     },
     "execution_count": 38,
     "metadata": {},
     "output_type": "execute_result"
    }
   ],
   "source": [
    "data[:,[2,4]]"
   ]
  },
  {
   "cell_type": "code",
   "execution_count": 39,
   "id": "f92dc56b-5683-4b30-9dfe-5bd40058dafd",
   "metadata": {},
   "outputs": [
    {
     "data": {
      "text/plain": [
       "np.float64(63.32)"
      ]
     },
     "execution_count": 39,
     "metadata": {},
     "output_type": "execute_result"
    }
   ],
   "source": [
    "data.mean()"
   ]
  },
  {
   "cell_type": "code",
   "execution_count": 40,
   "id": "f8f411cb-b50b-4a4b-87f9-2c567ff85ddd",
   "metadata": {},
   "outputs": [
    {
     "data": {
      "text/plain": [
       "array([[0., 0., 0., 0.],\n",
       "       [0., 0., 0., 0.]])"
      ]
     },
     "execution_count": 40,
     "metadata": {},
     "output_type": "execute_result"
    }
   ],
   "source": [
    "np.zeros((2,4))"
   ]
  },
  {
   "cell_type": "code",
   "execution_count": 41,
   "id": "439de76b-b67d-4bb1-bc72-85fe4cae2f75",
   "metadata": {},
   "outputs": [
    {
     "data": {
      "text/plain": [
       "array([[1., 1., 1., 1.],\n",
       "       [1., 1., 1., 1.]])"
      ]
     },
     "execution_count": 41,
     "metadata": {},
     "output_type": "execute_result"
    }
   ],
   "source": [
    "np.ones((2,4))"
   ]
  },
  {
   "cell_type": "code",
   "execution_count": 42,
   "id": "3bf6e9c9-3958-4ff3-b088-ac0f1dc529fa",
   "metadata": {},
   "outputs": [
    {
     "data": {
      "text/plain": [
       "array([[1., 0., 0., 0., 0.],\n",
       "       [0., 1., 0., 0., 0.],\n",
       "       [0., 0., 1., 0., 0.],\n",
       "       [0., 0., 0., 1., 0.],\n",
       "       [0., 0., 0., 0., 1.]])"
      ]
     },
     "execution_count": 42,
     "metadata": {},
     "output_type": "execute_result"
    }
   ],
   "source": [
    "np.eye(5)"
   ]
  },
  {
   "cell_type": "code",
   "execution_count": 43,
   "id": "587d6ff8-5676-4877-867c-c3e96bcd1e42",
   "metadata": {},
   "outputs": [
    {
     "data": {
      "text/plain": [
       "array([2, 3, 4])"
      ]
     },
     "execution_count": 43,
     "metadata": {},
     "output_type": "execute_result"
    }
   ],
   "source": [
    "np.arange(2,5)"
   ]
  },
  {
   "cell_type": "code",
   "execution_count": 44,
   "id": "3b66221c-26ae-4b7b-917b-af3259900501",
   "metadata": {},
   "outputs": [
    {
     "data": {
      "text/plain": [
       "array([2, 4, 6, 8])"
      ]
     },
     "execution_count": 44,
     "metadata": {},
     "output_type": "execute_result"
    }
   ],
   "source": [
    "np.arange(2,10,2)"
   ]
  },
  {
   "cell_type": "code",
   "execution_count": 45,
   "id": "23386072-1ad4-4c2a-b6ee-0b99deba5edd",
   "metadata": {},
   "outputs": [
    {
     "data": {
      "text/plain": [
       "array([], dtype=int64)"
      ]
     },
     "execution_count": 45,
     "metadata": {},
     "output_type": "execute_result"
    }
   ],
   "source": [
    "np.arange(2,10,-2)"
   ]
  },
  {
   "cell_type": "code",
   "execution_count": 47,
   "id": "7e6a3b1c-8c48-4f13-a13e-f74b3f9bc886",
   "metadata": {},
   "outputs": [
    {
     "data": {
      "text/plain": [
       "array([[ 10,  73,  78,  75,  77],\n",
       "       [  9,  91,  92,  94,  90],\n",
       "       [  8,  54,  61,  57,  63],\n",
       "       [  7,  80,  85,  88,  82],\n",
       "       [  6,  67,  76,  72,  74],\n",
       "       [  5,  99, 100,  95,  98],\n",
       "       [  4,  45,  60,  52,  58],\n",
       "       [  3,  89,  94,  90,  96],\n",
       "       [  2,  56,  72,  65,  70],\n",
       "       [  1,  78,  85,  92,  88]])"
      ]
     },
     "execution_count": 47,
     "metadata": {},
     "output_type": "execute_result"
    }
   ],
   "source": [
    "data[::-1]"
   ]
  },
  {
   "cell_type": "code",
   "execution_count": 49,
   "id": "e5a50d84-0932-4d18-86a6-b2b567931ce0",
   "metadata": {},
   "outputs": [
    {
     "data": {
      "text/plain": [
       "array([88, 70, 96, 58, 98, 74, 82, 63, 90, 77])"
      ]
     },
     "execution_count": 49,
     "metadata": {},
     "output_type": "execute_result"
    }
   ],
   "source": [
    "data[::,-1]"
   ]
  },
  {
   "cell_type": "code",
   "execution_count": 50,
   "id": "bcdad7ad-a8d1-437d-a4ca-686652ba486e",
   "metadata": {},
   "outputs": [
    {
     "data": {
      "text/plain": [
       "array([[ 88,  92,  85,  78,   1],\n",
       "       [ 70,  65,  72,  56,   2],\n",
       "       [ 96,  90,  94,  89,   3],\n",
       "       [ 58,  52,  60,  45,   4],\n",
       "       [ 98,  95, 100,  99,   5],\n",
       "       [ 74,  72,  76,  67,   6],\n",
       "       [ 82,  88,  85,  80,   7],\n",
       "       [ 63,  57,  61,  54,   8],\n",
       "       [ 90,  94,  92,  91,   9],\n",
       "       [ 77,  75,  78,  73,  10]])"
      ]
     },
     "execution_count": 50,
     "metadata": {},
     "output_type": "execute_result"
    }
   ],
   "source": [
    "data[:, ::-1]"
   ]
  },
  {
   "cell_type": "code",
   "execution_count": 51,
   "id": "c3bdbd6c-9406-498d-babf-fa3bc4e66203",
   "metadata": {},
   "outputs": [
    {
     "data": {
      "text/plain": [
       "array([[  1,  78,  85,  92,  88],\n",
       "       [  2,  56,  72,  65,  70],\n",
       "       [  3,  89,  94,  90,  96],\n",
       "       [  4,  45,  60,  52,  58],\n",
       "       [  5,  99, 100,  95,  98],\n",
       "       [  6,  67,  76,  72,  74],\n",
       "       [  7,  80,  85,  88,  82],\n",
       "       [  8,  54,  61,  57,  63],\n",
       "       [  9,  91,  92,  94,  90],\n",
       "       [ 10,  73,  78,  75,  77]])"
      ]
     },
     "execution_count": 51,
     "metadata": {},
     "output_type": "execute_result"
    }
   ],
   "source": [
    "data"
   ]
  },
  {
   "cell_type": "code",
   "execution_count": 53,
   "id": "32a48845-3755-4460-8e41-85780b9da55b",
   "metadata": {},
   "outputs": [
    {
     "data": {
      "text/plain": [
       "array([ 72,  94,  60, 100,  76,  85,  61,  92,  78])"
      ]
     },
     "execution_count": 53,
     "metadata": {},
     "output_type": "execute_result"
    }
   ],
   "source": [
    "data[1:,2]"
   ]
  },
  {
   "cell_type": "code",
   "execution_count": 55,
   "id": "1f8eb223-6ca9-47cd-ae44-d824c4f10752",
   "metadata": {},
   "outputs": [
    {
     "data": {
      "text/plain": [
       "np.int64(72)"
      ]
     },
     "execution_count": 55,
     "metadata": {},
     "output_type": "execute_result"
    }
   ],
   "source": [
    "data[1,2]"
   ]
  },
  {
   "cell_type": "code",
   "execution_count": 57,
   "id": "e4f8c810-b65a-4b6a-bb9c-23fcede83aaa",
   "metadata": {},
   "outputs": [
    {
     "data": {
      "text/plain": [
       "array([ 1, 72, 89])"
      ]
     },
     "execution_count": 57,
     "metadata": {},
     "output_type": "execute_result"
    }
   ],
   "source": [
    "data[[0,1,2],[0,2,1]]"
   ]
  },
  {
   "cell_type": "code",
   "execution_count": 58,
   "id": "a6a63db8-4ebf-4dad-a4cb-3aea7f39a9f6",
   "metadata": {},
   "outputs": [
    {
     "data": {
      "text/plain": [
       "array([78, 56])"
      ]
     },
     "execution_count": 58,
     "metadata": {},
     "output_type": "execute_result"
    }
   ],
   "source": [
    "data[0:2, 1]"
   ]
  },
  {
   "cell_type": "code",
   "execution_count": 59,
   "id": "737a4d14-3f66-48ee-a2a4-3c7275284c3c",
   "metadata": {},
   "outputs": [
    {
     "data": {
      "text/plain": [
       "array([78, 56])"
      ]
     },
     "execution_count": 59,
     "metadata": {},
     "output_type": "execute_result"
    }
   ],
   "source": [
    "data[0:2, 1]"
   ]
  },
  {
   "cell_type": "code",
   "execution_count": 60,
   "id": "1fce2deb-47e8-43fd-acf2-1287ea86eb09",
   "metadata": {},
   "outputs": [
    {
     "data": {
      "text/plain": [
       "array([ 2, 56, 72])"
      ]
     },
     "execution_count": 60,
     "metadata": {},
     "output_type": "execute_result"
    }
   ],
   "source": [
    "data[1,0:3]"
   ]
  },
  {
   "cell_type": "code",
   "execution_count": 61,
   "id": "9bdc9e75-3c72-43d7-819e-5c01ab37090f",
   "metadata": {},
   "outputs": [
    {
     "data": {
      "text/plain": [
       "np.int64(77)"
      ]
     },
     "execution_count": 61,
     "metadata": {},
     "output_type": "execute_result"
    }
   ],
   "source": [
    "data[-1,-1]"
   ]
  },
  {
   "cell_type": "code",
   "execution_count": 62,
   "id": "920b3604-f0b8-46b1-846d-cb07c83c8f07",
   "metadata": {},
   "outputs": [
    {
     "data": {
      "text/plain": [
       "np.int64(92)"
      ]
     },
     "execution_count": 62,
     "metadata": {},
     "output_type": "execute_result"
    }
   ],
   "source": [
    "data[-2,-3]"
   ]
  },
  {
   "cell_type": "code",
   "execution_count": 64,
   "id": "90f63527-1008-4d82-9f5e-980459be8c93",
   "metadata": {},
   "outputs": [
    {
     "data": {
      "text/plain": [
       "array([0. , 0.5, 1. ])"
      ]
     },
     "execution_count": 64,
     "metadata": {},
     "output_type": "execute_result"
    }
   ],
   "source": [
    "np.linspace(0,1,3)"
   ]
  },
  {
   "cell_type": "code",
   "execution_count": 65,
   "id": "f22c6880-e33b-481a-b953-75dad05dd1b0",
   "metadata": {},
   "outputs": [
    {
     "data": {
      "text/plain": [
       "array([[0.23240208, 0.94180911, 0.52618398, 0.00340176, 0.23933654,\n",
       "        0.69788201, 0.98436639, 0.13798736, 0.03175654, 0.06449246,\n",
       "        0.70410249, 0.87630308, 0.53067968, 0.08787625, 0.49901978],\n",
       "       [0.96822893, 0.47100836, 0.19460293, 0.3645027 , 0.45368361,\n",
       "        0.81796564, 0.25565834, 0.47970829, 0.51749456, 0.44212664,\n",
       "        0.01811642, 0.14133525, 0.90676574, 0.69386772, 0.5622434 ],\n",
       "       [0.92696861, 0.7501788 , 0.37968786, 0.64271188, 0.19377456,\n",
       "        0.79687948, 0.12884676, 0.36742886, 0.76335087, 0.66763814,\n",
       "        0.46215853, 0.56006586, 0.49138542, 0.71973539, 0.61531084],\n",
       "       [0.54719446, 0.01026757, 0.61257381, 0.45809495, 0.16152123,\n",
       "        0.29706204, 0.48490511, 0.4533273 , 0.94840743, 0.02188012,\n",
       "        0.64237054, 0.02674922, 0.66042897, 0.67909624, 0.2294928 ],\n",
       "       [0.47086891, 0.037947  , 0.25752565, 0.86598602, 0.29999428,\n",
       "        0.95242721, 0.89741013, 0.77724967, 0.02701704, 0.98922604,\n",
       "        0.35639617, 0.02092893, 0.41951932, 0.83067646, 0.19273216]])"
      ]
     },
     "execution_count": 65,
     "metadata": {},
     "output_type": "execute_result"
    }
   ],
   "source": [
    "np.random.rand(5,15)"
   ]
  },
  {
   "cell_type": "code",
   "execution_count": 67,
   "id": "f1c36ec6-912e-45ab-a64c-9572dfc8c8bc",
   "metadata": {},
   "outputs": [
    {
     "data": {
      "text/plain": [
       "array([[[0.16447317, 0.8342078 , 0.63259211],\n",
       "        [0.81683449, 0.32177453, 0.98435457],\n",
       "        [0.89459997, 0.16006747, 0.88868772],\n",
       "        [0.76770097, 0.77310356, 0.60918751],\n",
       "        [0.58585363, 0.76064642, 0.29020522],\n",
       "        [0.40170449, 0.13470418, 0.94847284],\n",
       "        [0.29389731, 0.4947498 , 0.4211526 ],\n",
       "        [0.79061202, 0.20929074, 0.27846386],\n",
       "        [0.37904365, 0.50207801, 0.39610646],\n",
       "        [0.83321909, 0.15863706, 0.73673811],\n",
       "        [0.65753666, 0.89233812, 0.49965198],\n",
       "        [0.57525586, 0.06169136, 0.35398546],\n",
       "        [0.4570784 , 0.05192266, 0.90493529],\n",
       "        [0.43298668, 0.63738159, 0.42025255],\n",
       "        [0.99361517, 0.21467766, 0.14566019]],\n",
       "\n",
       "       [[0.00144471, 0.26763143, 0.09804041],\n",
       "        [0.7448914 , 0.31850154, 0.91695855],\n",
       "        [0.80761621, 0.45962586, 0.56386315],\n",
       "        [0.40377411, 0.15041298, 0.49893402],\n",
       "        [0.80662305, 0.98426524, 0.32078248],\n",
       "        [0.99149396, 0.00734689, 0.44487514],\n",
       "        [0.61827237, 0.54110879, 0.48548078],\n",
       "        [0.06304296, 0.66339459, 0.65573392],\n",
       "        [0.3695911 , 0.70013211, 0.53491977],\n",
       "        [0.7515299 , 0.50532561, 0.6958469 ],\n",
       "        [0.32469074, 0.10191654, 0.74379492],\n",
       "        [0.1634221 , 0.02511997, 0.13635806],\n",
       "        [0.58912789, 0.49490915, 0.54935749],\n",
       "        [0.12981843, 0.00573555, 0.33774014],\n",
       "        [0.57616188, 0.28961366, 0.55123436]],\n",
       "\n",
       "       [[0.79447333, 0.23486611, 0.07932194],\n",
       "        [0.73857853, 0.21400118, 0.02944965],\n",
       "        [0.38385848, 0.39649084, 0.85765403],\n",
       "        [0.47228855, 0.71283571, 0.5745386 ],\n",
       "        [0.80382421, 0.51192606, 0.51259938],\n",
       "        [0.60722083, 0.54064618, 0.2567337 ],\n",
       "        [0.61310051, 0.9022641 , 0.48895373],\n",
       "        [0.1505868 , 0.97082095, 0.87513915],\n",
       "        [0.41055205, 0.77215254, 0.66219938],\n",
       "        [0.23424089, 0.70169925, 0.07354953],\n",
       "        [0.58195485, 0.29455389, 0.71433922],\n",
       "        [0.90925764, 0.22005171, 0.98064568],\n",
       "        [0.27672198, 0.62094946, 0.22407941],\n",
       "        [0.08655377, 0.53289909, 0.02280431],\n",
       "        [0.12596419, 0.50660468, 0.2489022 ]],\n",
       "\n",
       "       [[0.43158645, 0.37109417, 0.37274984],\n",
       "        [0.66473488, 0.35049158, 0.12836323],\n",
       "        [0.66910207, 0.27368914, 0.51554186],\n",
       "        [0.82273585, 0.32043484, 0.01911776],\n",
       "        [0.03213922, 0.95352878, 0.43779268],\n",
       "        [0.30353769, 0.66088565, 0.30117069],\n",
       "        [0.08132264, 0.81285715, 0.33647189],\n",
       "        [0.4062902 , 0.46134257, 0.9165146 ],\n",
       "        [0.01533597, 0.88306263, 0.69850578],\n",
       "        [0.15839155, 0.45078818, 0.77076439],\n",
       "        [0.58412777, 0.37379055, 0.02377295],\n",
       "        [0.27956419, 0.4601743 , 0.56039065],\n",
       "        [0.53605751, 0.21300687, 0.19794096],\n",
       "        [0.49893224, 0.66986614, 0.18932638],\n",
       "        [0.55666589, 0.43049374, 0.59347017]],\n",
       "\n",
       "       [[0.93796319, 0.54534224, 0.06043392],\n",
       "        [0.95462563, 0.79485976, 0.74655784],\n",
       "        [0.77314518, 0.76088011, 0.39366663],\n",
       "        [0.6114411 , 0.01547256, 0.50323848],\n",
       "        [0.01678141, 0.01059146, 0.34735164],\n",
       "        [0.25436008, 0.32653655, 0.89086494],\n",
       "        [0.2127766 , 0.87416695, 0.53310465],\n",
       "        [0.94640478, 0.11949778, 0.32422337],\n",
       "        [0.09024656, 0.29928606, 0.78932152],\n",
       "        [0.20519462, 0.67324452, 0.48611299],\n",
       "        [0.38731408, 0.96398095, 0.92748115],\n",
       "        [0.02775426, 0.52443285, 0.33382779],\n",
       "        [0.81413022, 0.28408328, 0.09351803],\n",
       "        [0.4944733 , 0.96236569, 0.26831339],\n",
       "        [0.27998974, 0.79304523, 0.561868  ]]])"
      ]
     },
     "execution_count": 67,
     "metadata": {},
     "output_type": "execute_result"
    }
   ],
   "source": [
    "np.random.rand(5,15,3)"
   ]
  },
  {
   "cell_type": "code",
   "execution_count": 68,
   "id": "07d7e829-eb9b-497f-8367-4ea7df68690a",
   "metadata": {},
   "outputs": [
    {
     "data": {
      "text/plain": [
       "array([[0.30074682, 0.6063296 ]])"
      ]
     },
     "execution_count": 68,
     "metadata": {},
     "output_type": "execute_result"
    }
   ],
   "source": [
    "np.random.rand(1,2)"
   ]
  },
  {
   "cell_type": "code",
   "execution_count": 69,
   "id": "6d35471b-4e2b-42a9-96f3-438b13b83602",
   "metadata": {},
   "outputs": [
    {
     "data": {
      "text/plain": [
       "array([[[0.48933606, 0.54395218, 0.60357956],\n",
       "        [0.08796777, 0.37409359, 0.3793882 ]]])"
      ]
     },
     "execution_count": 69,
     "metadata": {},
     "output_type": "execute_result"
    }
   ],
   "source": [
    "np.random.rand(1,2,3)"
   ]
  },
  {
   "cell_type": "code",
   "execution_count": 70,
   "id": "d3236610-5e07-46f0-9a83-a395a837e5b9",
   "metadata": {},
   "outputs": [
    {
     "data": {
      "text/plain": [
       "array([0.48465173, 0.40502036, 0.62831254, 0.86164587, 0.20307345,\n",
       "       0.97655797])"
      ]
     },
     "execution_count": 70,
     "metadata": {},
     "output_type": "execute_result"
    }
   ],
   "source": [
    "np.random.rand(6)"
   ]
  },
  {
   "cell_type": "code",
   "execution_count": 71,
   "id": "57c6882e-9ebf-4955-aa38-b1248fcc5791",
   "metadata": {},
   "outputs": [
    {
     "data": {
      "text/plain": [
       "array([-0.88659922, -1.50289161,  0.79011741,  0.91597751,  0.71639778,\n",
       "       -0.52017812])"
      ]
     },
     "execution_count": 71,
     "metadata": {},
     "output_type": "execute_result"
    }
   ],
   "source": [
    "np.random.randn(6)"
   ]
  },
  {
   "cell_type": "code",
   "execution_count": 72,
   "id": "38b99b68-eec4-44a5-8014-2075887c9090",
   "metadata": {},
   "outputs": [
    {
     "data": {
      "text/plain": [
       "array([[ 0.85333633, -0.38783115, -0.64034259, -0.4334339 , -0.23073551],\n",
       "       [-0.32452231,  1.58906919, -1.79181459,  0.9306051 ,  0.7616723 ],\n",
       "       [-0.21340739, -0.91468329, -0.45155439, -1.11687111,  0.77875561]])"
      ]
     },
     "execution_count": 72,
     "metadata": {},
     "output_type": "execute_result"
    }
   ],
   "source": [
    "np.random.randn(3,5)"
   ]
  },
  {
   "cell_type": "code",
   "execution_count": 73,
   "id": "1b024b50-4108-4f1e-ac25-1354d8133f27",
   "metadata": {},
   "outputs": [
    {
     "data": {
      "text/plain": [
       "array([[[-1.79087446,  1.1766642 , -2.04034536, -1.09765996],\n",
       "        [ 0.58196349,  0.50227239, -0.60618873, -1.10350465],\n",
       "        [-0.24618635,  0.82418616,  0.3804621 , -0.98125003],\n",
       "        [ 1.30359129,  0.32921074,  0.03953203, -0.30615649],\n",
       "        [ 0.20291909, -0.35486512, -1.06716783,  0.47292095]],\n",
       "\n",
       "       [[ 0.58138508, -0.80757392, -0.75136938,  0.37474164],\n",
       "        [ 0.19356193,  0.43650629,  0.07616324, -0.14262201],\n",
       "        [ 0.43481327,  0.16302298,  0.81169374,  2.3485039 ],\n",
       "        [ 0.99888881, -0.30842324,  0.6131515 , -1.37609138],\n",
       "        [ 0.76441247, -0.35277192, -1.02496891, -0.77410695]],\n",
       "\n",
       "       [[ 0.11820076, -0.3457304 ,  0.76136037,  0.5775312 ],\n",
       "        [-0.01832095,  0.79488868,  1.08296938,  0.22713891],\n",
       "        [-0.28545837,  1.14158008,  0.24248277,  0.84027776],\n",
       "        [ 1.20527236, -1.01568069, -0.13108074, -0.49372331],\n",
       "        [ 0.71046419,  1.02068402,  0.35611911,  0.74212882]]])"
      ]
     },
     "execution_count": 73,
     "metadata": {},
     "output_type": "execute_result"
    }
   ],
   "source": [
    "np.random.randn(3,5,4)"
   ]
  },
  {
   "cell_type": "code",
   "execution_count": 74,
   "id": "10398baa-3b3b-4fa2-a991-c78baf56159e",
   "metadata": {},
   "outputs": [
    {
     "data": {
      "text/plain": [
       "array([5, 5, 4], dtype=int32)"
      ]
     },
     "execution_count": 74,
     "metadata": {},
     "output_type": "execute_result"
    }
   ],
   "source": [
    "np.random.randint(4,7,3)"
   ]
  },
  {
   "cell_type": "code",
   "execution_count": 76,
   "id": "f1cb0504-dc5a-4c1a-90c5-dd8ffabaae59",
   "metadata": {},
   "outputs": [
    {
     "data": {
      "text/plain": [
       "(10, 5)"
      ]
     },
     "execution_count": 76,
     "metadata": {},
     "output_type": "execute_result"
    }
   ],
   "source": [
    "data.shape"
   ]
  },
  {
   "cell_type": "code",
   "execution_count": 78,
   "id": "2b441ff6-2ed4-4d60-96b1-9a6228eccee5",
   "metadata": {},
   "outputs": [
    {
     "data": {
      "text/plain": [
       "50"
      ]
     },
     "execution_count": 78,
     "metadata": {},
     "output_type": "execute_result"
    }
   ],
   "source": [
    "data.size"
   ]
  },
  {
   "cell_type": "code",
   "execution_count": 79,
   "id": "695da16d-a010-4b47-95ec-db16bc6174c3",
   "metadata": {},
   "outputs": [
    {
     "data": {
      "text/plain": [
       "2"
      ]
     },
     "execution_count": 79,
     "metadata": {},
     "output_type": "execute_result"
    }
   ],
   "source": [
    "data.ndim"
   ]
  },
  {
   "cell_type": "code",
   "execution_count": 80,
   "id": "de0beb0f-c68d-437b-a236-3bbd3ece592a",
   "metadata": {},
   "outputs": [
    {
     "data": {
      "text/plain": [
       "dtype('int64')"
      ]
     },
     "execution_count": 80,
     "metadata": {},
     "output_type": "execute_result"
    }
   ],
   "source": [
    "data.dtype"
   ]
  },
  {
   "cell_type": "code",
   "execution_count": 81,
   "id": "4f1179b5-78f8-4c12-86d6-4f9fa55f1eb1",
   "metadata": {},
   "outputs": [
    {
     "data": {
      "text/plain": [
       "8"
      ]
     },
     "execution_count": 81,
     "metadata": {},
     "output_type": "execute_result"
    }
   ],
   "source": [
    "data.itemsize"
   ]
  },
  {
   "cell_type": "code",
   "execution_count": 83,
   "id": "0c190701-6f61-4020-9899-dee6fc75a758",
   "metadata": {},
   "outputs": [
    {
     "data": {
      "text/plain": [
       "array([[  1,   2,   3,   4,   5,   6,   7,   8,   9,  10],\n",
       "       [ 78,  56,  89,  45,  99,  67,  80,  54,  91,  73],\n",
       "       [ 85,  72,  94,  60, 100,  76,  85,  61,  92,  78],\n",
       "       [ 92,  65,  90,  52,  95,  72,  88,  57,  94,  75],\n",
       "       [ 88,  70,  96,  58,  98,  74,  82,  63,  90,  77]])"
      ]
     },
     "execution_count": 83,
     "metadata": {},
     "output_type": "execute_result"
    }
   ],
   "source": [
    "data.T"
   ]
  },
  {
   "cell_type": "code",
   "execution_count": 85,
   "id": "845dea2c-3987-4c64-8af8-e749364b5928",
   "metadata": {},
   "outputs": [
    {
     "data": {
      "text/plain": [
       "np.int64(72)"
      ]
     },
     "execution_count": 85,
     "metadata": {},
     "output_type": "execute_result"
    }
   ],
   "source": [
    "data[5,3]"
   ]
  },
  {
   "cell_type": "code",
   "execution_count": 86,
   "id": "99955307-20f2-40ad-8ebd-deb5a05adda3",
   "metadata": {},
   "outputs": [
    {
     "data": {
      "text/plain": [
       "array([ 85,  72,  94,  60, 100,  76,  85,  61,  92,  78])"
      ]
     },
     "execution_count": 86,
     "metadata": {},
     "output_type": "execute_result"
    }
   ],
   "source": [
    "data[:,2]"
   ]
  },
  {
   "cell_type": "code",
   "execution_count": 87,
   "id": "625be9e0-d8b3-499d-b411-27adc70277b3",
   "metadata": {},
   "outputs": [
    {
     "data": {
      "text/plain": [
       "array([[  1,   2,   3,   4,   5,   6,   7,   8,   9,  10],\n",
       "       [ 78,  56,  89,  45,  99,  67,  80,  54,  91,  73],\n",
       "       [ 85,  72,  94,  60, 100,  76,  85,  61,  92,  78],\n",
       "       [ 92,  65,  90,  52,  95,  72,  88,  57,  94,  75],\n",
       "       [ 88,  70,  96,  58,  98,  74,  82,  63,  90,  77]])"
      ]
     },
     "execution_count": 87,
     "metadata": {},
     "output_type": "execute_result"
    }
   ],
   "source": [
    "data.T"
   ]
  },
  {
   "cell_type": "code",
   "execution_count": 88,
   "id": "60028523-39c3-48d8-94b9-3b3897574bb3",
   "metadata": {},
   "outputs": [
    {
     "data": {
      "text/plain": [
       "array([[ 2, 56, 72, 65, 70],\n",
       "       [ 3, 89, 94, 90, 96],\n",
       "       [ 4, 45, 60, 52, 58]])"
      ]
     },
     "execution_count": 88,
     "metadata": {},
     "output_type": "execute_result"
    }
   ],
   "source": [
    "data[1:4, :]"
   ]
  },
  {
   "cell_type": "code",
   "execution_count": 89,
   "id": "2ab9f1fb-0b42-44d5-a807-dc116d009d62",
   "metadata": {},
   "outputs": [
    {
     "data": {
      "text/plain": [
       "array([[  1,  85],\n",
       "       [  2,  72],\n",
       "       [  3,  94],\n",
       "       [  4,  60],\n",
       "       [  5, 100],\n",
       "       [  6,  76],\n",
       "       [  7,  85],\n",
       "       [  8,  61],\n",
       "       [  9,  92],\n",
       "       [ 10,  78]])"
      ]
     },
     "execution_count": 89,
     "metadata": {},
     "output_type": "execute_result"
    }
   ],
   "source": [
    "data[:, [0,2]]"
   ]
  },
  {
   "cell_type": "code",
   "execution_count": 90,
   "id": "ccc5539c-0386-4731-a74b-83f578bcd1d6",
   "metadata": {},
   "outputs": [
    {
     "data": {
      "text/plain": [
       "array([[  1,  85,  88],\n",
       "       [  3,  94,  96],\n",
       "       [  5, 100,  98],\n",
       "       [  7,  85,  82],\n",
       "       [  9,  92,  90]])"
      ]
     },
     "execution_count": 90,
     "metadata": {},
     "output_type": "execute_result"
    }
   ],
   "source": [
    "data[::2, ::2]"
   ]
  },
  {
   "cell_type": "code",
   "execution_count": 91,
   "id": "63dd8f48-1631-4d37-aa6f-ec16559b206a",
   "metadata": {},
   "outputs": [
    {
     "data": {
      "text/plain": [
       "array([[77, 78, 10],\n",
       "       [63, 61,  8],\n",
       "       [74, 76,  6],\n",
       "       [58, 60,  4],\n",
       "       [70, 72,  2]])"
      ]
     },
     "execution_count": 91,
     "metadata": {},
     "output_type": "execute_result"
    }
   ],
   "source": [
    "data[::-2,::-2]"
   ]
  },
  {
   "cell_type": "code",
   "execution_count": 92,
   "id": "824c7da7-1f70-4485-8be9-0910b404374c",
   "metadata": {},
   "outputs": [
    {
     "data": {
      "text/plain": [
       "array([ 78,  85,  92,  88,  56,  72,  65,  70,  89,  94,  90,  96,  45,\n",
       "        60,  52,  58,  99, 100,  95,  98,   6,  67,  76,  72,  74,   7,\n",
       "        80,  85,  88,  82,   8,  54,  61,  57,  63,   9,  91,  92,  94,\n",
       "        90,  10,  73,  78,  75,  77])"
      ]
     },
     "execution_count": 92,
     "metadata": {},
     "output_type": "execute_result"
    }
   ],
   "source": [
    "data[data>5]"
   ]
  },
  {
   "cell_type": "code",
   "execution_count": 95,
   "id": "0f03c507-6b35-4bda-938b-fccc3286d46e",
   "metadata": {},
   "outputs": [
    {
     "data": {
      "text/plain": [
       "np.int64(7)"
      ]
     },
     "execution_count": 95,
     "metadata": {},
     "output_type": "execute_result"
    }
   ],
   "source": [
    "np.add(4,3)"
   ]
  },
  {
   "cell_type": "code",
   "execution_count": 96,
   "id": "813af0f0-bce0-4060-bec1-cbc31a8bd1d3",
   "metadata": {},
   "outputs": [
    {
     "data": {
      "text/plain": [
       "np.int64(3166)"
      ]
     },
     "execution_count": 96,
     "metadata": {},
     "output_type": "execute_result"
    }
   ],
   "source": [
    "np.sum(data)"
   ]
  },
  {
   "cell_type": "code",
   "execution_count": 97,
   "id": "a47309a3-588a-454a-a9bc-f03c83503a51",
   "metadata": {},
   "outputs": [
    {
     "data": {
      "text/plain": [
       "np.float64(63.32)"
      ]
     },
     "execution_count": 97,
     "metadata": {},
     "output_type": "execute_result"
    }
   ],
   "source": [
    "np.mean(data)"
   ]
  },
  {
   "cell_type": "code",
   "execution_count": 98,
   "id": "a12a8e21-c489-444c-ba6e-9accd09db6dd",
   "metadata": {},
   "outputs": [
    {
     "data": {
      "text/plain": [
       "np.float64(73.5)"
      ]
     },
     "execution_count": 98,
     "metadata": {},
     "output_type": "execute_result"
    }
   ],
   "source": [
    "np.median(data)"
   ]
  },
  {
   "cell_type": "code",
   "execution_count": 99,
   "id": "8eb7d635-26cf-4d56-b50f-61ef5ec8bba1",
   "metadata": {},
   "outputs": [
    {
     "data": {
      "text/plain": [
       "np.float64(31.80970920961083)"
      ]
     },
     "execution_count": 99,
     "metadata": {},
     "output_type": "execute_result"
    }
   ],
   "source": [
    "np.std(data)"
   ]
  },
  {
   "cell_type": "code",
   "execution_count": 100,
   "id": "795b7dfb-b142-45b8-89e0-559656ac6a98",
   "metadata": {},
   "outputs": [
    {
     "data": {
      "text/plain": [
       "np.float64(1011.8575999999999)"
      ]
     },
     "execution_count": 100,
     "metadata": {},
     "output_type": "execute_result"
    }
   ],
   "source": [
    "np.var(data)"
   ]
  },
  {
   "cell_type": "code",
   "execution_count": 101,
   "id": "964b7e03-1450-4de9-9059-c5c908b2d360",
   "metadata": {},
   "outputs": [
    {
     "data": {
      "text/plain": [
       "np.int64(1)"
      ]
     },
     "execution_count": 101,
     "metadata": {},
     "output_type": "execute_result"
    }
   ],
   "source": [
    "np.min(data)"
   ]
  },
  {
   "cell_type": "code",
   "execution_count": 102,
   "id": "0c27a340-0a87-4928-abe3-711a4a0c03b5",
   "metadata": {},
   "outputs": [
    {
     "data": {
      "text/plain": [
       "np.int64(100)"
      ]
     },
     "execution_count": 102,
     "metadata": {},
     "output_type": "execute_result"
    }
   ],
   "source": [
    "np.max(data)"
   ]
  },
  {
   "cell_type": "code",
   "execution_count": 103,
   "id": "f15254b6-a41e-4823-9cee-562f5e8c84de",
   "metadata": {},
   "outputs": [
    {
     "data": {
      "text/plain": [
       "np.int64(0)"
      ]
     },
     "execution_count": 103,
     "metadata": {},
     "output_type": "execute_result"
    }
   ],
   "source": [
    "np.argmin(data)"
   ]
  },
  {
   "cell_type": "code",
   "execution_count": 104,
   "id": "4c673fb3-318d-4553-8821-72a4052355c2",
   "metadata": {},
   "outputs": [
    {
     "data": {
      "text/plain": [
       "np.int64(22)"
      ]
     },
     "execution_count": 104,
     "metadata": {},
     "output_type": "execute_result"
    }
   ],
   "source": [
    "np.argmax(data)"
   ]
  },
  {
   "cell_type": "code",
   "execution_count": 105,
   "id": "788fcd21-8af7-4994-949e-7159bf1054c9",
   "metadata": {},
   "outputs": [
    {
     "data": {
      "text/plain": [
       "np.float64(93.26)"
      ]
     },
     "execution_count": 105,
     "metadata": {},
     "output_type": "execute_result"
    }
   ],
   "source": [
    "np.percentile(data, 87)"
   ]
  },
  {
   "cell_type": "code",
   "execution_count": 106,
   "id": "d51cb0a7-1a5a-4034-bd0a-5528dcb192a6",
   "metadata": {},
   "outputs": [
    {
     "data": {
      "text/plain": [
       "array([   1,   79,  164,  256,  344,  346,  402,  474,  539,  609,  612,\n",
       "        701,  795,  885,  981,  985, 1030, 1090, 1142, 1200, 1205, 1304,\n",
       "       1404, 1499, 1597, 1603, 1670, 1746, 1818, 1892, 1899, 1979, 2064,\n",
       "       2152, 2234, 2242, 2296, 2357, 2414, 2477, 2486, 2577, 2669, 2763,\n",
       "       2853, 2863, 2936, 3014, 3089, 3166])"
      ]
     },
     "execution_count": 106,
     "metadata": {},
     "output_type": "execute_result"
    }
   ],
   "source": [
    "np.cumsum(data)"
   ]
  },
  {
   "cell_type": "code",
   "execution_count": 108,
   "id": "b470812f-6304-4602-abb7-ef50089269e0",
   "metadata": {},
   "outputs": [
    {
     "data": {
      "text/plain": [
       "array([                   1,                   78,                 6630,\n",
       "                     609960,             53676480,            107352960,\n",
       "                 6011765760,         432847134720,       28135063756800,\n",
       "           1969454462976000,     5908363388928000,   525844341614592000,\n",
       "       -5910864109357006848,  2977808295446380544,  9168435257209257984,\n",
       "        -219747118582071296,  8558123737516343296, -3021409812886847488,\n",
       "        8907386393269895168,   119576745786474496,   597883728932372480,\n",
       "        3850256943176220672, -2355931230278516736, -2452537991944470528,\n",
       "        -541050252333940736, -3246301514003644416,  3858727446270443520,\n",
       "       -1884619262799118336, -6565378405569658880, -6222656095706415104,\n",
       "       -6665104522525802496,  1747216335512797184,   939435928911347712,\n",
       "        8883385449360392192,  9014587972879646720, -1670272511801032704,\n",
       "        2039004731291992064, -4747919907155345408,  6069726397788585984,\n",
       "       -4988862487219666944, -8006274237557899264, -9147936743096320000,\n",
       "        6940047025777934336,  6728377843291521024, -3188548536178311168,\n",
       "        5008002785635991552, -3350678122763649024, -3098476543630901248,\n",
       "        7421932185906577408,  -360287970189639680])"
      ]
     },
     "execution_count": 108,
     "metadata": {},
     "output_type": "execute_result"
    }
   ],
   "source": [
    "np.cumprod(data)"
   ]
  },
  {
   "cell_type": "markdown",
   "id": "19c40164-0e2f-4420-96ac-f4e95f74eb9a",
   "metadata": {},
   "source": []
  },
  {
   "cell_type": "markdown",
   "id": "1cbb0367-f1cc-419c-99ca-2482abb453e2",
   "metadata": {},
   "source": [
    "np.dot(6,9)"
   ]
  },
  {
   "cell_type": "code",
   "execution_count": 115,
   "id": "071f8db3-887c-40e1-bda1-25bfb7e7e82b",
   "metadata": {},
   "outputs": [],
   "source": [
    "a = np.array([[1,2,3,4,5,6,7,8,9],[3,4,5,6,7,7,9,6,5]])"
   ]
  },
  {
   "cell_type": "code",
   "execution_count": 118,
   "id": "0b4f37cb-06c3-4822-9d5d-efb2d3543570",
   "metadata": {},
   "outputs": [
    {
     "data": {
      "text/plain": [
       "array([[1, 2, 3, 4, 5, 6, 7, 8, 9],\n",
       "       [3, 4, 5, 6, 7, 7, 9, 6, 5]])"
      ]
     },
     "execution_count": 118,
     "metadata": {},
     "output_type": "execute_result"
    }
   ],
   "source": [
    "a"
   ]
  },
  {
   "cell_type": "code",
   "execution_count": 123,
   "id": "4db6a3e9-d4b3-4858-966e-7dfa10cdb1ce",
   "metadata": {},
   "outputs": [
    {
     "data": {
      "text/plain": [
       "array([[1, 2, 3, 4, 5, 6],\n",
       "       [7, 8, 9, 3, 4, 5],\n",
       "       [6, 7, 7, 9, 6, 5]])"
      ]
     },
     "execution_count": 123,
     "metadata": {},
     "output_type": "execute_result"
    }
   ],
   "source": [
    "a.reshape(3,6)"
   ]
  },
  {
   "cell_type": "code",
   "execution_count": 124,
   "id": "037fbc9b-b4e9-4b8d-a264-1d732cc9cb14",
   "metadata": {},
   "outputs": [
    {
     "data": {
      "text/plain": [
       "array([1, 2, 3, 4, 5, 6, 7, 8, 9, 3, 4, 5, 6, 7, 7, 9, 6, 5])"
      ]
     },
     "execution_count": 124,
     "metadata": {},
     "output_type": "execute_result"
    }
   ],
   "source": [
    "a.flatten()"
   ]
  },
  {
   "cell_type": "code",
   "execution_count": 126,
   "id": "8c48fa92-976e-429a-9e7d-1fcaa0d55771",
   "metadata": {},
   "outputs": [
    {
     "data": {
      "text/plain": [
       "array([1, 2, 3, 4, 5, 6, 7, 8, 9, 3, 4, 5, 6, 7, 7, 9, 6, 5])"
      ]
     },
     "execution_count": 126,
     "metadata": {},
     "output_type": "execute_result"
    }
   ],
   "source": [
    "a.ravel()"
   ]
  },
  {
   "cell_type": "code",
   "execution_count": 128,
   "id": "9c707275-0bb7-4044-abc0-892dbb49d2f3",
   "metadata": {},
   "outputs": [
    {
     "data": {
      "text/plain": [
       "array([[1, 3],\n",
       "       [2, 4],\n",
       "       [3, 5],\n",
       "       [4, 6],\n",
       "       [5, 7],\n",
       "       [6, 7],\n",
       "       [7, 9],\n",
       "       [8, 6],\n",
       "       [9, 5]])"
      ]
     },
     "execution_count": 128,
     "metadata": {},
     "output_type": "execute_result"
    }
   ],
   "source": [
    "a.transpose()"
   ]
  },
  {
   "cell_type": "code",
   "execution_count": 129,
   "id": "866be12c-5b74-4955-9a42-abaf83480a0f",
   "metadata": {},
   "outputs": [],
   "source": [
    "a.resize(2,9)"
   ]
  },
  {
   "cell_type": "code",
   "execution_count": 130,
   "id": "480334a7-b72e-4f4c-9e40-40fe10b03028",
   "metadata": {},
   "outputs": [
    {
     "data": {
      "text/plain": [
       "array([[1, 2, 3, 4, 5, 6, 7, 8, 9],\n",
       "       [3, 4, 5, 6, 7, 7, 9, 6, 5]])"
      ]
     },
     "execution_count": 130,
     "metadata": {},
     "output_type": "execute_result"
    }
   ],
   "source": [
    "a"
   ]
  },
  {
   "cell_type": "code",
   "execution_count": 131,
   "id": "a6355178-9d2b-4807-b11e-c97ce5fc6bdc",
   "metadata": {},
   "outputs": [
    {
     "data": {
      "text/plain": [
       "array([[[1, 2, 3, 4, 5, 6, 7, 8, 9],\n",
       "        [3, 4, 5, 6, 7, 7, 9, 6, 5]]])"
      ]
     },
     "execution_count": 131,
     "metadata": {},
     "output_type": "execute_result"
    }
   ],
   "source": [
    "np.expand_dims(a, axis=0)"
   ]
  },
  {
   "cell_type": "code",
   "execution_count": 132,
   "id": "39f52300-3efe-4aa7-8e7b-a6d8ab589e95",
   "metadata": {},
   "outputs": [
    {
     "data": {
      "text/plain": [
       "array([5, 8])"
      ]
     },
     "execution_count": 132,
     "metadata": {},
     "output_type": "execute_result"
    }
   ],
   "source": [
    "np.hstack([5,8])"
   ]
  },
  {
   "cell_type": "code",
   "execution_count": 133,
   "id": "22eaf137-8cf9-4074-ae3b-193d9255e983",
   "metadata": {},
   "outputs": [
    {
     "data": {
      "text/plain": [
       "array([[5],\n",
       "       [8]])"
      ]
     },
     "execution_count": 133,
     "metadata": {},
     "output_type": "execute_result"
    }
   ],
   "source": [
    "np.vstack([5,8])"
   ]
  },
  {
   "cell_type": "code",
   "execution_count": 137,
   "id": "626e91f5-e2e7-475c-840b-b13ea05081c2",
   "metadata": {},
   "outputs": [
    {
     "data": {
      "text/plain": [
       "[array([[ 1, 78, 85, 92, 88],\n",
       "        [ 2, 56, 72, 65, 70]]),\n",
       " array([[ 3, 89, 94, 90, 96],\n",
       "        [ 4, 45, 60, 52, 58]]),\n",
       " array([[  5,  99, 100,  95,  98],\n",
       "        [  6,  67,  76,  72,  74]]),\n",
       " array([[ 7, 80, 85, 88, 82],\n",
       "        [ 8, 54, 61, 57, 63]]),\n",
       " array([[ 9, 91, 92, 94, 90],\n",
       "        [10, 73, 78, 75, 77]])]"
      ]
     },
     "execution_count": 137,
     "metadata": {},
     "output_type": "execute_result"
    }
   ],
   "source": [
    "np.split(data,5)"
   ]
  },
  {
   "cell_type": "code",
   "execution_count": 138,
   "id": "2c3d5f2a-fcf3-4dec-9955-627205dc2a52",
   "metadata": {},
   "outputs": [
    {
     "data": {
      "text/plain": [
       "[array([[ 1],\n",
       "        [ 2],\n",
       "        [ 3],\n",
       "        [ 4],\n",
       "        [ 5],\n",
       "        [ 6],\n",
       "        [ 7],\n",
       "        [ 8],\n",
       "        [ 9],\n",
       "        [10]]),\n",
       " array([[78],\n",
       "        [56],\n",
       "        [89],\n",
       "        [45],\n",
       "        [99],\n",
       "        [67],\n",
       "        [80],\n",
       "        [54],\n",
       "        [91],\n",
       "        [73]]),\n",
       " array([[ 85],\n",
       "        [ 72],\n",
       "        [ 94],\n",
       "        [ 60],\n",
       "        [100],\n",
       "        [ 76],\n",
       "        [ 85],\n",
       "        [ 61],\n",
       "        [ 92],\n",
       "        [ 78]]),\n",
       " array([[92],\n",
       "        [65],\n",
       "        [90],\n",
       "        [52],\n",
       "        [95],\n",
       "        [72],\n",
       "        [88],\n",
       "        [57],\n",
       "        [94],\n",
       "        [75]]),\n",
       " array([[88],\n",
       "        [70],\n",
       "        [96],\n",
       "        [58],\n",
       "        [98],\n",
       "        [74],\n",
       "        [82],\n",
       "        [63],\n",
       "        [90],\n",
       "        [77]])]"
      ]
     },
     "execution_count": 138,
     "metadata": {},
     "output_type": "execute_result"
    }
   ],
   "source": [
    "np.hsplit(data,5)"
   ]
  },
  {
   "cell_type": "code",
   "execution_count": 139,
   "id": "33850a00-4d4b-4363-b352-a0309e9e6a83",
   "metadata": {},
   "outputs": [
    {
     "data": {
      "text/plain": [
       "[array([[ 1, 78, 85, 92, 88],\n",
       "        [ 2, 56, 72, 65, 70]]),\n",
       " array([[ 3, 89, 94, 90, 96],\n",
       "        [ 4, 45, 60, 52, 58]]),\n",
       " array([[  5,  99, 100,  95,  98],\n",
       "        [  6,  67,  76,  72,  74]]),\n",
       " array([[ 7, 80, 85, 88, 82],\n",
       "        [ 8, 54, 61, 57, 63]]),\n",
       " array([[ 9, 91, 92, 94, 90],\n",
       "        [10, 73, 78, 75, 77]])]"
      ]
     },
     "execution_count": 139,
     "metadata": {},
     "output_type": "execute_result"
    }
   ],
   "source": [
    "np.vsplit(data,5)"
   ]
  },
  {
   "cell_type": "code",
   "execution_count": 140,
   "id": "f47f111e-765d-44e5-99c3-4178f9979909",
   "metadata": {},
   "outputs": [
    {
     "data": {
      "text/plain": [
       "array([[  1,  78,  85,  88,  92],\n",
       "       [  2,  56,  65,  70,  72],\n",
       "       [  3,  89,  90,  94,  96],\n",
       "       [  4,  45,  52,  58,  60],\n",
       "       [  5,  95,  98,  99, 100],\n",
       "       [  6,  67,  72,  74,  76],\n",
       "       [  7,  80,  82,  85,  88],\n",
       "       [  8,  54,  57,  61,  63],\n",
       "       [  9,  90,  91,  92,  94],\n",
       "       [ 10,  73,  75,  77,  78]])"
      ]
     },
     "execution_count": 140,
     "metadata": {},
     "output_type": "execute_result"
    }
   ],
   "source": [
    "np.sort(data)"
   ]
  },
  {
   "cell_type": "code",
   "execution_count": 141,
   "id": "fa9a6b49-61e3-4673-bd64-e4200b574e8f",
   "metadata": {},
   "outputs": [
    {
     "data": {
      "text/plain": [
       "array([[0, 1, 2, 4, 3],\n",
       "       [0, 1, 3, 4, 2],\n",
       "       [0, 1, 3, 2, 4],\n",
       "       [0, 1, 3, 4, 2],\n",
       "       [0, 3, 4, 1, 2],\n",
       "       [0, 1, 3, 4, 2],\n",
       "       [0, 1, 4, 2, 3],\n",
       "       [0, 1, 3, 2, 4],\n",
       "       [0, 4, 1, 2, 3],\n",
       "       [0, 1, 3, 4, 2]])"
      ]
     },
     "execution_count": 141,
     "metadata": {},
     "output_type": "execute_result"
    }
   ],
   "source": [
    "np.argsort(data)"
   ]
  },
  {
   "cell_type": "code",
   "execution_count": 142,
   "id": "705df91d-3fd6-49fb-acf3-afb5516fb5f8",
   "metadata": {},
   "outputs": [
    {
     "data": {
      "text/plain": [
       "array([  1,   2,   3,   4,   5,   6,   7,   8,   9,  10,  45,  52,  54,\n",
       "        56,  57,  58,  60,  61,  63,  65,  67,  70,  72,  73,  74,  75,\n",
       "        76,  77,  78,  80,  82,  85,  88,  89,  90,  91,  92,  94,  95,\n",
       "        96,  98,  99, 100])"
      ]
     },
     "execution_count": 142,
     "metadata": {},
     "output_type": "execute_result"
    }
   ],
   "source": [
    "np.unique(data)"
   ]
  },
  {
   "cell_type": "code",
   "execution_count": 143,
   "id": "fe258754-a4c8-4a23-8ad7-9dac59b7ca6e",
   "metadata": {},
   "outputs": [
    {
     "data": {
      "text/plain": [
       "(array([0, 0, 0, 0, 1, 1, 1, 1, 2, 2, 2, 2, 3, 3, 3, 3, 4, 4, 4, 4, 5, 5,\n",
       "        5, 5, 6, 6, 6, 6, 7, 7, 7, 7, 8, 8, 8, 8, 9, 9, 9, 9]),\n",
       " array([1, 2, 3, 4, 1, 2, 3, 4, 1, 2, 3, 4, 1, 2, 3, 4, 1, 2, 3, 4, 1, 2,\n",
       "        3, 4, 1, 2, 3, 4, 1, 2, 3, 4, 1, 2, 3, 4, 1, 2, 3, 4]))"
      ]
     },
     "execution_count": 143,
     "metadata": {},
     "output_type": "execute_result"
    }
   ],
   "source": [
    "np.where(data>10)"
   ]
  },
  {
   "cell_type": "code",
   "execution_count": 144,
   "id": "95ab90eb-ff66-4c42-b929-e8f00f6b2899",
   "metadata": {},
   "outputs": [
    {
     "data": {
      "text/plain": [
       "(array([0, 0, 0, 0, 0, 1, 1, 1, 1, 1, 2, 2, 2, 2, 2, 3, 3, 3, 3, 3, 4, 4,\n",
       "        4, 4, 4, 5, 5, 5, 5, 5, 6, 6, 6, 6, 6, 7, 7, 7, 7, 7, 8, 8, 8, 8,\n",
       "        8, 9, 9, 9, 9, 9]),\n",
       " array([0, 1, 2, 3, 4, 0, 1, 2, 3, 4, 0, 1, 2, 3, 4, 0, 1, 2, 3, 4, 0, 1,\n",
       "        2, 3, 4, 0, 1, 2, 3, 4, 0, 1, 2, 3, 4, 0, 1, 2, 3, 4, 0, 1, 2, 3,\n",
       "        4, 0, 1, 2, 3, 4]))"
      ]
     },
     "execution_count": 144,
     "metadata": {},
     "output_type": "execute_result"
    }
   ],
   "source": [
    "np.nonzero(data)"
   ]
  },
  {
   "cell_type": "code",
   "execution_count": 146,
   "id": "6fbfa594-7d57-4b2e-ab74-be124b71f088",
   "metadata": {},
   "outputs": [
    {
     "name": "stderr",
     "output_type": "stream",
     "text": [
      "C:\\Users\\aashutosh\\AppData\\Local\\Temp\\ipykernel_11004\\3772761484.py:1: DeprecationWarning: `in1d` is deprecated. Use `np.isin` instead.\n",
      "  np.in1d(data,7)\n"
     ]
    },
    {
     "data": {
      "text/plain": [
       "array([False, False, False, False, False, False, False, False, False,\n",
       "       False, False, False, False, False, False, False, False, False,\n",
       "       False, False, False, False, False, False, False, False, False,\n",
       "       False, False, False,  True, False, False, False, False, False,\n",
       "       False, False, False, False, False, False, False, False, False,\n",
       "       False, False, False, False, False])"
      ]
     },
     "execution_count": 146,
     "metadata": {},
     "output_type": "execute_result"
    }
   ],
   "source": [
    "np.in1d(data,7)"
   ]
  },
  {
   "cell_type": "code",
   "execution_count": 147,
   "id": "eb3e22d0-f7a5-4c20-8bc2-ac69dfffba2c",
   "metadata": {},
   "outputs": [
    {
     "data": {
      "text/plain": [
       "array([4, 3, 6, 7, 9, 7, 3, 4])"
      ]
     },
     "execution_count": 147,
     "metadata": {},
     "output_type": "execute_result"
    }
   ],
   "source": [
    "b = np.array([4,3,6,7,9,7,3,4])\n",
    "b"
   ]
  },
  {
   "cell_type": "code",
   "execution_count": 148,
   "id": "e6126b6c-d0ee-4335-905c-ab05820272b5",
   "metadata": {},
   "outputs": [
    {
     "data": {
      "text/plain": [
       "array([1, 2, 3, 4, 5, 6, 7, 8, 9])"
      ]
     },
     "execution_count": 148,
     "metadata": {},
     "output_type": "execute_result"
    }
   ],
   "source": [
    "np.union1d(a,b)"
   ]
  },
  {
   "cell_type": "code",
   "execution_count": 150,
   "id": "e68e343f-f9da-4a22-9587-56a12c30545c",
   "metadata": {},
   "outputs": [
    {
     "data": {
      "text/plain": [
       "array([3, 4, 6, 7, 9])"
      ]
     },
     "execution_count": 150,
     "metadata": {},
     "output_type": "execute_result"
    }
   ],
   "source": [
    "np.intersect1d(a,b)"
   ]
  },
  {
   "cell_type": "code",
   "execution_count": 151,
   "id": "c70934ee-2f92-476d-aa61-b86a09abb1ba",
   "metadata": {},
   "outputs": [
    {
     "data": {
      "text/plain": [
       "array([1, 2, 5, 8])"
      ]
     },
     "execution_count": 151,
     "metadata": {},
     "output_type": "execute_result"
    }
   ],
   "source": [
    "np.setdiff1d(a,b)"
   ]
  },
  {
   "cell_type": "code",
   "execution_count": 153,
   "id": "78cd7cce-d2a6-455f-899f-3d13077607d9",
   "metadata": {},
   "outputs": [
    {
     "data": {
      "text/plain": [
       "array([1, 2, 5, 8])"
      ]
     },
     "execution_count": 153,
     "metadata": {},
     "output_type": "execute_result"
    }
   ],
   "source": [
    "np.setxor1d(a,b)"
   ]
  },
  {
   "cell_type": "code",
   "execution_count": null,
   "id": "e20e9602-7998-4418-a2d7-33cce8a6ea16",
   "metadata": {},
   "outputs": [],
   "source": []
  },
  {
   "cell_type": "code",
   "execution_count": null,
   "id": "44d8a180-4848-492c-bed9-3a6caadf2d33",
   "metadata": {},
   "outputs": [],
   "source": []
  },
  {
   "cell_type": "code",
   "execution_count": null,
   "id": "1f0f3427-4ced-4c31-93be-892895d18b1d",
   "metadata": {},
   "outputs": [],
   "source": []
  },
  {
   "cell_type": "code",
   "execution_count": null,
   "id": "dfdcbcf2-b5de-4b9b-9aea-05d97645e99e",
   "metadata": {},
   "outputs": [],
   "source": []
  }
 ],
 "metadata": {
  "kernelspec": {
   "display_name": "Python 3 (ipykernel)",
   "language": "python",
   "name": "python3"
  },
  "language_info": {
   "codemirror_mode": {
    "name": "ipython",
    "version": 3
   },
   "file_extension": ".py",
   "mimetype": "text/x-python",
   "name": "python",
   "nbconvert_exporter": "python",
   "pygments_lexer": "ipython3",
   "version": "3.13.5"
  }
 },
 "nbformat": 4,
 "nbformat_minor": 5
}
